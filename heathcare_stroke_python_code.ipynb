{
 "cells": [
  {
   "cell_type": "code",
   "execution_count": 1,
   "metadata": {},
   "outputs": [],
   "source": [
    "import pandas as pd\n",
    "import numpy as np\n",
    "import statistics \n",
    "import matplotlib.pyplot as plt\n",
    "import seaborn as sns\n",
    "import scipy.stats as stats"
   ]
  },
  {
   "cell_type": "code",
   "execution_count": 2,
   "metadata": {},
   "outputs": [],
   "source": [
    "data= pd.read_csv(\"healthcare-dataset-stroke-data.csv\")"
   ]
  },
  {
   "cell_type": "code",
   "execution_count": 3,
   "metadata": {},
   "outputs": [
    {
     "data": {
      "text/html": [
       "<div>\n",
       "<style scoped>\n",
       "    .dataframe tbody tr th:only-of-type {\n",
       "        vertical-align: middle;\n",
       "    }\n",
       "\n",
       "    .dataframe tbody tr th {\n",
       "        vertical-align: top;\n",
       "    }\n",
       "\n",
       "    .dataframe thead th {\n",
       "        text-align: right;\n",
       "    }\n",
       "</style>\n",
       "<table border=\"1\" class=\"dataframe\">\n",
       "  <thead>\n",
       "    <tr style=\"text-align: right;\">\n",
       "      <th></th>\n",
       "      <th>id</th>\n",
       "      <th>gender</th>\n",
       "      <th>age</th>\n",
       "      <th>hypertension</th>\n",
       "      <th>heart_disease</th>\n",
       "      <th>ever_married</th>\n",
       "      <th>work_type</th>\n",
       "      <th>Residence_type</th>\n",
       "      <th>avg_glucose_level</th>\n",
       "      <th>bmi</th>\n",
       "      <th>smoking_status</th>\n",
       "      <th>stroke</th>\n",
       "    </tr>\n",
       "  </thead>\n",
       "  <tbody>\n",
       "    <tr>\n",
       "      <th>0</th>\n",
       "      <td>9046</td>\n",
       "      <td>Male</td>\n",
       "      <td>67.0</td>\n",
       "      <td>0</td>\n",
       "      <td>1</td>\n",
       "      <td>Yes</td>\n",
       "      <td>Private</td>\n",
       "      <td>Urban</td>\n",
       "      <td>228.69</td>\n",
       "      <td>36.6</td>\n",
       "      <td>formerly smoked</td>\n",
       "      <td>1</td>\n",
       "    </tr>\n",
       "    <tr>\n",
       "      <th>1</th>\n",
       "      <td>51676</td>\n",
       "      <td>Female</td>\n",
       "      <td>61.0</td>\n",
       "      <td>0</td>\n",
       "      <td>0</td>\n",
       "      <td>Yes</td>\n",
       "      <td>Self-employed</td>\n",
       "      <td>Rural</td>\n",
       "      <td>202.21</td>\n",
       "      <td>NaN</td>\n",
       "      <td>never smoked</td>\n",
       "      <td>1</td>\n",
       "    </tr>\n",
       "    <tr>\n",
       "      <th>2</th>\n",
       "      <td>31112</td>\n",
       "      <td>Male</td>\n",
       "      <td>80.0</td>\n",
       "      <td>0</td>\n",
       "      <td>1</td>\n",
       "      <td>Yes</td>\n",
       "      <td>Private</td>\n",
       "      <td>Rural</td>\n",
       "      <td>105.92</td>\n",
       "      <td>32.5</td>\n",
       "      <td>never smoked</td>\n",
       "      <td>1</td>\n",
       "    </tr>\n",
       "    <tr>\n",
       "      <th>3</th>\n",
       "      <td>60182</td>\n",
       "      <td>Female</td>\n",
       "      <td>49.0</td>\n",
       "      <td>0</td>\n",
       "      <td>0</td>\n",
       "      <td>Yes</td>\n",
       "      <td>Private</td>\n",
       "      <td>Urban</td>\n",
       "      <td>171.23</td>\n",
       "      <td>34.4</td>\n",
       "      <td>smokes</td>\n",
       "      <td>1</td>\n",
       "    </tr>\n",
       "    <tr>\n",
       "      <th>4</th>\n",
       "      <td>1665</td>\n",
       "      <td>Female</td>\n",
       "      <td>79.0</td>\n",
       "      <td>1</td>\n",
       "      <td>0</td>\n",
       "      <td>Yes</td>\n",
       "      <td>Self-employed</td>\n",
       "      <td>Rural</td>\n",
       "      <td>174.12</td>\n",
       "      <td>24.0</td>\n",
       "      <td>never smoked</td>\n",
       "      <td>1</td>\n",
       "    </tr>\n",
       "  </tbody>\n",
       "</table>\n",
       "</div>"
      ],
      "text/plain": [
       "      id  gender   age  hypertension  heart_disease ever_married  \\\n",
       "0   9046    Male  67.0             0              1          Yes   \n",
       "1  51676  Female  61.0             0              0          Yes   \n",
       "2  31112    Male  80.0             0              1          Yes   \n",
       "3  60182  Female  49.0             0              0          Yes   \n",
       "4   1665  Female  79.0             1              0          Yes   \n",
       "\n",
       "       work_type Residence_type  avg_glucose_level   bmi   smoking_status  \\\n",
       "0        Private          Urban             228.69  36.6  formerly smoked   \n",
       "1  Self-employed          Rural             202.21   NaN     never smoked   \n",
       "2        Private          Rural             105.92  32.5     never smoked   \n",
       "3        Private          Urban             171.23  34.4           smokes   \n",
       "4  Self-employed          Rural             174.12  24.0     never smoked   \n",
       "\n",
       "   stroke  \n",
       "0       1  \n",
       "1       1  \n",
       "2       1  \n",
       "3       1  \n",
       "4       1  "
      ]
     },
     "execution_count": 3,
     "metadata": {},
     "output_type": "execute_result"
    }
   ],
   "source": [
    "data.head()"
   ]
  },
  {
   "cell_type": "code",
   "execution_count": 4,
   "metadata": {},
   "outputs": [
    {
     "data": {
      "text/plain": [
       "Index(['id', 'gender', 'age', 'hypertension', 'heart_disease', 'ever_married',\n",
       "       'work_type', 'Residence_type', 'avg_glucose_level', 'bmi',\n",
       "       'smoking_status', 'stroke'],\n",
       "      dtype='object')"
      ]
     },
     "execution_count": 4,
     "metadata": {},
     "output_type": "execute_result"
    }
   ],
   "source": [
    "data.columns"
   ]
  },
  {
   "cell_type": "code",
   "execution_count": 5,
   "metadata": {},
   "outputs": [],
   "source": [
    "col_num=['age','avg_glucose_level', 'bmi']"
   ]
  },
  {
   "cell_type": "markdown",
   "metadata": {},
   "source": [
    "### UNIVARIATE ANALYSIS"
   ]
  },
  {
   "cell_type": "code",
   "execution_count": 6,
   "metadata": {},
   "outputs": [
    {
     "data": {
      "text/html": [
       "<div>\n",
       "<style scoped>\n",
       "    .dataframe tbody tr th:only-of-type {\n",
       "        vertical-align: middle;\n",
       "    }\n",
       "\n",
       "    .dataframe tbody tr th {\n",
       "        vertical-align: top;\n",
       "    }\n",
       "\n",
       "    .dataframe thead th {\n",
       "        text-align: right;\n",
       "    }\n",
       "</style>\n",
       "<table border=\"1\" class=\"dataframe\">\n",
       "  <thead>\n",
       "    <tr style=\"text-align: right;\">\n",
       "      <th></th>\n",
       "      <th>age</th>\n",
       "      <th>avg_glucose_level</th>\n",
       "      <th>bmi</th>\n",
       "    </tr>\n",
       "  </thead>\n",
       "  <tbody>\n",
       "    <tr>\n",
       "      <th>count</th>\n",
       "      <td>5110.000000</td>\n",
       "      <td>5110.000000</td>\n",
       "      <td>4909.000000</td>\n",
       "    </tr>\n",
       "    <tr>\n",
       "      <th>mean</th>\n",
       "      <td>43.226614</td>\n",
       "      <td>106.147677</td>\n",
       "      <td>28.893237</td>\n",
       "    </tr>\n",
       "    <tr>\n",
       "      <th>std</th>\n",
       "      <td>22.612647</td>\n",
       "      <td>45.283560</td>\n",
       "      <td>7.854067</td>\n",
       "    </tr>\n",
       "    <tr>\n",
       "      <th>min</th>\n",
       "      <td>0.080000</td>\n",
       "      <td>55.120000</td>\n",
       "      <td>10.300000</td>\n",
       "    </tr>\n",
       "    <tr>\n",
       "      <th>25%</th>\n",
       "      <td>25.000000</td>\n",
       "      <td>77.245000</td>\n",
       "      <td>23.500000</td>\n",
       "    </tr>\n",
       "    <tr>\n",
       "      <th>50%</th>\n",
       "      <td>45.000000</td>\n",
       "      <td>91.885000</td>\n",
       "      <td>28.100000</td>\n",
       "    </tr>\n",
       "    <tr>\n",
       "      <th>75%</th>\n",
       "      <td>61.000000</td>\n",
       "      <td>114.090000</td>\n",
       "      <td>33.100000</td>\n",
       "    </tr>\n",
       "    <tr>\n",
       "      <th>max</th>\n",
       "      <td>82.000000</td>\n",
       "      <td>271.740000</td>\n",
       "      <td>97.600000</td>\n",
       "    </tr>\n",
       "  </tbody>\n",
       "</table>\n",
       "</div>"
      ],
      "text/plain": [
       "               age  avg_glucose_level          bmi\n",
       "count  5110.000000        5110.000000  4909.000000\n",
       "mean     43.226614         106.147677    28.893237\n",
       "std      22.612647          45.283560     7.854067\n",
       "min       0.080000          55.120000    10.300000\n",
       "25%      25.000000          77.245000    23.500000\n",
       "50%      45.000000          91.885000    28.100000\n",
       "75%      61.000000         114.090000    33.100000\n",
       "max      82.000000         271.740000    97.600000"
      ]
     },
     "execution_count": 6,
     "metadata": {},
     "output_type": "execute_result"
    }
   ],
   "source": [
    "data[col_num].describe()"
   ]
  },
  {
   "cell_type": "code",
   "execution_count": 7,
   "metadata": {},
   "outputs": [
    {
     "data": {
      "text/html": [
       "<div>\n",
       "<style scoped>\n",
       "    .dataframe tbody tr th:only-of-type {\n",
       "        vertical-align: middle;\n",
       "    }\n",
       "\n",
       "    .dataframe tbody tr th {\n",
       "        vertical-align: top;\n",
       "    }\n",
       "\n",
       "    .dataframe thead th {\n",
       "        text-align: right;\n",
       "    }\n",
       "</style>\n",
       "<table border=\"1\" class=\"dataframe\">\n",
       "  <thead>\n",
       "    <tr style=\"text-align: right;\">\n",
       "      <th></th>\n",
       "      <th>age</th>\n",
       "      <th>avg_glucose_level</th>\n",
       "      <th>bmi</th>\n",
       "    </tr>\n",
       "  </thead>\n",
       "  <tbody>\n",
       "    <tr>\n",
       "      <th>age</th>\n",
       "      <td>1.000000</td>\n",
       "      <td>0.238171</td>\n",
       "      <td>0.333398</td>\n",
       "    </tr>\n",
       "    <tr>\n",
       "      <th>avg_glucose_level</th>\n",
       "      <td>0.238171</td>\n",
       "      <td>1.000000</td>\n",
       "      <td>0.175502</td>\n",
       "    </tr>\n",
       "    <tr>\n",
       "      <th>bmi</th>\n",
       "      <td>0.333398</td>\n",
       "      <td>0.175502</td>\n",
       "      <td>1.000000</td>\n",
       "    </tr>\n",
       "  </tbody>\n",
       "</table>\n",
       "</div>"
      ],
      "text/plain": [
       "                        age  avg_glucose_level       bmi\n",
       "age                1.000000           0.238171  0.333398\n",
       "avg_glucose_level  0.238171           1.000000  0.175502\n",
       "bmi                0.333398           0.175502  1.000000"
      ]
     },
     "execution_count": 7,
     "metadata": {},
     "output_type": "execute_result"
    }
   ],
   "source": [
    "data[col_num].corr()"
   ]
  },
  {
   "cell_type": "code",
   "execution_count": 8,
   "metadata": {},
   "outputs": [
    {
     "data": {
      "text/plain": [
       "<AxesSubplot:>"
      ]
     },
     "execution_count": 8,
     "metadata": {},
     "output_type": "execute_result"
    },
    {
     "data": {
      "image/png": "[encoded data removed]",
      "text/plain": [
       "<Figure size 432x288 with 2 Axes>"
      ]
     },
     "metadata": {
      "needs_background": "light"
     },
     "output_type": "display_data"
    }
   ],
   "source": [
    "sns.heatmap(data[col_num].corr(),cmap='coolwarm',annot=True)"
   ]
  },
  {
   "cell_type": "code",
   "execution_count": 9,
   "metadata": {},
   "outputs": [
    {
     "data": {
      "text/plain": [
       "(5110, 12)"
      ]
     },
     "execution_count": 9,
     "metadata": {},
     "output_type": "execute_result"
    }
   ],
   "source": [
    "data.shape"
   ]
  },
  {
   "cell_type": "code",
   "execution_count": 10,
   "metadata": {},
   "outputs": [
    {
     "data": {
      "text/plain": [
       "Index(['id', 'gender', 'age', 'hypertension', 'heart_disease', 'ever_married',\n",
       "       'work_type', 'Residence_type', 'avg_glucose_level', 'bmi',\n",
       "       'smoking_status', 'stroke'],\n",
       "      dtype='object')"
      ]
     },
     "execution_count": 10,
     "metadata": {},
     "output_type": "execute_result"
    }
   ],
   "source": [
    "data.columns"
   ]
  },
  {
   "cell_type": "code",
   "execution_count": 11,
   "metadata": {},
   "outputs": [],
   "source": [
    "col=['id', 'gender', 'age', 'hypertension', 'heart_disease', 'ever_married',\n",
    "       'work_type', 'Residence_type', 'avg_glucose_level', 'bmi',\n",
    "       'smoking_status', 'stroke']"
   ]
  },
  {
   "cell_type": "code",
   "execution_count": 12,
   "metadata": {},
   "outputs": [],
   "source": [
    "col1=[ 'gender', 'hypertension', 'heart_disease', \n",
    "       'work_type', 'Residence_type',\n",
    "       'smoking_status', 'stroke']"
   ]
  },
  {
   "cell_type": "code",
   "execution_count": 13,
   "metadata": {},
   "outputs": [
    {
     "data": {
      "text/plain": [
       "id                     0\n",
       "gender                 0\n",
       "age                    0\n",
       "hypertension           0\n",
       "heart_disease          0\n",
       "ever_married           0\n",
       "work_type              0\n",
       "Residence_type         0\n",
       "avg_glucose_level      0\n",
       "bmi                  201\n",
       "smoking_status         0\n",
       "stroke                 0\n",
       "dtype: int64"
      ]
     },
     "execution_count": 13,
     "metadata": {},
     "output_type": "execute_result"
    }
   ],
   "source": [
    "data.isnull().sum()"
   ]
  },
  {
   "cell_type": "code",
   "execution_count": 14,
   "metadata": {},
   "outputs": [
    {
     "data": {
      "text/plain": [
       "gender            3\n",
       "hypertension      2\n",
       "heart_disease     2\n",
       "work_type         5\n",
       "Residence_type    2\n",
       "smoking_status    4\n",
       "stroke            2\n",
       "dtype: int64"
      ]
     },
     "execution_count": 14,
     "metadata": {},
     "output_type": "execute_result"
    }
   ],
   "source": [
    "data[col1].nunique()"
   ]
  },
  {
   "cell_type": "code",
   "execution_count": 15,
   "metadata": {},
   "outputs": [
    {
     "name": "stdout",
     "output_type": "stream",
     "text": [
      "<class 'pandas.core.frame.DataFrame'>\n",
      "RangeIndex: 5110 entries, 0 to 5109\n",
      "Data columns (total 12 columns):\n",
      " #   Column             Non-Null Count  Dtype  \n",
      "---  ------             --------------  -----  \n",
      " 0   id                 5110 non-null   int64  \n",
      " 1   gender             5110 non-null   object \n",
      " 2   age                5110 non-null   float64\n",
      " 3   hypertension       5110 non-null   int64  \n",
      " 4   heart_disease      5110 non-null   int64  \n",
      " 5   ever_married       5110 non-null   object \n",
      " 6   work_type          5110 non-null   object \n",
      " 7   Residence_type     5110 non-null   object \n",
      " 8   avg_glucose_level  5110 non-null   float64\n",
      " 9   bmi                4909 non-null   float64\n",
      " 10  smoking_status     5110 non-null   object \n",
      " 11  stroke             5110 non-null   int64  \n",
      "dtypes: float64(3), int64(4), object(5)\n",
      "memory usage: 479.2+ KB\n"
     ]
    }
   ],
   "source": [
    "data.info()"
   ]
  },
  {
   "cell_type": "code",
   "execution_count": 16,
   "metadata": {},
   "outputs": [
    {
     "name": "stdout",
     "output_type": "stream",
     "text": [
      "smoking_status:  ['formerly smoked' 'never smoked' 'smokes' 'Unknown']\n",
      "gender:  ['Male' 'Female' 'Other']\n",
      "ever_married:  ['Yes' 'No']\n",
      "work_type:  ['Private' 'Self-employed' 'Govt_job' 'children' 'Never_worked']\n",
      "Residence_type:  ['Urban' 'Rural']\n"
     ]
    }
   ],
   "source": [
    "print(f'smoking_status:  {data.smoking_status.unique()}')\n",
    "print(f'gender:  {data.gender.unique()}')\n",
    "print(f'ever_married:  {data.ever_married.unique()}')\n",
    "print(f'work_type:  {data.work_type.unique()}')\n",
    "print(f'Residence_type:  {data.Residence_type.unique()}')"
   ]
  },
  {
   "cell_type": "markdown",
   "metadata": {},
   "source": [
    "### Data exploration"
   ]
  },
  {
   "cell_type": "code",
   "execution_count": 17,
   "metadata": {},
   "outputs": [
    {
     "data": {
      "text/html": [
       "<div>\n",
       "<style scoped>\n",
       "    .dataframe tbody tr th:only-of-type {\n",
       "        vertical-align: middle;\n",
       "    }\n",
       "\n",
       "    .dataframe tbody tr th {\n",
       "        vertical-align: top;\n",
       "    }\n",
       "\n",
       "    .dataframe thead th {\n",
       "        text-align: right;\n",
       "    }\n",
       "</style>\n",
       "<table border=\"1\" class=\"dataframe\">\n",
       "  <thead>\n",
       "    <tr style=\"text-align: right;\">\n",
       "      <th></th>\n",
       "      <th>gender</th>\n",
       "    </tr>\n",
       "  </thead>\n",
       "  <tbody>\n",
       "    <tr>\n",
       "      <th>Female</th>\n",
       "      <td>2994</td>\n",
       "    </tr>\n",
       "    <tr>\n",
       "      <th>Male</th>\n",
       "      <td>2115</td>\n",
       "    </tr>\n",
       "    <tr>\n",
       "      <th>Other</th>\n",
       "      <td>1</td>\n",
       "    </tr>\n",
       "  </tbody>\n",
       "</table>\n",
       "</div>"
      ],
      "text/plain": [
       "        gender\n",
       "Female    2994\n",
       "Male      2115\n",
       "Other        1"
      ]
     },
     "execution_count": 17,
     "metadata": {},
     "output_type": "execute_result"
    }
   ],
   "source": [
    "pd.DataFrame(data.gender.value_counts())"
   ]
  },
  {
   "cell_type": "code",
   "execution_count": 18,
   "metadata": {},
   "outputs": [
    {
     "data": {
      "text/html": [
       "<div>\n",
       "<style scoped>\n",
       "    .dataframe tbody tr th:only-of-type {\n",
       "        vertical-align: middle;\n",
       "    }\n",
       "\n",
       "    .dataframe tbody tr th {\n",
       "        vertical-align: top;\n",
       "    }\n",
       "\n",
       "    .dataframe thead th {\n",
       "        text-align: right;\n",
       "    }\n",
       "</style>\n",
       "<table border=\"1\" class=\"dataframe\">\n",
       "  <thead>\n",
       "    <tr style=\"text-align: right;\">\n",
       "      <th></th>\n",
       "      <th>ever_married</th>\n",
       "    </tr>\n",
       "  </thead>\n",
       "  <tbody>\n",
       "    <tr>\n",
       "      <th>Yes</th>\n",
       "      <td>3353</td>\n",
       "    </tr>\n",
       "    <tr>\n",
       "      <th>No</th>\n",
       "      <td>1757</td>\n",
       "    </tr>\n",
       "  </tbody>\n",
       "</table>\n",
       "</div>"
      ],
      "text/plain": [
       "     ever_married\n",
       "Yes          3353\n",
       "No           1757"
      ]
     },
     "execution_count": 18,
     "metadata": {},
     "output_type": "execute_result"
    }
   ],
   "source": [
    "pd.DataFrame(data.ever_married.value_counts())"
   ]
  },
  {
   "cell_type": "code",
   "execution_count": 19,
   "metadata": {},
   "outputs": [
    {
     "data": {
      "text/html": [
       "<div>\n",
       "<style scoped>\n",
       "    .dataframe tbody tr th:only-of-type {\n",
       "        vertical-align: middle;\n",
       "    }\n",
       "\n",
       "    .dataframe tbody tr th {\n",
       "        vertical-align: top;\n",
       "    }\n",
       "\n",
       "    .dataframe thead th {\n",
       "        text-align: right;\n",
       "    }\n",
       "</style>\n",
       "<table border=\"1\" class=\"dataframe\">\n",
       "  <thead>\n",
       "    <tr style=\"text-align: right;\">\n",
       "      <th></th>\n",
       "      <th>work_type</th>\n",
       "    </tr>\n",
       "  </thead>\n",
       "  <tbody>\n",
       "    <tr>\n",
       "      <th>Private</th>\n",
       "      <td>2925</td>\n",
       "    </tr>\n",
       "    <tr>\n",
       "      <th>Self-employed</th>\n",
       "      <td>819</td>\n",
       "    </tr>\n",
       "    <tr>\n",
       "      <th>children</th>\n",
       "      <td>687</td>\n",
       "    </tr>\n",
       "    <tr>\n",
       "      <th>Govt_job</th>\n",
       "      <td>657</td>\n",
       "    </tr>\n",
       "    <tr>\n",
       "      <th>Never_worked</th>\n",
       "      <td>22</td>\n",
       "    </tr>\n",
       "  </tbody>\n",
       "</table>\n",
       "</div>"
      ],
      "text/plain": [
       "               work_type\n",
       "Private             2925\n",
       "Self-employed        819\n",
       "children             687\n",
       "Govt_job             657\n",
       "Never_worked          22"
      ]
     },
     "execution_count": 19,
     "metadata": {},
     "output_type": "execute_result"
    }
   ],
   "source": [
    "pd.DataFrame(data.work_type.value_counts())"
   ]
  },
  {
   "cell_type": "code",
   "execution_count": 20,
   "metadata": {},
   "outputs": [
    {
     "data": {
      "text/html": [
       "<div>\n",
       "<style scoped>\n",
       "    .dataframe tbody tr th:only-of-type {\n",
       "        vertical-align: middle;\n",
       "    }\n",
       "\n",
       "    .dataframe tbody tr th {\n",
       "        vertical-align: top;\n",
       "    }\n",
       "\n",
       "    .dataframe thead th {\n",
       "        text-align: right;\n",
       "    }\n",
       "</style>\n",
       "<table border=\"1\" class=\"dataframe\">\n",
       "  <thead>\n",
       "    <tr style=\"text-align: right;\">\n",
       "      <th></th>\n",
       "      <th>Residence_type</th>\n",
       "    </tr>\n",
       "  </thead>\n",
       "  <tbody>\n",
       "    <tr>\n",
       "      <th>Urban</th>\n",
       "      <td>2596</td>\n",
       "    </tr>\n",
       "    <tr>\n",
       "      <th>Rural</th>\n",
       "      <td>2514</td>\n",
       "    </tr>\n",
       "  </tbody>\n",
       "</table>\n",
       "</div>"
      ],
      "text/plain": [
       "       Residence_type\n",
       "Urban            2596\n",
       "Rural            2514"
      ]
     },
     "execution_count": 20,
     "metadata": {},
     "output_type": "execute_result"
    }
   ],
   "source": [
    "pd.DataFrame(data.Residence_type.value_counts())"
   ]
  },
  {
   "cell_type": "markdown",
   "metadata": {},
   "source": [
    "Replacing missing value of bmi with median"
   ]
  },
  {
   "cell_type": "code",
   "execution_count": 21,
   "metadata": {},
   "outputs": [],
   "source": [
    "data['bmi'].fillna(data['bmi'].median(),inplace =True)\n"
   ]
  },
  {
   "cell_type": "code",
   "execution_count": 22,
   "metadata": {},
   "outputs": [
    {
     "data": {
      "text/plain": [
       "id                   0\n",
       "gender               0\n",
       "age                  0\n",
       "hypertension         0\n",
       "heart_disease        0\n",
       "ever_married         0\n",
       "work_type            0\n",
       "Residence_type       0\n",
       "avg_glucose_level    0\n",
       "bmi                  0\n",
       "smoking_status       0\n",
       "stroke               0\n",
       "dtype: int64"
      ]
     },
     "execution_count": 22,
     "metadata": {},
     "output_type": "execute_result"
    }
   ],
   "source": [
    "data.isnull().sum()"
   ]
  },
  {
   "cell_type": "code",
   "execution_count": 23,
   "metadata": {},
   "outputs": [
    {
     "data": {
      "text/plain": [
       "never smoked       1892\n",
       "Unknown            1544\n",
       "formerly smoked     885\n",
       "smokes              789\n",
       "Name: smoking_status, dtype: int64"
      ]
     },
     "execution_count": 23,
     "metadata": {},
     "output_type": "execute_result"
    }
   ],
   "source": [
    "data['smoking_status'].value_counts()\n"
   ]
  },
  {
   "cell_type": "code",
   "execution_count": 24,
   "metadata": {},
   "outputs": [
    {
     "data": {
      "text/html": [
       "<div>\n",
       "<style scoped>\n",
       "    .dataframe tbody tr th:only-of-type {\n",
       "        vertical-align: middle;\n",
       "    }\n",
       "\n",
       "    .dataframe tbody tr th {\n",
       "        vertical-align: top;\n",
       "    }\n",
       "\n",
       "    .dataframe thead th {\n",
       "        text-align: right;\n",
       "    }\n",
       "</style>\n",
       "<table border=\"1\" class=\"dataframe\">\n",
       "  <thead>\n",
       "    <tr style=\"text-align: right;\">\n",
       "      <th></th>\n",
       "      <th>smoking_status</th>\n",
       "    </tr>\n",
       "  </thead>\n",
       "  <tbody>\n",
       "    <tr>\n",
       "      <th>never smoked</th>\n",
       "      <td>1892</td>\n",
       "    </tr>\n",
       "    <tr>\n",
       "      <th>Unknown</th>\n",
       "      <td>1544</td>\n",
       "    </tr>\n",
       "    <tr>\n",
       "      <th>formerly smoked</th>\n",
       "      <td>885</td>\n",
       "    </tr>\n",
       "    <tr>\n",
       "      <th>smokes</th>\n",
       "      <td>789</td>\n",
       "    </tr>\n",
       "  </tbody>\n",
       "</table>\n",
       "</div>"
      ],
      "text/plain": [
       "                 smoking_status\n",
       "never smoked               1892\n",
       "Unknown                    1544\n",
       "formerly smoked             885\n",
       "smokes                      789"
      ]
     },
     "execution_count": 24,
     "metadata": {},
     "output_type": "execute_result"
    }
   ],
   "source": [
    "pd.DataFrame(data.smoking_status.value_counts())"
   ]
  },
  {
   "cell_type": "code",
   "execution_count": 25,
   "metadata": {},
   "outputs": [
    {
     "name": "stderr",
     "output_type": "stream",
     "text": [
      "C:\\ProgramData\\Anaconda3\\lib\\site-packages\\seaborn\\_decorators.py:36: FutureWarning: Pass the following variable as a keyword arg: x. From version 0.12, the only valid positional argument will be `data`, and passing other arguments without an explicit keyword will result in an error or misinterpretation.\n",
      "  warnings.warn(\n"
     ]
    },
    {
     "data": {
      "text/plain": [
       "<AxesSubplot:xlabel='smoking_status', ylabel='count'>"
      ]
     },
     "execution_count": 25,
     "metadata": {},
     "output_type": "execute_result"
    },
    {
     "data": {
      "image/png": "[encoded data removed]",
      "text/plain": [
       "<Figure size 432x288 with 1 Axes>"
      ]
     },
     "metadata": {
      "needs_background": "light"
     },
     "output_type": "display_data"
    }
   ],
   "source": [
    "sns.countplot(data.smoking_status)"
   ]
  },
  {
   "cell_type": "code",
   "execution_count": 26,
   "metadata": {
    "scrolled": true
   },
   "outputs": [
    {
     "data": {
      "text/html": [
       "<div>\n",
       "<style scoped>\n",
       "    .dataframe tbody tr th:only-of-type {\n",
       "        vertical-align: middle;\n",
       "    }\n",
       "\n",
       "    .dataframe tbody tr th {\n",
       "        vertical-align: top;\n",
       "    }\n",
       "\n",
       "    .dataframe thead th {\n",
       "        text-align: right;\n",
       "    }\n",
       "</style>\n",
       "<table border=\"1\" class=\"dataframe\">\n",
       "  <thead>\n",
       "    <tr style=\"text-align: right;\">\n",
       "      <th></th>\n",
       "      <th>id</th>\n",
       "      <th>gender</th>\n",
       "      <th>age</th>\n",
       "      <th>hypertension</th>\n",
       "      <th>heart_disease</th>\n",
       "      <th>ever_married</th>\n",
       "      <th>work_type</th>\n",
       "      <th>Residence_type</th>\n",
       "      <th>avg_glucose_level</th>\n",
       "      <th>bmi</th>\n",
       "      <th>smoking_status</th>\n",
       "      <th>stroke</th>\n",
       "      <th>decile_rank_age</th>\n",
       "    </tr>\n",
       "  </thead>\n",
       "  <tbody>\n",
       "    <tr>\n",
       "      <th>0</th>\n",
       "      <td>9046</td>\n",
       "      <td>Male</td>\n",
       "      <td>67.0</td>\n",
       "      <td>0</td>\n",
       "      <td>1</td>\n",
       "      <td>Yes</td>\n",
       "      <td>Private</td>\n",
       "      <td>Urban</td>\n",
       "      <td>228.69</td>\n",
       "      <td>36.6</td>\n",
       "      <td>formerly smoked</td>\n",
       "      <td>1</td>\n",
       "      <td>8</td>\n",
       "    </tr>\n",
       "    <tr>\n",
       "      <th>1</th>\n",
       "      <td>51676</td>\n",
       "      <td>Female</td>\n",
       "      <td>61.0</td>\n",
       "      <td>0</td>\n",
       "      <td>0</td>\n",
       "      <td>Yes</td>\n",
       "      <td>Self-employed</td>\n",
       "      <td>Rural</td>\n",
       "      <td>202.21</td>\n",
       "      <td>28.1</td>\n",
       "      <td>never smoked</td>\n",
       "      <td>1</td>\n",
       "      <td>7</td>\n",
       "    </tr>\n",
       "    <tr>\n",
       "      <th>2</th>\n",
       "      <td>31112</td>\n",
       "      <td>Male</td>\n",
       "      <td>80.0</td>\n",
       "      <td>0</td>\n",
       "      <td>1</td>\n",
       "      <td>Yes</td>\n",
       "      <td>Private</td>\n",
       "      <td>Rural</td>\n",
       "      <td>105.92</td>\n",
       "      <td>32.5</td>\n",
       "      <td>never smoked</td>\n",
       "      <td>1</td>\n",
       "      <td>9</td>\n",
       "    </tr>\n",
       "    <tr>\n",
       "      <th>3</th>\n",
       "      <td>60182</td>\n",
       "      <td>Female</td>\n",
       "      <td>49.0</td>\n",
       "      <td>0</td>\n",
       "      <td>0</td>\n",
       "      <td>Yes</td>\n",
       "      <td>Private</td>\n",
       "      <td>Urban</td>\n",
       "      <td>171.23</td>\n",
       "      <td>34.4</td>\n",
       "      <td>smokes</td>\n",
       "      <td>1</td>\n",
       "      <td>5</td>\n",
       "    </tr>\n",
       "    <tr>\n",
       "      <th>4</th>\n",
       "      <td>1665</td>\n",
       "      <td>Female</td>\n",
       "      <td>79.0</td>\n",
       "      <td>1</td>\n",
       "      <td>0</td>\n",
       "      <td>Yes</td>\n",
       "      <td>Self-employed</td>\n",
       "      <td>Rural</td>\n",
       "      <td>174.12</td>\n",
       "      <td>24.0</td>\n",
       "      <td>never smoked</td>\n",
       "      <td>1</td>\n",
       "      <td>9</td>\n",
       "    </tr>\n",
       "  </tbody>\n",
       "</table>\n",
       "</div>"
      ],
      "text/plain": [
       "      id  gender   age  hypertension  heart_disease ever_married  \\\n",
       "0   9046    Male  67.0             0              1          Yes   \n",
       "1  51676  Female  61.0             0              0          Yes   \n",
       "2  31112    Male  80.0             0              1          Yes   \n",
       "3  60182  Female  49.0             0              0          Yes   \n",
       "4   1665  Female  79.0             1              0          Yes   \n",
       "\n",
       "       work_type Residence_type  avg_glucose_level   bmi   smoking_status  \\\n",
       "0        Private          Urban             228.69  36.6  formerly smoked   \n",
       "1  Self-employed          Rural             202.21  28.1     never smoked   \n",
       "2        Private          Rural             105.92  32.5     never smoked   \n",
       "3        Private          Urban             171.23  34.4           smokes   \n",
       "4  Self-employed          Rural             174.12  24.0     never smoked   \n",
       "\n",
       "   stroke  decile_rank_age  \n",
       "0       1                8  \n",
       "1       1                7  \n",
       "2       1                9  \n",
       "3       1                5  \n",
       "4       1                9  "
      ]
     },
     "execution_count": 26,
     "metadata": {},
     "output_type": "execute_result"
    }
   ],
   "source": [
    "data['decile_rank_age']= pd.qcut(data['age'],10,labels=False)\n",
    "data.head()"
   ]
  },
  {
   "cell_type": "code",
   "execution_count": 27,
   "metadata": {
    "scrolled": false
   },
   "outputs": [
    {
     "data": {
      "text/html": [
       "<div>\n",
       "<style scoped>\n",
       "    .dataframe tbody tr th:only-of-type {\n",
       "        vertical-align: middle;\n",
       "    }\n",
       "\n",
       "    .dataframe tbody tr th {\n",
       "        vertical-align: top;\n",
       "    }\n",
       "\n",
       "    .dataframe thead th {\n",
       "        text-align: right;\n",
       "    }\n",
       "</style>\n",
       "<table border=\"1\" class=\"dataframe\">\n",
       "  <thead>\n",
       "    <tr style=\"text-align: right;\">\n",
       "      <th>stroke</th>\n",
       "      <th>0</th>\n",
       "      <th>1</th>\n",
       "    </tr>\n",
       "    <tr>\n",
       "      <th>decile_rank_age</th>\n",
       "      <th></th>\n",
       "      <th></th>\n",
       "    </tr>\n",
       "  </thead>\n",
       "  <tbody>\n",
       "    <tr>\n",
       "      <th>0</th>\n",
       "      <td>99.815838</td>\n",
       "      <td>0.184162</td>\n",
       "    </tr>\n",
       "    <tr>\n",
       "      <th>1</th>\n",
       "      <td>99.792531</td>\n",
       "      <td>0.207469</td>\n",
       "    </tr>\n",
       "    <tr>\n",
       "      <th>2</th>\n",
       "      <td>100.000000</td>\n",
       "      <td>NaN</td>\n",
       "    </tr>\n",
       "    <tr>\n",
       "      <th>3</th>\n",
       "      <td>99.432892</td>\n",
       "      <td>0.567108</td>\n",
       "    </tr>\n",
       "    <tr>\n",
       "      <th>4</th>\n",
       "      <td>98.458574</td>\n",
       "      <td>1.541426</td>\n",
       "    </tr>\n",
       "    <tr>\n",
       "      <th>5</th>\n",
       "      <td>96.895787</td>\n",
       "      <td>3.104213</td>\n",
       "    </tr>\n",
       "    <tr>\n",
       "      <th>6</th>\n",
       "      <td>94.970986</td>\n",
       "      <td>5.029014</td>\n",
       "    </tr>\n",
       "    <tr>\n",
       "      <th>7</th>\n",
       "      <td>92.844365</td>\n",
       "      <td>7.155635</td>\n",
       "    </tr>\n",
       "    <tr>\n",
       "      <th>8</th>\n",
       "      <td>88.000000</td>\n",
       "      <td>12.000000</td>\n",
       "    </tr>\n",
       "    <tr>\n",
       "      <th>9</th>\n",
       "      <td>79.354839</td>\n",
       "      <td>20.645161</td>\n",
       "    </tr>\n",
       "  </tbody>\n",
       "</table>\n",
       "</div>"
      ],
      "text/plain": [
       "stroke                    0          1\n",
       "decile_rank_age                       \n",
       "0                 99.815838   0.184162\n",
       "1                 99.792531   0.207469\n",
       "2                100.000000        NaN\n",
       "3                 99.432892   0.567108\n",
       "4                 98.458574   1.541426\n",
       "5                 96.895787   3.104213\n",
       "6                 94.970986   5.029014\n",
       "7                 92.844365   7.155635\n",
       "8                 88.000000  12.000000\n",
       "9                 79.354839  20.645161"
      ]
     },
     "execution_count": 27,
     "metadata": {},
     "output_type": "execute_result"
    }
   ],
   "source": [
    "data.groupby('decile_rank_age').stroke.value_counts(normalize=True).unstack() * 100"
   ]
  },
  {
   "cell_type": "markdown",
   "metadata": {},
   "source": [
    "Replacing Unknown values of smoking_status"
   ]
  },
  {
   "cell_type": "code",
   "execution_count": 28,
   "metadata": {},
   "outputs": [
    {
     "data": {
      "text/html": [
       "<div>\n",
       "<style scoped>\n",
       "    .dataframe tbody tr th:only-of-type {\n",
       "        vertical-align: middle;\n",
       "    }\n",
       "\n",
       "    .dataframe tbody tr th {\n",
       "        vertical-align: top;\n",
       "    }\n",
       "\n",
       "    .dataframe thead th {\n",
       "        text-align: right;\n",
       "    }\n",
       "</style>\n",
       "<table border=\"1\" class=\"dataframe\">\n",
       "  <thead>\n",
       "    <tr style=\"text-align: right;\">\n",
       "      <th>smoking_status</th>\n",
       "      <th>formerly smoked</th>\n",
       "      <th>never smoked</th>\n",
       "      <th>smokes</th>\n",
       "    </tr>\n",
       "    <tr>\n",
       "      <th>decile_rank_age</th>\n",
       "      <th></th>\n",
       "      <th></th>\n",
       "      <th></th>\n",
       "    </tr>\n",
       "  </thead>\n",
       "  <tbody>\n",
       "    <tr>\n",
       "      <th>0</th>\n",
       "      <td>22.727273</td>\n",
       "      <td>72.727273</td>\n",
       "      <td>4.545455</td>\n",
       "    </tr>\n",
       "    <tr>\n",
       "      <th>1</th>\n",
       "      <td>10.077519</td>\n",
       "      <td>79.069767</td>\n",
       "      <td>10.852713</td>\n",
       "    </tr>\n",
       "    <tr>\n",
       "      <th>2</th>\n",
       "      <td>15.313225</td>\n",
       "      <td>57.076566</td>\n",
       "      <td>27.610209</td>\n",
       "    </tr>\n",
       "    <tr>\n",
       "      <th>3</th>\n",
       "      <td>18.095238</td>\n",
       "      <td>55.238095</td>\n",
       "      <td>26.666667</td>\n",
       "    </tr>\n",
       "    <tr>\n",
       "      <th>4</th>\n",
       "      <td>20.098039</td>\n",
       "      <td>52.941176</td>\n",
       "      <td>26.960784</td>\n",
       "    </tr>\n",
       "    <tr>\n",
       "      <th>5</th>\n",
       "      <td>23.369565</td>\n",
       "      <td>50.271739</td>\n",
       "      <td>26.358696</td>\n",
       "    </tr>\n",
       "    <tr>\n",
       "      <th>6</th>\n",
       "      <td>26.463700</td>\n",
       "      <td>48.477752</td>\n",
       "      <td>25.058548</td>\n",
       "    </tr>\n",
       "    <tr>\n",
       "      <th>7</th>\n",
       "      <td>33.333333</td>\n",
       "      <td>44.519016</td>\n",
       "      <td>22.147651</td>\n",
       "    </tr>\n",
       "    <tr>\n",
       "      <th>8</th>\n",
       "      <td>37.889688</td>\n",
       "      <td>45.083933</td>\n",
       "      <td>17.026379</td>\n",
       "    </tr>\n",
       "    <tr>\n",
       "      <th>9</th>\n",
       "      <td>33.695652</td>\n",
       "      <td>54.076087</td>\n",
       "      <td>12.228261</td>\n",
       "    </tr>\n",
       "  </tbody>\n",
       "</table>\n",
       "</div>"
      ],
      "text/plain": [
       "smoking_status   formerly smoked  never smoked     smokes\n",
       "decile_rank_age                                          \n",
       "0                      22.727273     72.727273   4.545455\n",
       "1                      10.077519     79.069767  10.852713\n",
       "2                      15.313225     57.076566  27.610209\n",
       "3                      18.095238     55.238095  26.666667\n",
       "4                      20.098039     52.941176  26.960784\n",
       "5                      23.369565     50.271739  26.358696\n",
       "6                      26.463700     48.477752  25.058548\n",
       "7                      33.333333     44.519016  22.147651\n",
       "8                      37.889688     45.083933  17.026379\n",
       "9                      33.695652     54.076087  12.228261"
      ]
     },
     "execution_count": 28,
     "metadata": {},
     "output_type": "execute_result"
    }
   ],
   "source": [
    "data1=pd.crosstab(data[data.smoking_status!='Unknown'].decile_rank_age,data[data.smoking_status!='Unknown'].smoking_status,normalize='index')*100\n",
    "data1"
   ]
  },
  {
   "cell_type": "code",
   "execution_count": 29,
   "metadata": {},
   "outputs": [
    {
     "data": {
      "text/html": [
       "<style  type=\"text/css\" >\n",
       "#T_e497e0e4_3b2e_11ed_a671_000d3a3e2f80row0_col0{\n",
       "            background-color:  #d1dae9;\n",
       "            color:  #000000;\n",
       "        }#T_e497e0e4_3b2e_11ed_a671_000d3a3e2f80row0_col1{\n",
       "            background-color:  #ea7b60;\n",
       "            color:  #000000;\n",
       "        }#T_e497e0e4_3b2e_11ed_a671_000d3a3e2f80row0_col2,#T_e497e0e4_3b2e_11ed_a671_000d3a3e2f80row1_col0,#T_e497e0e4_3b2e_11ed_a671_000d3a3e2f80row7_col1{\n",
       "            background-color:  #3b4cc0;\n",
       "            color:  #f1f1f1;\n",
       "        }#T_e497e0e4_3b2e_11ed_a671_000d3a3e2f80row1_col1,#T_e497e0e4_3b2e_11ed_a671_000d3a3e2f80row2_col2,#T_e497e0e4_3b2e_11ed_a671_000d3a3e2f80row8_col0{\n",
       "            background-color:  #b40426;\n",
       "            color:  #f1f1f1;\n",
       "        }#T_e497e0e4_3b2e_11ed_a671_000d3a3e2f80row1_col2,#T_e497e0e4_3b2e_11ed_a671_000d3a3e2f80row9_col1{\n",
       "            background-color:  #96b7ff;\n",
       "            color:  #000000;\n",
       "        }#T_e497e0e4_3b2e_11ed_a671_000d3a3e2f80row2_col0{\n",
       "            background-color:  #779af7;\n",
       "            color:  #000000;\n",
       "        }#T_e497e0e4_3b2e_11ed_a671_000d3a3e2f80row2_col1{\n",
       "            background-color:  #b5cdfa;\n",
       "            color:  #000000;\n",
       "        }#T_e497e0e4_3b2e_11ed_a671_000d3a3e2f80row3_col0{\n",
       "            background-color:  #9abbff;\n",
       "            color:  #000000;\n",
       "        }#T_e497e0e4_3b2e_11ed_a671_000d3a3e2f80row3_col1{\n",
       "            background-color:  #a2c1ff;\n",
       "            color:  #000000;\n",
       "        }#T_e497e0e4_3b2e_11ed_a671_000d3a3e2f80row3_col2{\n",
       "            background-color:  #c32e31;\n",
       "            color:  #f1f1f1;\n",
       "        }#T_e497e0e4_3b2e_11ed_a671_000d3a3e2f80row4_col0{\n",
       "            background-color:  #b3cdfb;\n",
       "            color:  #000000;\n",
       "        }#T_e497e0e4_3b2e_11ed_a671_000d3a3e2f80row4_col1{\n",
       "            background-color:  #8badfd;\n",
       "            color:  #000000;\n",
       "        }#T_e497e0e4_3b2e_11ed_a671_000d3a3e2f80row4_col2{\n",
       "            background-color:  #be242e;\n",
       "            color:  #f1f1f1;\n",
       "        }#T_e497e0e4_3b2e_11ed_a671_000d3a3e2f80row5_col0{\n",
       "            background-color:  #d7dce3;\n",
       "            color:  #000000;\n",
       "        }#T_e497e0e4_3b2e_11ed_a671_000d3a3e2f80row5_col1{\n",
       "            background-color:  #6f92f3;\n",
       "            color:  #000000;\n",
       "        }#T_e497e0e4_3b2e_11ed_a671_000d3a3e2f80row5_col2{\n",
       "            background-color:  #c73635;\n",
       "            color:  #f1f1f1;\n",
       "        }#T_e497e0e4_3b2e_11ed_a671_000d3a3e2f80row6_col0{\n",
       "            background-color:  #f0cdbb;\n",
       "            color:  #000000;\n",
       "        }#T_e497e0e4_3b2e_11ed_a671_000d3a3e2f80row6_col1{\n",
       "            background-color:  #5e7de7;\n",
       "            color:  #000000;\n",
       "        }#T_e497e0e4_3b2e_11ed_a671_000d3a3e2f80row6_col2{\n",
       "            background-color:  #d95847;\n",
       "            color:  #000000;\n",
       "        }#T_e497e0e4_3b2e_11ed_a671_000d3a3e2f80row7_col0{\n",
       "            background-color:  #e67259;\n",
       "            color:  #000000;\n",
       "        }#T_e497e0e4_3b2e_11ed_a671_000d3a3e2f80row7_col2{\n",
       "            background-color:  #f39475;\n",
       "            color:  #000000;\n",
       "        }#T_e497e0e4_3b2e_11ed_a671_000d3a3e2f80row8_col1{\n",
       "            background-color:  #3f53c6;\n",
       "            color:  #f1f1f1;\n",
       "        }#T_e497e0e4_3b2e_11ed_a671_000d3a3e2f80row8_col2{\n",
       "            background-color:  #e7d7ce;\n",
       "            color:  #000000;\n",
       "        }#T_e497e0e4_3b2e_11ed_a671_000d3a3e2f80row9_col0{\n",
       "            background-color:  #e36c55;\n",
       "            color:  #000000;\n",
       "        }#T_e497e0e4_3b2e_11ed_a671_000d3a3e2f80row9_col2{\n",
       "            background-color:  #aac7fd;\n",
       "            color:  #000000;\n",
       "        }</style><table id=\"T_e497e0e4_3b2e_11ed_a671_000d3a3e2f80\" ><thead>    <tr>        <th class=\"index_name level0\" >smoking_status</th>        <th class=\"col_heading level0 col0\" >formerly smoked</th>        <th class=\"col_heading level0 col1\" >never smoked</th>        <th class=\"col_heading level0 col2\" >smokes</th>    </tr>    <tr>        <th class=\"index_name level0\" >decile_rank_age</th>        <th class=\"blank\" ></th>        <th class=\"blank\" ></th>        <th class=\"blank\" ></th>    </tr></thead><tbody>\n",
       "                <tr>\n",
       "                        <th id=\"T_e497e0e4_3b2e_11ed_a671_000d3a3e2f80level0_row0\" class=\"row_heading level0 row0\" >0</th>\n",
       "                        <td id=\"T_e497e0e4_3b2e_11ed_a671_000d3a3e2f80row0_col0\" class=\"data row0 col0\" >22.727273</td>\n",
       "                        <td id=\"T_e497e0e4_3b2e_11ed_a671_000d3a3e2f80row0_col1\" class=\"data row0 col1\" >72.727273</td>\n",
       "                        <td id=\"T_e497e0e4_3b2e_11ed_a671_000d3a3e2f80row0_col2\" class=\"data row0 col2\" >4.545455</td>\n",
       "            </tr>\n",
       "            <tr>\n",
       "                        <th id=\"T_e497e0e4_3b2e_11ed_a671_000d3a3e2f80level0_row1\" class=\"row_heading level0 row1\" >1</th>\n",
       "                        <td id=\"T_e497e0e4_3b2e_11ed_a671_000d3a3e2f80row1_col0\" class=\"data row1 col0\" >10.077519</td>\n",
       "                        <td id=\"T_e497e0e4_3b2e_11ed_a671_000d3a3e2f80row1_col1\" class=\"data row1 col1\" >79.069767</td>\n",
       "                        <td id=\"T_e497e0e4_3b2e_11ed_a671_000d3a3e2f80row1_col2\" class=\"data row1 col2\" >10.852713</td>\n",
       "            </tr>\n",
       "            <tr>\n",
       "                        <th id=\"T_e497e0e4_3b2e_11ed_a671_000d3a3e2f80level0_row2\" class=\"row_heading level0 row2\" >2</th>\n",
       "                        <td id=\"T_e497e0e4_3b2e_11ed_a671_000d3a3e2f80row2_col0\" class=\"data row2 col0\" >15.313225</td>\n",
       "                        <td id=\"T_e497e0e4_3b2e_11ed_a671_000d3a3e2f80row2_col1\" class=\"data row2 col1\" >57.076566</td>\n",
       "                        <td id=\"T_e497e0e4_3b2e_11ed_a671_000d3a3e2f80row2_col2\" class=\"data row2 col2\" >27.610209</td>\n",
       "            </tr>\n",
       "            <tr>\n",
       "                        <th id=\"T_e497e0e4_3b2e_11ed_a671_000d3a3e2f80level0_row3\" class=\"row_heading level0 row3\" >3</th>\n",
       "                        <td id=\"T_e497e0e4_3b2e_11ed_a671_000d3a3e2f80row3_col0\" class=\"data row3 col0\" >18.095238</td>\n",
       "                        <td id=\"T_e497e0e4_3b2e_11ed_a671_000d3a3e2f80row3_col1\" class=\"data row3 col1\" >55.238095</td>\n",
       "                        <td id=\"T_e497e0e4_3b2e_11ed_a671_000d3a3e2f80row3_col2\" class=\"data row3 col2\" >26.666667</td>\n",
       "            </tr>\n",
       "            <tr>\n",
       "                        <th id=\"T_e497e0e4_3b2e_11ed_a671_000d3a3e2f80level0_row4\" class=\"row_heading level0 row4\" >4</th>\n",
       "                        <td id=\"T_e497e0e4_3b2e_11ed_a671_000d3a3e2f80row4_col0\" class=\"data row4 col0\" >20.098039</td>\n",
       "                        <td id=\"T_e497e0e4_3b2e_11ed_a671_000d3a3e2f80row4_col1\" class=\"data row4 col1\" >52.941176</td>\n",
       "                        <td id=\"T_e497e0e4_3b2e_11ed_a671_000d3a3e2f80row4_col2\" class=\"data row4 col2\" >26.960784</td>\n",
       "            </tr>\n",
       "            <tr>\n",
       "                        <th id=\"T_e497e0e4_3b2e_11ed_a671_000d3a3e2f80level0_row5\" class=\"row_heading level0 row5\" >5</th>\n",
       "                        <td id=\"T_e497e0e4_3b2e_11ed_a671_000d3a3e2f80row5_col0\" class=\"data row5 col0\" >23.369565</td>\n",
       "                        <td id=\"T_e497e0e4_3b2e_11ed_a671_000d3a3e2f80row5_col1\" class=\"data row5 col1\" >50.271739</td>\n",
       "                        <td id=\"T_e497e0e4_3b2e_11ed_a671_000d3a3e2f80row5_col2\" class=\"data row5 col2\" >26.358696</td>\n",
       "            </tr>\n",
       "            <tr>\n",
       "                        <th id=\"T_e497e0e4_3b2e_11ed_a671_000d3a3e2f80level0_row6\" class=\"row_heading level0 row6\" >6</th>\n",
       "                        <td id=\"T_e497e0e4_3b2e_11ed_a671_000d3a3e2f80row6_col0\" class=\"data row6 col0\" >26.463700</td>\n",
       "                        <td id=\"T_e497e0e4_3b2e_11ed_a671_000d3a3e2f80row6_col1\" class=\"data row6 col1\" >48.477752</td>\n",
       "                        <td id=\"T_e497e0e4_3b2e_11ed_a671_000d3a3e2f80row6_col2\" class=\"data row6 col2\" >25.058548</td>\n",
       "            </tr>\n",
       "            <tr>\n",
       "                        <th id=\"T_e497e0e4_3b2e_11ed_a671_000d3a3e2f80level0_row7\" class=\"row_heading level0 row7\" >7</th>\n",
       "                        <td id=\"T_e497e0e4_3b2e_11ed_a671_000d3a3e2f80row7_col0\" class=\"data row7 col0\" >33.333333</td>\n",
       "                        <td id=\"T_e497e0e4_3b2e_11ed_a671_000d3a3e2f80row7_col1\" class=\"data row7 col1\" >44.519016</td>\n",
       "                        <td id=\"T_e497e0e4_3b2e_11ed_a671_000d3a3e2f80row7_col2\" class=\"data row7 col2\" >22.147651</td>\n",
       "            </tr>\n",
       "            <tr>\n",
       "                        <th id=\"T_e497e0e4_3b2e_11ed_a671_000d3a3e2f80level0_row8\" class=\"row_heading level0 row8\" >8</th>\n",
       "                        <td id=\"T_e497e0e4_3b2e_11ed_a671_000d3a3e2f80row8_col0\" class=\"data row8 col0\" >37.889688</td>\n",
       "                        <td id=\"T_e497e0e4_3b2e_11ed_a671_000d3a3e2f80row8_col1\" class=\"data row8 col1\" >45.083933</td>\n",
       "                        <td id=\"T_e497e0e4_3b2e_11ed_a671_000d3a3e2f80row8_col2\" class=\"data row8 col2\" >17.026379</td>\n",
       "            </tr>\n",
       "            <tr>\n",
       "                        <th id=\"T_e497e0e4_3b2e_11ed_a671_000d3a3e2f80level0_row9\" class=\"row_heading level0 row9\" >9</th>\n",
       "                        <td id=\"T_e497e0e4_3b2e_11ed_a671_000d3a3e2f80row9_col0\" class=\"data row9 col0\" >33.695652</td>\n",
       "                        <td id=\"T_e497e0e4_3b2e_11ed_a671_000d3a3e2f80row9_col1\" class=\"data row9 col1\" >54.076087</td>\n",
       "                        <td id=\"T_e497e0e4_3b2e_11ed_a671_000d3a3e2f80row9_col2\" class=\"data row9 col2\" >12.228261</td>\n",
       "            </tr>\n",
       "    </tbody></table>"
      ],
      "text/plain": [
       "<pandas.io.formats.style.Styler at 0x16e71eddaf0>"
      ]
     },
     "execution_count": 29,
     "metadata": {},
     "output_type": "execute_result"
    }
   ],
   "source": [
    "data1.style.background_gradient(cmap='coolwarm')"
   ]
  },
  {
   "cell_type": "code",
   "execution_count": 30,
   "metadata": {},
   "outputs": [],
   "source": [
    "data[\"rep_smoking_status\"] = np.where(data[\"smoking_status\"] ==\"Unknown\", np.where(data.decile_rank_age>=7,\"formerly smoked\",np.where(data.decile_rank_age>=2,\"smokes\",\"never smoked\")),data[\"smoking_status\"])"
   ]
  },
  {
   "cell_type": "code",
   "execution_count": 31,
   "metadata": {},
   "outputs": [
    {
     "data": {
      "text/html": [
       "<div>\n",
       "<style scoped>\n",
       "    .dataframe tbody tr th:only-of-type {\n",
       "        vertical-align: middle;\n",
       "    }\n",
       "\n",
       "    .dataframe tbody tr th {\n",
       "        vertical-align: top;\n",
       "    }\n",
       "\n",
       "    .dataframe thead th {\n",
       "        text-align: right;\n",
       "    }\n",
       "</style>\n",
       "<table border=\"1\" class=\"dataframe\">\n",
       "  <thead>\n",
       "    <tr style=\"text-align: right;\">\n",
       "      <th></th>\n",
       "      <th>id</th>\n",
       "      <th>gender</th>\n",
       "      <th>age</th>\n",
       "      <th>hypertension</th>\n",
       "      <th>heart_disease</th>\n",
       "      <th>ever_married</th>\n",
       "      <th>work_type</th>\n",
       "      <th>Residence_type</th>\n",
       "      <th>avg_glucose_level</th>\n",
       "      <th>bmi</th>\n",
       "      <th>smoking_status</th>\n",
       "      <th>stroke</th>\n",
       "      <th>decile_rank_age</th>\n",
       "      <th>rep_smoking_status</th>\n",
       "    </tr>\n",
       "  </thead>\n",
       "  <tbody>\n",
       "    <tr>\n",
       "      <th>0</th>\n",
       "      <td>9046</td>\n",
       "      <td>Male</td>\n",
       "      <td>67.0</td>\n",
       "      <td>0</td>\n",
       "      <td>1</td>\n",
       "      <td>Yes</td>\n",
       "      <td>Private</td>\n",
       "      <td>Urban</td>\n",
       "      <td>228.69</td>\n",
       "      <td>36.6</td>\n",
       "      <td>formerly smoked</td>\n",
       "      <td>1</td>\n",
       "      <td>8</td>\n",
       "      <td>formerly smoked</td>\n",
       "    </tr>\n",
       "    <tr>\n",
       "      <th>1</th>\n",
       "      <td>51676</td>\n",
       "      <td>Female</td>\n",
       "      <td>61.0</td>\n",
       "      <td>0</td>\n",
       "      <td>0</td>\n",
       "      <td>Yes</td>\n",
       "      <td>Self-employed</td>\n",
       "      <td>Rural</td>\n",
       "      <td>202.21</td>\n",
       "      <td>28.1</td>\n",
       "      <td>never smoked</td>\n",
       "      <td>1</td>\n",
       "      <td>7</td>\n",
       "      <td>never smoked</td>\n",
       "    </tr>\n",
       "    <tr>\n",
       "      <th>2</th>\n",
       "      <td>31112</td>\n",
       "      <td>Male</td>\n",
       "      <td>80.0</td>\n",
       "      <td>0</td>\n",
       "      <td>1</td>\n",
       "      <td>Yes</td>\n",
       "      <td>Private</td>\n",
       "      <td>Rural</td>\n",
       "      <td>105.92</td>\n",
       "      <td>32.5</td>\n",
       "      <td>never smoked</td>\n",
       "      <td>1</td>\n",
       "      <td>9</td>\n",
       "      <td>never smoked</td>\n",
       "    </tr>\n",
       "    <tr>\n",
       "      <th>3</th>\n",
       "      <td>60182</td>\n",
       "      <td>Female</td>\n",
       "      <td>49.0</td>\n",
       "      <td>0</td>\n",
       "      <td>0</td>\n",
       "      <td>Yes</td>\n",
       "      <td>Private</td>\n",
       "      <td>Urban</td>\n",
       "      <td>171.23</td>\n",
       "      <td>34.4</td>\n",
       "      <td>smokes</td>\n",
       "      <td>1</td>\n",
       "      <td>5</td>\n",
       "      <td>smokes</td>\n",
       "    </tr>\n",
       "    <tr>\n",
       "      <th>4</th>\n",
       "      <td>1665</td>\n",
       "      <td>Female</td>\n",
       "      <td>79.0</td>\n",
       "      <td>1</td>\n",
       "      <td>0</td>\n",
       "      <td>Yes</td>\n",
       "      <td>Self-employed</td>\n",
       "      <td>Rural</td>\n",
       "      <td>174.12</td>\n",
       "      <td>24.0</td>\n",
       "      <td>never smoked</td>\n",
       "      <td>1</td>\n",
       "      <td>9</td>\n",
       "      <td>never smoked</td>\n",
       "    </tr>\n",
       "    <tr>\n",
       "      <th>5</th>\n",
       "      <td>56669</td>\n",
       "      <td>Male</td>\n",
       "      <td>81.0</td>\n",
       "      <td>0</td>\n",
       "      <td>0</td>\n",
       "      <td>Yes</td>\n",
       "      <td>Private</td>\n",
       "      <td>Urban</td>\n",
       "      <td>186.21</td>\n",
       "      <td>29.0</td>\n",
       "      <td>formerly smoked</td>\n",
       "      <td>1</td>\n",
       "      <td>9</td>\n",
       "      <td>formerly smoked</td>\n",
       "    </tr>\n",
       "    <tr>\n",
       "      <th>6</th>\n",
       "      <td>53882</td>\n",
       "      <td>Male</td>\n",
       "      <td>74.0</td>\n",
       "      <td>1</td>\n",
       "      <td>1</td>\n",
       "      <td>Yes</td>\n",
       "      <td>Private</td>\n",
       "      <td>Rural</td>\n",
       "      <td>70.09</td>\n",
       "      <td>27.4</td>\n",
       "      <td>never smoked</td>\n",
       "      <td>1</td>\n",
       "      <td>8</td>\n",
       "      <td>never smoked</td>\n",
       "    </tr>\n",
       "    <tr>\n",
       "      <th>7</th>\n",
       "      <td>10434</td>\n",
       "      <td>Female</td>\n",
       "      <td>69.0</td>\n",
       "      <td>0</td>\n",
       "      <td>0</td>\n",
       "      <td>No</td>\n",
       "      <td>Private</td>\n",
       "      <td>Urban</td>\n",
       "      <td>94.39</td>\n",
       "      <td>22.8</td>\n",
       "      <td>never smoked</td>\n",
       "      <td>1</td>\n",
       "      <td>8</td>\n",
       "      <td>never smoked</td>\n",
       "    </tr>\n",
       "    <tr>\n",
       "      <th>8</th>\n",
       "      <td>27419</td>\n",
       "      <td>Female</td>\n",
       "      <td>59.0</td>\n",
       "      <td>0</td>\n",
       "      <td>0</td>\n",
       "      <td>Yes</td>\n",
       "      <td>Private</td>\n",
       "      <td>Rural</td>\n",
       "      <td>76.15</td>\n",
       "      <td>28.1</td>\n",
       "      <td>Unknown</td>\n",
       "      <td>1</td>\n",
       "      <td>7</td>\n",
       "      <td>formerly smoked</td>\n",
       "    </tr>\n",
       "    <tr>\n",
       "      <th>9</th>\n",
       "      <td>60491</td>\n",
       "      <td>Female</td>\n",
       "      <td>78.0</td>\n",
       "      <td>0</td>\n",
       "      <td>0</td>\n",
       "      <td>Yes</td>\n",
       "      <td>Private</td>\n",
       "      <td>Urban</td>\n",
       "      <td>58.57</td>\n",
       "      <td>24.2</td>\n",
       "      <td>Unknown</td>\n",
       "      <td>1</td>\n",
       "      <td>9</td>\n",
       "      <td>formerly smoked</td>\n",
       "    </tr>\n",
       "    <tr>\n",
       "      <th>10</th>\n",
       "      <td>12109</td>\n",
       "      <td>Female</td>\n",
       "      <td>81.0</td>\n",
       "      <td>1</td>\n",
       "      <td>0</td>\n",
       "      <td>Yes</td>\n",
       "      <td>Private</td>\n",
       "      <td>Rural</td>\n",
       "      <td>80.43</td>\n",
       "      <td>29.7</td>\n",
       "      <td>never smoked</td>\n",
       "      <td>1</td>\n",
       "      <td>9</td>\n",
       "      <td>never smoked</td>\n",
       "    </tr>\n",
       "    <tr>\n",
       "      <th>11</th>\n",
       "      <td>12095</td>\n",
       "      <td>Female</td>\n",
       "      <td>61.0</td>\n",
       "      <td>0</td>\n",
       "      <td>1</td>\n",
       "      <td>Yes</td>\n",
       "      <td>Govt_job</td>\n",
       "      <td>Rural</td>\n",
       "      <td>120.46</td>\n",
       "      <td>36.8</td>\n",
       "      <td>smokes</td>\n",
       "      <td>1</td>\n",
       "      <td>7</td>\n",
       "      <td>smokes</td>\n",
       "    </tr>\n",
       "    <tr>\n",
       "      <th>12</th>\n",
       "      <td>12175</td>\n",
       "      <td>Female</td>\n",
       "      <td>54.0</td>\n",
       "      <td>0</td>\n",
       "      <td>0</td>\n",
       "      <td>Yes</td>\n",
       "      <td>Private</td>\n",
       "      <td>Urban</td>\n",
       "      <td>104.51</td>\n",
       "      <td>27.3</td>\n",
       "      <td>smokes</td>\n",
       "      <td>1</td>\n",
       "      <td>6</td>\n",
       "      <td>smokes</td>\n",
       "    </tr>\n",
       "    <tr>\n",
       "      <th>13</th>\n",
       "      <td>8213</td>\n",
       "      <td>Male</td>\n",
       "      <td>78.0</td>\n",
       "      <td>0</td>\n",
       "      <td>1</td>\n",
       "      <td>Yes</td>\n",
       "      <td>Private</td>\n",
       "      <td>Urban</td>\n",
       "      <td>219.84</td>\n",
       "      <td>28.1</td>\n",
       "      <td>Unknown</td>\n",
       "      <td>1</td>\n",
       "      <td>9</td>\n",
       "      <td>formerly smoked</td>\n",
       "    </tr>\n",
       "    <tr>\n",
       "      <th>14</th>\n",
       "      <td>5317</td>\n",
       "      <td>Female</td>\n",
       "      <td>79.0</td>\n",
       "      <td>0</td>\n",
       "      <td>1</td>\n",
       "      <td>Yes</td>\n",
       "      <td>Private</td>\n",
       "      <td>Urban</td>\n",
       "      <td>214.09</td>\n",
       "      <td>28.2</td>\n",
       "      <td>never smoked</td>\n",
       "      <td>1</td>\n",
       "      <td>9</td>\n",
       "      <td>never smoked</td>\n",
       "    </tr>\n",
       "    <tr>\n",
       "      <th>15</th>\n",
       "      <td>58202</td>\n",
       "      <td>Female</td>\n",
       "      <td>50.0</td>\n",
       "      <td>1</td>\n",
       "      <td>0</td>\n",
       "      <td>Yes</td>\n",
       "      <td>Self-employed</td>\n",
       "      <td>Rural</td>\n",
       "      <td>167.41</td>\n",
       "      <td>30.9</td>\n",
       "      <td>never smoked</td>\n",
       "      <td>1</td>\n",
       "      <td>5</td>\n",
       "      <td>never smoked</td>\n",
       "    </tr>\n",
       "    <tr>\n",
       "      <th>16</th>\n",
       "      <td>56112</td>\n",
       "      <td>Male</td>\n",
       "      <td>64.0</td>\n",
       "      <td>0</td>\n",
       "      <td>1</td>\n",
       "      <td>Yes</td>\n",
       "      <td>Private</td>\n",
       "      <td>Urban</td>\n",
       "      <td>191.61</td>\n",
       "      <td>37.5</td>\n",
       "      <td>smokes</td>\n",
       "      <td>1</td>\n",
       "      <td>7</td>\n",
       "      <td>smokes</td>\n",
       "    </tr>\n",
       "    <tr>\n",
       "      <th>17</th>\n",
       "      <td>34120</td>\n",
       "      <td>Male</td>\n",
       "      <td>75.0</td>\n",
       "      <td>1</td>\n",
       "      <td>0</td>\n",
       "      <td>Yes</td>\n",
       "      <td>Private</td>\n",
       "      <td>Urban</td>\n",
       "      <td>221.29</td>\n",
       "      <td>25.8</td>\n",
       "      <td>smokes</td>\n",
       "      <td>1</td>\n",
       "      <td>8</td>\n",
       "      <td>smokes</td>\n",
       "    </tr>\n",
       "    <tr>\n",
       "      <th>18</th>\n",
       "      <td>27458</td>\n",
       "      <td>Female</td>\n",
       "      <td>60.0</td>\n",
       "      <td>0</td>\n",
       "      <td>0</td>\n",
       "      <td>No</td>\n",
       "      <td>Private</td>\n",
       "      <td>Urban</td>\n",
       "      <td>89.22</td>\n",
       "      <td>37.8</td>\n",
       "      <td>never smoked</td>\n",
       "      <td>1</td>\n",
       "      <td>7</td>\n",
       "      <td>never smoked</td>\n",
       "    </tr>\n",
       "    <tr>\n",
       "      <th>19</th>\n",
       "      <td>25226</td>\n",
       "      <td>Male</td>\n",
       "      <td>57.0</td>\n",
       "      <td>0</td>\n",
       "      <td>1</td>\n",
       "      <td>No</td>\n",
       "      <td>Govt_job</td>\n",
       "      <td>Urban</td>\n",
       "      <td>217.08</td>\n",
       "      <td>28.1</td>\n",
       "      <td>Unknown</td>\n",
       "      <td>1</td>\n",
       "      <td>6</td>\n",
       "      <td>smokes</td>\n",
       "    </tr>\n",
       "    <tr>\n",
       "      <th>20</th>\n",
       "      <td>70630</td>\n",
       "      <td>Female</td>\n",
       "      <td>71.0</td>\n",
       "      <td>0</td>\n",
       "      <td>0</td>\n",
       "      <td>Yes</td>\n",
       "      <td>Govt_job</td>\n",
       "      <td>Rural</td>\n",
       "      <td>193.94</td>\n",
       "      <td>22.4</td>\n",
       "      <td>smokes</td>\n",
       "      <td>1</td>\n",
       "      <td>8</td>\n",
       "      <td>smokes</td>\n",
       "    </tr>\n",
       "    <tr>\n",
       "      <th>21</th>\n",
       "      <td>13861</td>\n",
       "      <td>Female</td>\n",
       "      <td>52.0</td>\n",
       "      <td>1</td>\n",
       "      <td>0</td>\n",
       "      <td>Yes</td>\n",
       "      <td>Self-employed</td>\n",
       "      <td>Urban</td>\n",
       "      <td>233.29</td>\n",
       "      <td>48.9</td>\n",
       "      <td>never smoked</td>\n",
       "      <td>1</td>\n",
       "      <td>6</td>\n",
       "      <td>never smoked</td>\n",
       "    </tr>\n",
       "    <tr>\n",
       "      <th>22</th>\n",
       "      <td>68794</td>\n",
       "      <td>Female</td>\n",
       "      <td>79.0</td>\n",
       "      <td>0</td>\n",
       "      <td>0</td>\n",
       "      <td>Yes</td>\n",
       "      <td>Self-employed</td>\n",
       "      <td>Urban</td>\n",
       "      <td>228.70</td>\n",
       "      <td>26.6</td>\n",
       "      <td>never smoked</td>\n",
       "      <td>1</td>\n",
       "      <td>9</td>\n",
       "      <td>never smoked</td>\n",
       "    </tr>\n",
       "    <tr>\n",
       "      <th>23</th>\n",
       "      <td>64778</td>\n",
       "      <td>Male</td>\n",
       "      <td>82.0</td>\n",
       "      <td>0</td>\n",
       "      <td>1</td>\n",
       "      <td>Yes</td>\n",
       "      <td>Private</td>\n",
       "      <td>Rural</td>\n",
       "      <td>208.30</td>\n",
       "      <td>32.5</td>\n",
       "      <td>Unknown</td>\n",
       "      <td>1</td>\n",
       "      <td>9</td>\n",
       "      <td>formerly smoked</td>\n",
       "    </tr>\n",
       "    <tr>\n",
       "      <th>24</th>\n",
       "      <td>4219</td>\n",
       "      <td>Male</td>\n",
       "      <td>71.0</td>\n",
       "      <td>0</td>\n",
       "      <td>0</td>\n",
       "      <td>Yes</td>\n",
       "      <td>Private</td>\n",
       "      <td>Urban</td>\n",
       "      <td>102.87</td>\n",
       "      <td>27.2</td>\n",
       "      <td>formerly smoked</td>\n",
       "      <td>1</td>\n",
       "      <td>8</td>\n",
       "      <td>formerly smoked</td>\n",
       "    </tr>\n",
       "    <tr>\n",
       "      <th>25</th>\n",
       "      <td>70822</td>\n",
       "      <td>Male</td>\n",
       "      <td>80.0</td>\n",
       "      <td>0</td>\n",
       "      <td>0</td>\n",
       "      <td>Yes</td>\n",
       "      <td>Self-employed</td>\n",
       "      <td>Rural</td>\n",
       "      <td>104.12</td>\n",
       "      <td>23.5</td>\n",
       "      <td>never smoked</td>\n",
       "      <td>1</td>\n",
       "      <td>9</td>\n",
       "      <td>never smoked</td>\n",
       "    </tr>\n",
       "    <tr>\n",
       "      <th>26</th>\n",
       "      <td>38047</td>\n",
       "      <td>Female</td>\n",
       "      <td>65.0</td>\n",
       "      <td>0</td>\n",
       "      <td>0</td>\n",
       "      <td>Yes</td>\n",
       "      <td>Private</td>\n",
       "      <td>Rural</td>\n",
       "      <td>100.98</td>\n",
       "      <td>28.2</td>\n",
       "      <td>formerly smoked</td>\n",
       "      <td>1</td>\n",
       "      <td>7</td>\n",
       "      <td>formerly smoked</td>\n",
       "    </tr>\n",
       "    <tr>\n",
       "      <th>27</th>\n",
       "      <td>61843</td>\n",
       "      <td>Male</td>\n",
       "      <td>58.0</td>\n",
       "      <td>0</td>\n",
       "      <td>0</td>\n",
       "      <td>Yes</td>\n",
       "      <td>Private</td>\n",
       "      <td>Rural</td>\n",
       "      <td>189.84</td>\n",
       "      <td>28.1</td>\n",
       "      <td>Unknown</td>\n",
       "      <td>1</td>\n",
       "      <td>7</td>\n",
       "      <td>formerly smoked</td>\n",
       "    </tr>\n",
       "    <tr>\n",
       "      <th>28</th>\n",
       "      <td>54827</td>\n",
       "      <td>Male</td>\n",
       "      <td>69.0</td>\n",
       "      <td>0</td>\n",
       "      <td>1</td>\n",
       "      <td>Yes</td>\n",
       "      <td>Self-employed</td>\n",
       "      <td>Urban</td>\n",
       "      <td>195.23</td>\n",
       "      <td>28.3</td>\n",
       "      <td>smokes</td>\n",
       "      <td>1</td>\n",
       "      <td>8</td>\n",
       "      <td>smokes</td>\n",
       "    </tr>\n",
       "    <tr>\n",
       "      <th>29</th>\n",
       "      <td>69160</td>\n",
       "      <td>Male</td>\n",
       "      <td>59.0</td>\n",
       "      <td>0</td>\n",
       "      <td>0</td>\n",
       "      <td>Yes</td>\n",
       "      <td>Private</td>\n",
       "      <td>Rural</td>\n",
       "      <td>211.78</td>\n",
       "      <td>28.1</td>\n",
       "      <td>formerly smoked</td>\n",
       "      <td>1</td>\n",
       "      <td>7</td>\n",
       "      <td>formerly smoked</td>\n",
       "    </tr>\n",
       "  </tbody>\n",
       "</table>\n",
       "</div>"
      ],
      "text/plain": [
       "       id  gender   age  hypertension  heart_disease ever_married  \\\n",
       "0    9046    Male  67.0             0              1          Yes   \n",
       "1   51676  Female  61.0             0              0          Yes   \n",
       "2   31112    Male  80.0             0              1          Yes   \n",
       "3   60182  Female  49.0             0              0          Yes   \n",
       "4    1665  Female  79.0             1              0          Yes   \n",
       "5   56669    Male  81.0             0              0          Yes   \n",
       "6   53882    Male  74.0             1              1          Yes   \n",
       "7   10434  Female  69.0             0              0           No   \n",
       "8   27419  Female  59.0             0              0          Yes   \n",
       "9   60491  Female  78.0             0              0          Yes   \n",
       "10  12109  Female  81.0             1              0          Yes   \n",
       "11  12095  Female  61.0             0              1          Yes   \n",
       "12  12175  Female  54.0             0              0          Yes   \n",
       "13   8213    Male  78.0             0              1          Yes   \n",
       "14   5317  Female  79.0             0              1          Yes   \n",
       "15  58202  Female  50.0             1              0          Yes   \n",
       "16  56112    Male  64.0             0              1          Yes   \n",
       "17  34120    Male  75.0             1              0          Yes   \n",
       "18  27458  Female  60.0             0              0           No   \n",
       "19  25226    Male  57.0             0              1           No   \n",
       "20  70630  Female  71.0             0              0          Yes   \n",
       "21  13861  Female  52.0             1              0          Yes   \n",
       "22  68794  Female  79.0             0              0          Yes   \n",
       "23  64778    Male  82.0             0              1          Yes   \n",
       "24   4219    Male  71.0             0              0          Yes   \n",
       "25  70822    Male  80.0             0              0          Yes   \n",
       "26  38047  Female  65.0             0              0          Yes   \n",
       "27  61843    Male  58.0             0              0          Yes   \n",
       "28  54827    Male  69.0             0              1          Yes   \n",
       "29  69160    Male  59.0             0              0          Yes   \n",
       "\n",
       "        work_type Residence_type  avg_glucose_level   bmi   smoking_status  \\\n",
       "0         Private          Urban             228.69  36.6  formerly smoked   \n",
       "1   Self-employed          Rural             202.21  28.1     never smoked   \n",
       "2         Private          Rural             105.92  32.5     never smoked   \n",
       "3         Private          Urban             171.23  34.4           smokes   \n",
       "4   Self-employed          Rural             174.12  24.0     never smoked   \n",
       "5         Private          Urban             186.21  29.0  formerly smoked   \n",
       "6         Private          Rural              70.09  27.4     never smoked   \n",
       "7         Private          Urban              94.39  22.8     never smoked   \n",
       "8         Private          Rural              76.15  28.1          Unknown   \n",
       "9         Private          Urban              58.57  24.2          Unknown   \n",
       "10        Private          Rural              80.43  29.7     never smoked   \n",
       "11       Govt_job          Rural             120.46  36.8           smokes   \n",
       "12        Private          Urban             104.51  27.3           smokes   \n",
       "13        Private          Urban             219.84  28.1          Unknown   \n",
       "14        Private          Urban             214.09  28.2     never smoked   \n",
       "15  Self-employed          Rural             167.41  30.9     never smoked   \n",
       "16        Private          Urban             191.61  37.5           smokes   \n",
       "17        Private          Urban             221.29  25.8           smokes   \n",
       "18        Private          Urban              89.22  37.8     never smoked   \n",
       "19       Govt_job          Urban             217.08  28.1          Unknown   \n",
       "20       Govt_job          Rural             193.94  22.4           smokes   \n",
       "21  Self-employed          Urban             233.29  48.9     never smoked   \n",
       "22  Self-employed          Urban             228.70  26.6     never smoked   \n",
       "23        Private          Rural             208.30  32.5          Unknown   \n",
       "24        Private          Urban             102.87  27.2  formerly smoked   \n",
       "25  Self-employed          Rural             104.12  23.5     never smoked   \n",
       "26        Private          Rural             100.98  28.2  formerly smoked   \n",
       "27        Private          Rural             189.84  28.1          Unknown   \n",
       "28  Self-employed          Urban             195.23  28.3           smokes   \n",
       "29        Private          Rural             211.78  28.1  formerly smoked   \n",
       "\n",
       "    stroke  decile_rank_age rep_smoking_status  \n",
       "0        1                8    formerly smoked  \n",
       "1        1                7       never smoked  \n",
       "2        1                9       never smoked  \n",
       "3        1                5             smokes  \n",
       "4        1                9       never smoked  \n",
       "5        1                9    formerly smoked  \n",
       "6        1                8       never smoked  \n",
       "7        1                8       never smoked  \n",
       "8        1                7    formerly smoked  \n",
       "9        1                9    formerly smoked  \n",
       "10       1                9       never smoked  \n",
       "11       1                7             smokes  \n",
       "12       1                6             smokes  \n",
       "13       1                9    formerly smoked  \n",
       "14       1                9       never smoked  \n",
       "15       1                5       never smoked  \n",
       "16       1                7             smokes  \n",
       "17       1                8             smokes  \n",
       "18       1                7       never smoked  \n",
       "19       1                6             smokes  \n",
       "20       1                8             smokes  \n",
       "21       1                6       never smoked  \n",
       "22       1                9       never smoked  \n",
       "23       1                9    formerly smoked  \n",
       "24       1                8    formerly smoked  \n",
       "25       1                9       never smoked  \n",
       "26       1                7    formerly smoked  \n",
       "27       1                7    formerly smoked  \n",
       "28       1                8             smokes  \n",
       "29       1                7    formerly smoked  "
      ]
     },
     "execution_count": 31,
     "metadata": {},
     "output_type": "execute_result"
    }
   ],
   "source": [
    "data.head(30)"
   ]
  },
  {
   "cell_type": "markdown",
   "metadata": {},
   "source": [
    "Checking Outlier"
   ]
  },
  {
   "cell_type": "code",
   "execution_count": 32,
   "metadata": {},
   "outputs": [],
   "source": [
    "def find_outliers_IQR(df):\n",
    "\n",
    "   q1=df.quantile(0.25)\n",
    "\n",
    "   q3=df.quantile(0.75)\n",
    "\n",
    "   IQR=q3-q1\n",
    "\n",
    "   outliers = df[((df<(q1-1.5*IQR)) | (df>(q3+1.5*IQR)))]\n",
    "\n",
    "   return outliers"
   ]
  },
  {
   "cell_type": "code",
   "execution_count": 33,
   "metadata": {},
   "outputs": [
    {
     "name": "stdout",
     "output_type": "stream",
     "text": [
      "No.of outliers in age: 0\n",
      "No.of outliers in avg_glucose_level: 627\n",
      "No.of outliers in bmi: 126\n"
     ]
    }
   ],
   "source": [
    "for i in col_num:\n",
    "    outliers = find_outliers_IQR(data[i])\n",
    "    print(\"No.of outliers in \"+ i +\": \" +str(len(outliers)))"
   ]
  },
  {
   "cell_type": "code",
   "execution_count": 34,
   "metadata": {},
   "outputs": [
    {
     "name": "stderr",
     "output_type": "stream",
     "text": [
      "C:\\ProgramData\\Anaconda3\\lib\\site-packages\\seaborn\\_decorators.py:36: FutureWarning: Pass the following variable as a keyword arg: x. From version 0.12, the only valid positional argument will be `data`, and passing other arguments without an explicit keyword will result in an error or misinterpretation.\n",
      "  warnings.warn(\n"
     ]
    },
    {
     "data": {
      "image/png": "[encoded data removed]",
      "text/plain": [
       "<Figure size 432x288 with 1 Axes>"
      ]
     },
     "metadata": {
      "needs_background": "light"
     },
     "output_type": "display_data"
    }
   ],
   "source": [
    "#plot the box plot  to highlight outlier\n",
    "sns.boxplot(data.bmi);"
   ]
  },
  {
   "cell_type": "code",
   "execution_count": 35,
   "metadata": {},
   "outputs": [
    {
     "name": "stderr",
     "output_type": "stream",
     "text": [
      "C:\\ProgramData\\Anaconda3\\lib\\site-packages\\seaborn\\_decorators.py:36: FutureWarning: Pass the following variable as a keyword arg: x. From version 0.12, the only valid positional argument will be `data`, and passing other arguments without an explicit keyword will result in an error or misinterpretation.\n",
      "  warnings.warn(\n"
     ]
    },
    {
     "data": {
      "image/png": "[encoded data removed]",
      "text/plain": [
       "<Figure size 432x288 with 1 Axes>"
      ]
     },
     "metadata": {
      "needs_background": "light"
     },
     "output_type": "display_data"
    }
   ],
   "source": [
    "#plot the box plot  to highlight outlier\n",
    "sns.boxplot(data.avg_glucose_level);"
   ]
  },
  {
   "cell_type": "code",
   "execution_count": 36,
   "metadata": {},
   "outputs": [
    {
     "name": "stderr",
     "output_type": "stream",
     "text": [
      "C:\\ProgramData\\Anaconda3\\lib\\site-packages\\seaborn\\_decorators.py:36: FutureWarning: Pass the following variable as a keyword arg: x. From version 0.12, the only valid positional argument will be `data`, and passing other arguments without an explicit keyword will result in an error or misinterpretation.\n",
      "  warnings.warn(\n"
     ]
    },
    {
     "data": {
      "image/png": "[encoded data removed]",
      "text/plain": [
       "<Figure size 432x288 with 1 Axes>"
      ]
     },
     "metadata": {
      "needs_background": "light"
     },
     "output_type": "display_data"
    }
   ],
   "source": [
    "#plot the box plot  to highlight outlier\n",
    "sns.boxplot(data.age);"
   ]
  },
  {
   "cell_type": "markdown",
   "metadata": {},
   "source": [
    "### BIVARIATE ANALYSIS"
   ]
  },
  {
   "cell_type": "code",
   "execution_count": 37,
   "metadata": {},
   "outputs": [
    {
     "data": {
      "text/html": [
       "<div>\n",
       "<style scoped>\n",
       "    .dataframe tbody tr th:only-of-type {\n",
       "        vertical-align: middle;\n",
       "    }\n",
       "\n",
       "    .dataframe tbody tr th {\n",
       "        vertical-align: top;\n",
       "    }\n",
       "\n",
       "    .dataframe thead th {\n",
       "        text-align: right;\n",
       "    }\n",
       "</style>\n",
       "<table border=\"1\" class=\"dataframe\">\n",
       "  <thead>\n",
       "    <tr style=\"text-align: right;\">\n",
       "      <th>stroke</th>\n",
       "      <th>0</th>\n",
       "      <th>1</th>\n",
       "    </tr>\n",
       "    <tr>\n",
       "      <th>smoking_status</th>\n",
       "      <th></th>\n",
       "      <th></th>\n",
       "    </tr>\n",
       "  </thead>\n",
       "  <tbody>\n",
       "    <tr>\n",
       "      <th>Unknown</th>\n",
       "      <td>96.955959</td>\n",
       "      <td>3.044041</td>\n",
       "    </tr>\n",
       "    <tr>\n",
       "      <th>formerly smoked</th>\n",
       "      <td>92.090395</td>\n",
       "      <td>7.909605</td>\n",
       "    </tr>\n",
       "    <tr>\n",
       "      <th>never smoked</th>\n",
       "      <td>95.243129</td>\n",
       "      <td>4.756871</td>\n",
       "    </tr>\n",
       "    <tr>\n",
       "      <th>smokes</th>\n",
       "      <td>94.676806</td>\n",
       "      <td>5.323194</td>\n",
       "    </tr>\n",
       "  </tbody>\n",
       "</table>\n",
       "</div>"
      ],
      "text/plain": [
       "stroke                   0         1\n",
       "smoking_status                      \n",
       "Unknown          96.955959  3.044041\n",
       "formerly smoked  92.090395  7.909605\n",
       "never smoked     95.243129  4.756871\n",
       "smokes           94.676806  5.323194"
      ]
     },
     "execution_count": 37,
     "metadata": {},
     "output_type": "execute_result"
    }
   ],
   "source": [
    "bystroke=data.groupby(\"smoking_status\").stroke.value_counts(normalize=True)*100\n",
    "bystroke.unstack()"
   ]
  },
  {
   "cell_type": "code",
   "execution_count": 38,
   "metadata": {},
   "outputs": [
    {
     "data": {
      "text/html": [
       "<div>\n",
       "<style scoped>\n",
       "    .dataframe tbody tr th:only-of-type {\n",
       "        vertical-align: middle;\n",
       "    }\n",
       "\n",
       "    .dataframe tbody tr th {\n",
       "        vertical-align: top;\n",
       "    }\n",
       "\n",
       "    .dataframe thead th {\n",
       "        text-align: right;\n",
       "    }\n",
       "</style>\n",
       "<table border=\"1\" class=\"dataframe\">\n",
       "  <thead>\n",
       "    <tr style=\"text-align: right;\">\n",
       "      <th>stroke</th>\n",
       "      <th>0</th>\n",
       "      <th>1</th>\n",
       "    </tr>\n",
       "    <tr>\n",
       "      <th>gender</th>\n",
       "      <th></th>\n",
       "      <th></th>\n",
       "    </tr>\n",
       "  </thead>\n",
       "  <tbody>\n",
       "    <tr>\n",
       "      <th>Female</th>\n",
       "      <td>95.290581</td>\n",
       "      <td>4.709419</td>\n",
       "    </tr>\n",
       "    <tr>\n",
       "      <th>Male</th>\n",
       "      <td>94.893617</td>\n",
       "      <td>5.106383</td>\n",
       "    </tr>\n",
       "    <tr>\n",
       "      <th>Other</th>\n",
       "      <td>100.000000</td>\n",
       "      <td>NaN</td>\n",
       "    </tr>\n",
       "  </tbody>\n",
       "</table>\n",
       "</div>"
      ],
      "text/plain": [
       "stroke           0         1\n",
       "gender                      \n",
       "Female   95.290581  4.709419\n",
       "Male     94.893617  5.106383\n",
       "Other   100.000000       NaN"
      ]
     },
     "execution_count": 38,
     "metadata": {},
     "output_type": "execute_result"
    }
   ],
   "source": [
    "bystroke=data.groupby(\"gender\").stroke.value_counts(normalize=True)*100\n",
    "bystroke.unstack()"
   ]
  },
  {
   "cell_type": "code",
   "execution_count": 39,
   "metadata": {},
   "outputs": [
    {
     "data": {
      "text/html": [
       "<div>\n",
       "<style scoped>\n",
       "    .dataframe tbody tr th:only-of-type {\n",
       "        vertical-align: middle;\n",
       "    }\n",
       "\n",
       "    .dataframe tbody tr th {\n",
       "        vertical-align: top;\n",
       "    }\n",
       "\n",
       "    .dataframe thead th {\n",
       "        text-align: right;\n",
       "    }\n",
       "</style>\n",
       "<table border=\"1\" class=\"dataframe\">\n",
       "  <thead>\n",
       "    <tr style=\"text-align: right;\">\n",
       "      <th>stroke</th>\n",
       "      <th>0</th>\n",
       "      <th>1</th>\n",
       "    </tr>\n",
       "    <tr>\n",
       "      <th>work_type</th>\n",
       "      <th></th>\n",
       "      <th></th>\n",
       "    </tr>\n",
       "  </thead>\n",
       "  <tbody>\n",
       "    <tr>\n",
       "      <th>Govt_job</th>\n",
       "      <td>94.977169</td>\n",
       "      <td>5.022831</td>\n",
       "    </tr>\n",
       "    <tr>\n",
       "      <th>Never_worked</th>\n",
       "      <td>100.000000</td>\n",
       "      <td>0.000000</td>\n",
       "    </tr>\n",
       "    <tr>\n",
       "      <th>Private</th>\n",
       "      <td>94.905983</td>\n",
       "      <td>5.094017</td>\n",
       "    </tr>\n",
       "    <tr>\n",
       "      <th>Self-employed</th>\n",
       "      <td>92.063492</td>\n",
       "      <td>7.936508</td>\n",
       "    </tr>\n",
       "    <tr>\n",
       "      <th>children</th>\n",
       "      <td>99.708879</td>\n",
       "      <td>0.291121</td>\n",
       "    </tr>\n",
       "  </tbody>\n",
       "</table>\n",
       "</div>"
      ],
      "text/plain": [
       "stroke                  0         1\n",
       "work_type                          \n",
       "Govt_job        94.977169  5.022831\n",
       "Never_worked   100.000000  0.000000\n",
       "Private         94.905983  5.094017\n",
       "Self-employed   92.063492  7.936508\n",
       "children        99.708879  0.291121"
      ]
     },
     "execution_count": 39,
     "metadata": {},
     "output_type": "execute_result"
    }
   ],
   "source": [
    "pd.crosstab(data.work_type,data.stroke,normalize='index')*100"
   ]
  },
  {
   "cell_type": "code",
   "execution_count": 40,
   "metadata": {},
   "outputs": [
    {
     "data": {
      "text/plain": [
       "<AxesSubplot:xlabel='work_type'>"
      ]
     },
     "execution_count": 40,
     "metadata": {},
     "output_type": "execute_result"
    },
    {
     "data": {
      "image/png": "[encoded data removed]",
      "text/plain": [
       "<Figure size 432x288 with 1 Axes>"
      ]
     },
     "metadata": {
      "needs_background": "light"
     },
     "output_type": "display_data"
    }
   ],
   "source": [
    "pd.crosstab(data.work_type,data.stroke,normalize='index').plot(kind='bar')"
   ]
  },
  {
   "cell_type": "code",
   "execution_count": 41,
   "metadata": {},
   "outputs": [
    {
     "data": {
      "text/html": [
       "<div>\n",
       "<style scoped>\n",
       "    .dataframe tbody tr th:only-of-type {\n",
       "        vertical-align: middle;\n",
       "    }\n",
       "\n",
       "    .dataframe tbody tr th {\n",
       "        vertical-align: top;\n",
       "    }\n",
       "\n",
       "    .dataframe thead th {\n",
       "        text-align: right;\n",
       "    }\n",
       "</style>\n",
       "<table border=\"1\" class=\"dataframe\">\n",
       "  <thead>\n",
       "    <tr style=\"text-align: right;\">\n",
       "      <th>stroke</th>\n",
       "      <th>0</th>\n",
       "      <th>1</th>\n",
       "    </tr>\n",
       "    <tr>\n",
       "      <th>work_type</th>\n",
       "      <th></th>\n",
       "      <th></th>\n",
       "    </tr>\n",
       "  </thead>\n",
       "  <tbody>\n",
       "    <tr>\n",
       "      <th>Govt_job</th>\n",
       "      <td>94.977169</td>\n",
       "      <td>5.022831</td>\n",
       "    </tr>\n",
       "    <tr>\n",
       "      <th>Never_worked</th>\n",
       "      <td>100.000000</td>\n",
       "      <td>NaN</td>\n",
       "    </tr>\n",
       "    <tr>\n",
       "      <th>Private</th>\n",
       "      <td>94.905983</td>\n",
       "      <td>5.094017</td>\n",
       "    </tr>\n",
       "    <tr>\n",
       "      <th>Self-employed</th>\n",
       "      <td>92.063492</td>\n",
       "      <td>7.936508</td>\n",
       "    </tr>\n",
       "    <tr>\n",
       "      <th>children</th>\n",
       "      <td>99.708879</td>\n",
       "      <td>0.291121</td>\n",
       "    </tr>\n",
       "  </tbody>\n",
       "</table>\n",
       "</div>"
      ],
      "text/plain": [
       "stroke                  0         1\n",
       "work_type                          \n",
       "Govt_job        94.977169  5.022831\n",
       "Never_worked   100.000000       NaN\n",
       "Private         94.905983  5.094017\n",
       "Self-employed   92.063492  7.936508\n",
       "children        99.708879  0.291121"
      ]
     },
     "execution_count": 41,
     "metadata": {},
     "output_type": "execute_result"
    }
   ],
   "source": [
    "bystroke=data.groupby(\"work_type\").stroke.value_counts(normalize=True)*100\n",
    "bystroke.unstack()"
   ]
  },
  {
   "cell_type": "code",
   "execution_count": 42,
   "metadata": {},
   "outputs": [
    {
     "data": {
      "text/html": [
       "<div>\n",
       "<style scoped>\n",
       "    .dataframe tbody tr th:only-of-type {\n",
       "        vertical-align: middle;\n",
       "    }\n",
       "\n",
       "    .dataframe tbody tr th {\n",
       "        vertical-align: top;\n",
       "    }\n",
       "\n",
       "    .dataframe thead th {\n",
       "        text-align: right;\n",
       "    }\n",
       "</style>\n",
       "<table border=\"1\" class=\"dataframe\">\n",
       "  <thead>\n",
       "    <tr style=\"text-align: right;\">\n",
       "      <th>stroke</th>\n",
       "      <th>0</th>\n",
       "      <th>1</th>\n",
       "    </tr>\n",
       "    <tr>\n",
       "      <th>Residence_type</th>\n",
       "      <th></th>\n",
       "      <th></th>\n",
       "    </tr>\n",
       "  </thead>\n",
       "  <tbody>\n",
       "    <tr>\n",
       "      <th>Rural</th>\n",
       "      <td>95.465394</td>\n",
       "      <td>4.534606</td>\n",
       "    </tr>\n",
       "    <tr>\n",
       "      <th>Urban</th>\n",
       "      <td>94.799692</td>\n",
       "      <td>5.200308</td>\n",
       "    </tr>\n",
       "  </tbody>\n",
       "</table>\n",
       "</div>"
      ],
      "text/plain": [
       "stroke                  0         1\n",
       "Residence_type                     \n",
       "Rural           95.465394  4.534606\n",
       "Urban           94.799692  5.200308"
      ]
     },
     "execution_count": 42,
     "metadata": {},
     "output_type": "execute_result"
    }
   ],
   "source": [
    "pd.crosstab(data.Residence_type,data.stroke,normalize='index')*100"
   ]
  },
  {
   "cell_type": "code",
   "execution_count": 43,
   "metadata": {},
   "outputs": [
    {
     "data": {
      "text/plain": [
       "<AxesSubplot:xlabel='Residence_type'>"
      ]
     },
     "execution_count": 43,
     "metadata": {},
     "output_type": "execute_result"
    },
    {
     "data": {
      "image/png": "[encoded data removed]",
      "text/plain": [
       "<Figure size 432x288 with 1 Axes>"
      ]
     },
     "metadata": {
      "needs_background": "light"
     },
     "output_type": "display_data"
    }
   ],
   "source": [
    "pd.crosstab(data.Residence_type,data.stroke,normalize='index').plot(kind='bar')"
   ]
  },
  {
   "cell_type": "code",
   "execution_count": 44,
   "metadata": {},
   "outputs": [
    {
     "data": {
      "text/html": [
       "<div>\n",
       "<style scoped>\n",
       "    .dataframe tbody tr th:only-of-type {\n",
       "        vertical-align: middle;\n",
       "    }\n",
       "\n",
       "    .dataframe tbody tr th {\n",
       "        vertical-align: top;\n",
       "    }\n",
       "\n",
       "    .dataframe thead th {\n",
       "        text-align: right;\n",
       "    }\n",
       "</style>\n",
       "<table border=\"1\" class=\"dataframe\">\n",
       "  <thead>\n",
       "    <tr style=\"text-align: right;\">\n",
       "      <th>stroke</th>\n",
       "      <th>0</th>\n",
       "      <th>1</th>\n",
       "    </tr>\n",
       "    <tr>\n",
       "      <th>hypertension</th>\n",
       "      <th></th>\n",
       "      <th></th>\n",
       "    </tr>\n",
       "  </thead>\n",
       "  <tbody>\n",
       "    <tr>\n",
       "      <th>0</th>\n",
       "      <td>96.032090</td>\n",
       "      <td>3.967910</td>\n",
       "    </tr>\n",
       "    <tr>\n",
       "      <th>1</th>\n",
       "      <td>86.746988</td>\n",
       "      <td>13.253012</td>\n",
       "    </tr>\n",
       "  </tbody>\n",
       "</table>\n",
       "</div>"
      ],
      "text/plain": [
       "stroke                0          1\n",
       "hypertension                      \n",
       "0             96.032090   3.967910\n",
       "1             86.746988  13.253012"
      ]
     },
     "execution_count": 44,
     "metadata": {},
     "output_type": "execute_result"
    }
   ],
   "source": [
    "pd.crosstab(data.hypertension,data.stroke,normalize='index')*100"
   ]
  },
  {
   "cell_type": "code",
   "execution_count": 45,
   "metadata": {},
   "outputs": [
    {
     "data": {
      "text/html": [
       "<div>\n",
       "<style scoped>\n",
       "    .dataframe tbody tr th:only-of-type {\n",
       "        vertical-align: middle;\n",
       "    }\n",
       "\n",
       "    .dataframe tbody tr th {\n",
       "        vertical-align: top;\n",
       "    }\n",
       "\n",
       "    .dataframe thead th {\n",
       "        text-align: right;\n",
       "    }\n",
       "</style>\n",
       "<table border=\"1\" class=\"dataframe\">\n",
       "  <thead>\n",
       "    <tr style=\"text-align: right;\">\n",
       "      <th>stroke</th>\n",
       "      <th>0</th>\n",
       "      <th>1</th>\n",
       "    </tr>\n",
       "    <tr>\n",
       "      <th>heart_disease</th>\n",
       "      <th></th>\n",
       "      <th></th>\n",
       "    </tr>\n",
       "  </thead>\n",
       "  <tbody>\n",
       "    <tr>\n",
       "      <th>0</th>\n",
       "      <td>95.821266</td>\n",
       "      <td>4.178734</td>\n",
       "    </tr>\n",
       "    <tr>\n",
       "      <th>1</th>\n",
       "      <td>82.971014</td>\n",
       "      <td>17.028986</td>\n",
       "    </tr>\n",
       "  </tbody>\n",
       "</table>\n",
       "</div>"
      ],
      "text/plain": [
       "stroke                 0          1\n",
       "heart_disease                      \n",
       "0              95.821266   4.178734\n",
       "1              82.971014  17.028986"
      ]
     },
     "execution_count": 45,
     "metadata": {},
     "output_type": "execute_result"
    }
   ],
   "source": [
    "bystroke=data.groupby(\"heart_disease\").stroke.value_counts(normalize=True)*100\n",
    "bystroke.unstack()"
   ]
  },
  {
   "cell_type": "code",
   "execution_count": 46,
   "metadata": {},
   "outputs": [
    {
     "data": {
      "text/plain": [
       "<AxesSubplot:xlabel='smoking_status', ylabel='decile_rank_age'>"
      ]
     },
     "execution_count": 46,
     "metadata": {},
     "output_type": "execute_result"
    },
    {
     "data": {
      "image/png": "[encoded data removed]",
      "text/plain": [
       "<Figure size 432x288 with 2 Axes>"
      ]
     },
     "metadata": {
      "needs_background": "light"
     },
     "output_type": "display_data"
    }
   ],
   "source": [
    "sns.heatmap(data1,linewidths=0.30)"
   ]
  },
  {
   "cell_type": "markdown",
   "metadata": {},
   "source": [
    "Chi Square Test to dependency of two categorical variables"
   ]
  },
  {
   "cell_type": "code",
   "execution_count": 47,
   "metadata": {},
   "outputs": [
    {
     "name": "stdout",
     "output_type": "stream",
     "text": [
      "The p-value approach to hypothesis testing in the decision rule\n",
      "chisquare-score is: 49.1635119766753  and p value is: 5.397707836252152e-10\n",
      "Null Hypothesis is rejected.\n"
     ]
    }
   ],
   "source": [
    "#H0-Work_type and stroke are independent\n",
    "#H1-work _type and stroke are not independent\n",
    "# create contingency table\n",
    "data_crosstab = pd.crosstab(data.work_type,\n",
    "                            data.stroke,\n",
    "                           margins=True, margins_name=\"Total\")\n",
    "\n",
    "# significance level\n",
    "alpha = 0.05\n",
    "\n",
    "# Calcualtion of Chisquare\n",
    "chi_square = 0\n",
    "rows = data.work_type.unique()\n",
    "columns = data.stroke.unique()\n",
    "for i in columns:\n",
    "    for j in rows:\n",
    "        O = data_crosstab[i][j]\n",
    "        E = data_crosstab[i]['Total'] * data_crosstab['Total'][j] / data_crosstab['Total']['Total']\n",
    "        chi_square += (O-E)**2/E\n",
    "\n",
    "# The p-value approach\n",
    "print(\"The p-value approach to hypothesis testing in the decision rule\")\n",
    "p_value = 1 - stats.chi2.cdf(chi_square, (len(rows)-1)*(len(columns)-1))\n",
    "conclusion = \"Failed to reject the null hypothesis.\"\n",
    "if p_value <= alpha:\n",
    "    conclusion = \"Null Hypothesis is rejected.\"\n",
    "        \n",
    "print(\"chisquare-score is:\", chi_square, \" and p value is:\", p_value)\n",
    "print(conclusion)"
   ]
  },
  {
   "cell_type": "code",
   "execution_count": 48,
   "metadata": {},
   "outputs": [],
   "source": [
    "from scipy.stats import chi2_contingency"
   ]
  },
  {
   "cell_type": "code",
   "execution_count": 49,
   "metadata": {},
   "outputs": [],
   "source": [
    "def chi_test(feature1,feature2,alpha):\n",
    "    df= pd.crosstab(data[feature1],data[feature2])\n",
    "    stat, p, dof, expected = chi2_contingency(df)\n",
    "\n",
    "# interpret p-value\n",
    "    print(\"p value for \"+ feature1+ \" is: \" + str(p))\n",
    "    if p <= alpha:\n",
    "        print('Dependent (reject H0)')\n",
    "    else:\n",
    "        print('Independent (H0 holds true)')\n",
    "        "
   ]
  },
  {
   "cell_type": "code",
   "execution_count": 50,
   "metadata": {
    "scrolled": true
   },
   "outputs": [
    {
     "name": "stdout",
     "output_type": "stream",
     "text": [
      "p value for gender is: 0.7895490538408245\n",
      "Independent (H0 holds true)\n",
      "\n",
      "p value for hypertension is: 1.661621901511823e-19\n",
      "Dependent (reject H0)\n",
      "\n",
      "p value for heart_disease is: 2.0887845685229236e-21\n",
      "Dependent (reject H0)\n",
      "\n",
      "p value for work_type is: 5.397707801896119e-10\n",
      "Dependent (reject H0)\n",
      "\n",
      "p value for Residence_type is: 0.29833169286876987\n",
      "Independent (H0 holds true)\n",
      "\n",
      "p value for smoking_status is: 2.0853997025008455e-06\n",
      "Dependent (reject H0)\n",
      "\n"
     ]
    }
   ],
   "source": [
    "for i in col1:\n",
    "    if i=='stroke':\n",
    "        continue\n",
    "    chi_test(i,'stroke',0.05)\n",
    "    print()"
   ]
  },
  {
   "cell_type": "code",
   "execution_count": 51,
   "metadata": {},
   "outputs": [
    {
     "data": {
      "text/html": [
       "<div>\n",
       "<style scoped>\n",
       "    .dataframe tbody tr th:only-of-type {\n",
       "        vertical-align: middle;\n",
       "    }\n",
       "\n",
       "    .dataframe tbody tr th {\n",
       "        vertical-align: top;\n",
       "    }\n",
       "\n",
       "    .dataframe thead th {\n",
       "        text-align: right;\n",
       "    }\n",
       "</style>\n",
       "<table border=\"1\" class=\"dataframe\">\n",
       "  <thead>\n",
       "    <tr style=\"text-align: right;\">\n",
       "      <th>stroke</th>\n",
       "      <th>0</th>\n",
       "      <th>1</th>\n",
       "    </tr>\n",
       "    <tr>\n",
       "      <th>decile_rank_age</th>\n",
       "      <th></th>\n",
       "      <th></th>\n",
       "    </tr>\n",
       "  </thead>\n",
       "  <tbody>\n",
       "    <tr>\n",
       "      <th>0</th>\n",
       "      <td>0.998158</td>\n",
       "      <td>0.001842</td>\n",
       "    </tr>\n",
       "    <tr>\n",
       "      <th>1</th>\n",
       "      <td>0.997925</td>\n",
       "      <td>0.002075</td>\n",
       "    </tr>\n",
       "    <tr>\n",
       "      <th>2</th>\n",
       "      <td>1.000000</td>\n",
       "      <td>0.000000</td>\n",
       "    </tr>\n",
       "    <tr>\n",
       "      <th>3</th>\n",
       "      <td>0.994329</td>\n",
       "      <td>0.005671</td>\n",
       "    </tr>\n",
       "    <tr>\n",
       "      <th>4</th>\n",
       "      <td>0.984586</td>\n",
       "      <td>0.015414</td>\n",
       "    </tr>\n",
       "    <tr>\n",
       "      <th>5</th>\n",
       "      <td>0.968958</td>\n",
       "      <td>0.031042</td>\n",
       "    </tr>\n",
       "    <tr>\n",
       "      <th>6</th>\n",
       "      <td>0.949710</td>\n",
       "      <td>0.050290</td>\n",
       "    </tr>\n",
       "    <tr>\n",
       "      <th>7</th>\n",
       "      <td>0.928444</td>\n",
       "      <td>0.071556</td>\n",
       "    </tr>\n",
       "    <tr>\n",
       "      <th>8</th>\n",
       "      <td>0.880000</td>\n",
       "      <td>0.120000</td>\n",
       "    </tr>\n",
       "    <tr>\n",
       "      <th>9</th>\n",
       "      <td>0.793548</td>\n",
       "      <td>0.206452</td>\n",
       "    </tr>\n",
       "  </tbody>\n",
       "</table>\n",
       "</div>"
      ],
      "text/plain": [
       "stroke                  0         1\n",
       "decile_rank_age                    \n",
       "0                0.998158  0.001842\n",
       "1                0.997925  0.002075\n",
       "2                1.000000  0.000000\n",
       "3                0.994329  0.005671\n",
       "4                0.984586  0.015414\n",
       "5                0.968958  0.031042\n",
       "6                0.949710  0.050290\n",
       "7                0.928444  0.071556\n",
       "8                0.880000  0.120000\n",
       "9                0.793548  0.206452"
      ]
     },
     "execution_count": 51,
     "metadata": {},
     "output_type": "execute_result"
    }
   ],
   "source": [
    "astroke=pd.crosstab(data.decile_rank_age,data.stroke,normalize='index')\n",
    "astroke"
   ]
  },
  {
   "cell_type": "markdown",
   "metadata": {},
   "source": [
    "Age_decile and stroke"
   ]
  },
  {
   "cell_type": "code",
   "execution_count": 52,
   "metadata": {
    "scrolled": true
   },
   "outputs": [
    {
     "data": {
      "text/plain": [
       "<AxesSubplot:xlabel='decile_rank_age', ylabel='1'>"
      ]
     },
     "execution_count": 52,
     "metadata": {},
     "output_type": "execute_result"
    },
    {
     "data": {
      "image/png": "[encoded data removed]",
      "text/plain": [
       "<Figure size 432x288 with 1 Axes>"
      ]
     },
     "metadata": {
      "needs_background": "light"
     },
     "output_type": "display_data"
    }
   ],
   "source": [
    "sns.regplot(x=astroke.index,y=astroke.iloc[:,1])\n",
    "sns.barplot(x= astroke.index,y=astroke.iloc[:,1])"
   ]
  },
  {
   "cell_type": "code",
   "execution_count": 53,
   "metadata": {},
   "outputs": [
    {
     "data": {
      "text/plain": [
       "<seaborn.axisgrid.FacetGrid at 0x16e725d0df0>"
      ]
     },
     "execution_count": 53,
     "metadata": {},
     "output_type": "execute_result"
    },
    {
     "data": {
      "image/png": "[encoded data removed]",
      "text/plain": [
       "<Figure size 360x360 with 1 Axes>"
      ]
     },
     "metadata": {
      "needs_background": "light"
     },
     "output_type": "display_data"
    }
   ],
   "source": [
    "sns.catplot(data=data,x=data.stroke,y=data.decile_rank_age,kind='box')"
   ]
  },
  {
   "cell_type": "markdown",
   "metadata": {},
   "source": [
    "Bmi_decile and stroke"
   ]
  },
  {
   "cell_type": "code",
   "execution_count": 54,
   "metadata": {},
   "outputs": [
    {
     "data": {
      "text/html": [
       "<div>\n",
       "<style scoped>\n",
       "    .dataframe tbody tr th:only-of-type {\n",
       "        vertical-align: middle;\n",
       "    }\n",
       "\n",
       "    .dataframe tbody tr th {\n",
       "        vertical-align: top;\n",
       "    }\n",
       "\n",
       "    .dataframe thead th {\n",
       "        text-align: right;\n",
       "    }\n",
       "</style>\n",
       "<table border=\"1\" class=\"dataframe\">\n",
       "  <thead>\n",
       "    <tr style=\"text-align: right;\">\n",
       "      <th></th>\n",
       "      <th>id</th>\n",
       "      <th>gender</th>\n",
       "      <th>age</th>\n",
       "      <th>hypertension</th>\n",
       "      <th>heart_disease</th>\n",
       "      <th>ever_married</th>\n",
       "      <th>work_type</th>\n",
       "      <th>Residence_type</th>\n",
       "      <th>avg_glucose_level</th>\n",
       "      <th>bmi</th>\n",
       "      <th>smoking_status</th>\n",
       "      <th>stroke</th>\n",
       "      <th>decile_rank_age</th>\n",
       "      <th>rep_smoking_status</th>\n",
       "      <th>bmi_decile</th>\n",
       "    </tr>\n",
       "  </thead>\n",
       "  <tbody>\n",
       "    <tr>\n",
       "      <th>0</th>\n",
       "      <td>9046</td>\n",
       "      <td>Male</td>\n",
       "      <td>67.0</td>\n",
       "      <td>0</td>\n",
       "      <td>1</td>\n",
       "      <td>Yes</td>\n",
       "      <td>Private</td>\n",
       "      <td>Urban</td>\n",
       "      <td>228.69</td>\n",
       "      <td>36.6</td>\n",
       "      <td>formerly smoked</td>\n",
       "      <td>1</td>\n",
       "      <td>8</td>\n",
       "      <td>formerly smoked</td>\n",
       "      <td>8</td>\n",
       "    </tr>\n",
       "    <tr>\n",
       "      <th>1</th>\n",
       "      <td>51676</td>\n",
       "      <td>Female</td>\n",
       "      <td>61.0</td>\n",
       "      <td>0</td>\n",
       "      <td>0</td>\n",
       "      <td>Yes</td>\n",
       "      <td>Self-employed</td>\n",
       "      <td>Rural</td>\n",
       "      <td>202.21</td>\n",
       "      <td>28.1</td>\n",
       "      <td>never smoked</td>\n",
       "      <td>1</td>\n",
       "      <td>7</td>\n",
       "      <td>never smoked</td>\n",
       "      <td>4</td>\n",
       "    </tr>\n",
       "    <tr>\n",
       "      <th>2</th>\n",
       "      <td>31112</td>\n",
       "      <td>Male</td>\n",
       "      <td>80.0</td>\n",
       "      <td>0</td>\n",
       "      <td>1</td>\n",
       "      <td>Yes</td>\n",
       "      <td>Private</td>\n",
       "      <td>Rural</td>\n",
       "      <td>105.92</td>\n",
       "      <td>32.5</td>\n",
       "      <td>never smoked</td>\n",
       "      <td>1</td>\n",
       "      <td>9</td>\n",
       "      <td>never smoked</td>\n",
       "      <td>7</td>\n",
       "    </tr>\n",
       "    <tr>\n",
       "      <th>3</th>\n",
       "      <td>60182</td>\n",
       "      <td>Female</td>\n",
       "      <td>49.0</td>\n",
       "      <td>0</td>\n",
       "      <td>0</td>\n",
       "      <td>Yes</td>\n",
       "      <td>Private</td>\n",
       "      <td>Urban</td>\n",
       "      <td>171.23</td>\n",
       "      <td>34.4</td>\n",
       "      <td>smokes</td>\n",
       "      <td>1</td>\n",
       "      <td>5</td>\n",
       "      <td>smokes</td>\n",
       "      <td>8</td>\n",
       "    </tr>\n",
       "    <tr>\n",
       "      <th>4</th>\n",
       "      <td>1665</td>\n",
       "      <td>Female</td>\n",
       "      <td>79.0</td>\n",
       "      <td>1</td>\n",
       "      <td>0</td>\n",
       "      <td>Yes</td>\n",
       "      <td>Self-employed</td>\n",
       "      <td>Rural</td>\n",
       "      <td>174.12</td>\n",
       "      <td>24.0</td>\n",
       "      <td>never smoked</td>\n",
       "      <td>1</td>\n",
       "      <td>9</td>\n",
       "      <td>never smoked</td>\n",
       "      <td>2</td>\n",
       "    </tr>\n",
       "  </tbody>\n",
       "</table>\n",
       "</div>"
      ],
      "text/plain": [
       "      id  gender   age  hypertension  heart_disease ever_married  \\\n",
       "0   9046    Male  67.0             0              1          Yes   \n",
       "1  51676  Female  61.0             0              0          Yes   \n",
       "2  31112    Male  80.0             0              1          Yes   \n",
       "3  60182  Female  49.0             0              0          Yes   \n",
       "4   1665  Female  79.0             1              0          Yes   \n",
       "\n",
       "       work_type Residence_type  avg_glucose_level   bmi   smoking_status  \\\n",
       "0        Private          Urban             228.69  36.6  formerly smoked   \n",
       "1  Self-employed          Rural             202.21  28.1     never smoked   \n",
       "2        Private          Rural             105.92  32.5     never smoked   \n",
       "3        Private          Urban             171.23  34.4           smokes   \n",
       "4  Self-employed          Rural             174.12  24.0     never smoked   \n",
       "\n",
       "   stroke  decile_rank_age rep_smoking_status  bmi_decile  \n",
       "0       1                8    formerly smoked           8  \n",
       "1       1                7       never smoked           4  \n",
       "2       1                9       never smoked           7  \n",
       "3       1                5             smokes           8  \n",
       "4       1                9       never smoked           2  "
      ]
     },
     "execution_count": 54,
     "metadata": {},
     "output_type": "execute_result"
    }
   ],
   "source": [
    "data['bmi_decile']= pd.qcut(data['bmi'],10,labels=False)\n",
    "data.head()"
   ]
  },
  {
   "cell_type": "code",
   "execution_count": 55,
   "metadata": {},
   "outputs": [
    {
     "data": {
      "text/plain": [
       "<AxesSubplot:xlabel='bmi_decile', ylabel='1'>"
      ]
     },
     "execution_count": 55,
     "metadata": {},
     "output_type": "execute_result"
    },
    {
     "data": {
      "image/png": "[encoded data removed]",
      "text/plain": [
       "<Figure size 432x288 with 1 Axes>"
      ]
     },
     "metadata": {
      "needs_background": "light"
     },
     "output_type": "display_data"
    }
   ],
   "source": [
    "bmistroke=pd.crosstab(data.bmi_decile,data.stroke,normalize='index')\n",
    "sns.barplot(x= bmistroke.index,y=bmistroke.iloc[:,1])"
   ]
  },
  {
   "cell_type": "code",
   "execution_count": 56,
   "metadata": {},
   "outputs": [
    {
     "data": {
      "text/plain": [
       "<seaborn.axisgrid.FacetGrid at 0x16e72bd5d30>"
      ]
     },
     "execution_count": 56,
     "metadata": {},
     "output_type": "execute_result"
    },
    {
     "data": {
      "image/png": "[encoded data removed]",
      "text/plain": [
       "<Figure size 360x360 with 1 Axes>"
      ]
     },
     "metadata": {
      "needs_background": "light"
     },
     "output_type": "display_data"
    }
   ],
   "source": [
    "sns.catplot(data=data,x=data.stroke,y=data.bmi_decile,kind='box')"
   ]
  },
  {
   "cell_type": "markdown",
   "metadata": {},
   "source": [
    "avg_glucose_level decile and stroke"
   ]
  },
  {
   "cell_type": "code",
   "execution_count": 57,
   "metadata": {},
   "outputs": [],
   "source": [
    "data['agl_decile']= pd.qcut(data['avg_glucose_level'],10,labels=False)\n"
   ]
  },
  {
   "cell_type": "code",
   "execution_count": 58,
   "metadata": {},
   "outputs": [
    {
     "data": {
      "text/plain": [
       "<AxesSubplot:xlabel='agl_decile', ylabel='1'>"
      ]
     },
     "execution_count": 58,
     "metadata": {},
     "output_type": "execute_result"
    },
    {
     "data": {
      "image/png": "[encoded data removed]",
      "text/plain": [
       "<Figure size 432x288 with 1 Axes>"
      ]
     },
     "metadata": {
      "needs_background": "light"
     },
     "output_type": "display_data"
    }
   ],
   "source": [
    "aglstroke=pd.crosstab(data.agl_decile,data.stroke,normalize='index')\n",
    "sns.barplot(x= aglstroke.index,y=aglstroke.iloc[:,1])"
   ]
  },
  {
   "cell_type": "code",
   "execution_count": 59,
   "metadata": {},
   "outputs": [
    {
     "data": {
      "text/plain": [
       "<seaborn.axisgrid.FacetGrid at 0x16e72c01040>"
      ]
     },
     "execution_count": 59,
     "metadata": {},
     "output_type": "execute_result"
    },
    {
     "data": {
      "image/png": "[encoded data removed]",
      "text/plain": [
       "<Figure size 360x360 with 1 Axes>"
      ]
     },
     "metadata": {
      "needs_background": "light"
     },
     "output_type": "display_data"
    }
   ],
   "source": [
    "sns.catplot(data=data,x=data.stroke,y=data.agl_decile,kind='box')"
   ]
  },
  {
   "cell_type": "code",
   "execution_count": 60,
   "metadata": {},
   "outputs": [
    {
     "name": "stdout",
     "output_type": "stream",
     "text": [
      "                        age  avg_glucose_level       bmi\n",
      "age                1.000000           0.238171  0.324296\n",
      "avg_glucose_level  0.238171           1.000000  0.166876\n",
      "bmi                0.324296           0.166876  1.000000\n"
     ]
    }
   ],
   "source": [
    "matrix = data[col_num].corr()\n",
    "print(matrix)"
   ]
  },
  {
   "cell_type": "code",
   "execution_count": 61,
   "metadata": {},
   "outputs": [
    {
     "data": {
      "text/plain": [
       "<AxesSubplot:>"
      ]
     },
     "execution_count": 61,
     "metadata": {},
     "output_type": "execute_result"
    },
    {
     "data": {
      "image/png": "[encoded data removed]",
      "text/plain": [
       "<Figure size 432x288 with 2 Axes>"
      ]
     },
     "metadata": {
      "needs_background": "light"
     },
     "output_type": "display_data"
    }
   ],
   "source": [
    "sns.heatmap(matrix,linewidths=0.30,annot=True)"
   ]
  },
  {
   "cell_type": "markdown",
   "metadata": {},
   "source": [
    "class sklearn.preprocessing.OneHotEncoder"
   ]
  },
  {
   "cell_type": "code",
   "execution_count": 62,
   "metadata": {
    "scrolled": true
   },
   "outputs": [
    {
     "data": {
      "text/html": [
       "<div>\n",
       "<style scoped>\n",
       "    .dataframe tbody tr th:only-of-type {\n",
       "        vertical-align: middle;\n",
       "    }\n",
       "\n",
       "    .dataframe tbody tr th {\n",
       "        vertical-align: top;\n",
       "    }\n",
       "\n",
       "    .dataframe thead th {\n",
       "        text-align: right;\n",
       "    }\n",
       "</style>\n",
       "<table border=\"1\" class=\"dataframe\">\n",
       "  <thead>\n",
       "    <tr style=\"text-align: right;\">\n",
       "      <th></th>\n",
       "      <th>id</th>\n",
       "      <th>gender</th>\n",
       "      <th>age</th>\n",
       "      <th>hypertension</th>\n",
       "      <th>heart_disease</th>\n",
       "      <th>ever_married</th>\n",
       "      <th>work_type</th>\n",
       "      <th>Residence_type</th>\n",
       "      <th>avg_glucose_level</th>\n",
       "      <th>bmi</th>\n",
       "      <th>smoking_status</th>\n",
       "      <th>stroke</th>\n",
       "      <th>decile_rank_age</th>\n",
       "      <th>rep_smoking_status</th>\n",
       "      <th>bmi_decile</th>\n",
       "      <th>agl_decile</th>\n",
       "      <th>0</th>\n",
       "      <th>1</th>\n",
       "      <th>2</th>\n",
       "    </tr>\n",
       "  </thead>\n",
       "  <tbody>\n",
       "    <tr>\n",
       "      <th>0</th>\n",
       "      <td>9046</td>\n",
       "      <td>Male</td>\n",
       "      <td>67.0</td>\n",
       "      <td>0</td>\n",
       "      <td>1</td>\n",
       "      <td>Yes</td>\n",
       "      <td>Private</td>\n",
       "      <td>Urban</td>\n",
       "      <td>228.69</td>\n",
       "      <td>36.6</td>\n",
       "      <td>formerly smoked</td>\n",
       "      <td>1</td>\n",
       "      <td>8</td>\n",
       "      <td>formerly smoked</td>\n",
       "      <td>8</td>\n",
       "      <td>9</td>\n",
       "      <td>1.0</td>\n",
       "      <td>0.0</td>\n",
       "      <td>0.0</td>\n",
       "    </tr>\n",
       "    <tr>\n",
       "      <th>1</th>\n",
       "      <td>51676</td>\n",
       "      <td>Female</td>\n",
       "      <td>61.0</td>\n",
       "      <td>0</td>\n",
       "      <td>0</td>\n",
       "      <td>Yes</td>\n",
       "      <td>Self-employed</td>\n",
       "      <td>Rural</td>\n",
       "      <td>202.21</td>\n",
       "      <td>28.1</td>\n",
       "      <td>never smoked</td>\n",
       "      <td>1</td>\n",
       "      <td>7</td>\n",
       "      <td>never smoked</td>\n",
       "      <td>4</td>\n",
       "      <td>9</td>\n",
       "      <td>0.0</td>\n",
       "      <td>1.0</td>\n",
       "      <td>0.0</td>\n",
       "    </tr>\n",
       "    <tr>\n",
       "      <th>2</th>\n",
       "      <td>31112</td>\n",
       "      <td>Male</td>\n",
       "      <td>80.0</td>\n",
       "      <td>0</td>\n",
       "      <td>1</td>\n",
       "      <td>Yes</td>\n",
       "      <td>Private</td>\n",
       "      <td>Rural</td>\n",
       "      <td>105.92</td>\n",
       "      <td>32.5</td>\n",
       "      <td>never smoked</td>\n",
       "      <td>1</td>\n",
       "      <td>9</td>\n",
       "      <td>never smoked</td>\n",
       "      <td>7</td>\n",
       "      <td>6</td>\n",
       "      <td>0.0</td>\n",
       "      <td>1.0</td>\n",
       "      <td>0.0</td>\n",
       "    </tr>\n",
       "    <tr>\n",
       "      <th>3</th>\n",
       "      <td>60182</td>\n",
       "      <td>Female</td>\n",
       "      <td>49.0</td>\n",
       "      <td>0</td>\n",
       "      <td>0</td>\n",
       "      <td>Yes</td>\n",
       "      <td>Private</td>\n",
       "      <td>Urban</td>\n",
       "      <td>171.23</td>\n",
       "      <td>34.4</td>\n",
       "      <td>smokes</td>\n",
       "      <td>1</td>\n",
       "      <td>5</td>\n",
       "      <td>smokes</td>\n",
       "      <td>8</td>\n",
       "      <td>8</td>\n",
       "      <td>0.0</td>\n",
       "      <td>0.0</td>\n",
       "      <td>1.0</td>\n",
       "    </tr>\n",
       "    <tr>\n",
       "      <th>4</th>\n",
       "      <td>1665</td>\n",
       "      <td>Female</td>\n",
       "      <td>79.0</td>\n",
       "      <td>1</td>\n",
       "      <td>0</td>\n",
       "      <td>Yes</td>\n",
       "      <td>Self-employed</td>\n",
       "      <td>Rural</td>\n",
       "      <td>174.12</td>\n",
       "      <td>24.0</td>\n",
       "      <td>never smoked</td>\n",
       "      <td>1</td>\n",
       "      <td>9</td>\n",
       "      <td>never smoked</td>\n",
       "      <td>2</td>\n",
       "      <td>8</td>\n",
       "      <td>0.0</td>\n",
       "      <td>1.0</td>\n",
       "      <td>0.0</td>\n",
       "    </tr>\n",
       "  </tbody>\n",
       "</table>\n",
       "</div>"
      ],
      "text/plain": [
       "      id  gender   age  hypertension  heart_disease ever_married  \\\n",
       "0   9046    Male  67.0             0              1          Yes   \n",
       "1  51676  Female  61.0             0              0          Yes   \n",
       "2  31112    Male  80.0             0              1          Yes   \n",
       "3  60182  Female  49.0             0              0          Yes   \n",
       "4   1665  Female  79.0             1              0          Yes   \n",
       "\n",
       "       work_type Residence_type  avg_glucose_level   bmi   smoking_status  \\\n",
       "0        Private          Urban             228.69  36.6  formerly smoked   \n",
       "1  Self-employed          Rural             202.21  28.1     never smoked   \n",
       "2        Private          Rural             105.92  32.5     never smoked   \n",
       "3        Private          Urban             171.23  34.4           smokes   \n",
       "4  Self-employed          Rural             174.12  24.0     never smoked   \n",
       "\n",
       "   stroke  decile_rank_age rep_smoking_status  bmi_decile  agl_decile    0  \\\n",
       "0       1                8    formerly smoked           8           9  1.0   \n",
       "1       1                7       never smoked           4           9  0.0   \n",
       "2       1                9       never smoked           7           6  0.0   \n",
       "3       1                5             smokes           8           8  0.0   \n",
       "4       1                9       never smoked           2           8  0.0   \n",
       "\n",
       "     1    2  \n",
       "0  0.0  0.0  \n",
       "1  1.0  0.0  \n",
       "2  1.0  0.0  \n",
       "3  0.0  1.0  \n",
       "4  1.0  0.0  "
      ]
     },
     "execution_count": 62,
     "metadata": {},
     "output_type": "execute_result"
    }
   ],
   "source": [
    "from sklearn.preprocessing import OneHotEncoder\n",
    "\n",
    "#creating instance of one-hot-encoder\n",
    "encoder = OneHotEncoder(handle_unknown='ignore')\n",
    "\n",
    "#perform one-hot encoding on 'rep_smoking_status' column \n",
    "encoder_data = pd.DataFrame(encoder.fit_transform(data[['rep_smoking_status']]).toarray())\n",
    "\n",
    "#merge one-hot encoded columns back with original DataFrame\n",
    "final_data = data.join(encoder_data)\n",
    "\n",
    "#view final df\n",
    "final_data.head()"
   ]
  },
  {
   "cell_type": "markdown",
   "metadata": {},
   "source": [
    "One-Hot encoding the categorical parameters using get_dummies() "
   ]
  },
  {
   "cell_type": "code",
   "execution_count": 63,
   "metadata": {
    "scrolled": true
   },
   "outputs": [
    {
     "data": {
      "text/html": [
       "<div>\n",
       "<style scoped>\n",
       "    .dataframe tbody tr th:only-of-type {\n",
       "        vertical-align: middle;\n",
       "    }\n",
       "\n",
       "    .dataframe tbody tr th {\n",
       "        vertical-align: top;\n",
       "    }\n",
       "\n",
       "    .dataframe thead th {\n",
       "        text-align: right;\n",
       "    }\n",
       "</style>\n",
       "<table border=\"1\" class=\"dataframe\">\n",
       "  <thead>\n",
       "    <tr style=\"text-align: right;\">\n",
       "      <th></th>\n",
       "      <th>id</th>\n",
       "      <th>gender</th>\n",
       "      <th>age</th>\n",
       "      <th>hypertension</th>\n",
       "      <th>heart_disease</th>\n",
       "      <th>Residence_type</th>\n",
       "      <th>avg_glucose_level</th>\n",
       "      <th>bmi</th>\n",
       "      <th>smoking_status</th>\n",
       "      <th>stroke</th>\n",
       "      <th>...</th>\n",
       "      <th>rep_smoking_status_formerly smoked</th>\n",
       "      <th>rep_smoking_status_never smoked</th>\n",
       "      <th>rep_smoking_status_smokes</th>\n",
       "      <th>work_type_Govt_job</th>\n",
       "      <th>work_type_Never_worked</th>\n",
       "      <th>work_type_Private</th>\n",
       "      <th>work_type_Self-employed</th>\n",
       "      <th>work_type_children</th>\n",
       "      <th>ever_married_No</th>\n",
       "      <th>ever_married_Yes</th>\n",
       "    </tr>\n",
       "  </thead>\n",
       "  <tbody>\n",
       "    <tr>\n",
       "      <th>0</th>\n",
       "      <td>9046</td>\n",
       "      <td>Male</td>\n",
       "      <td>67.0</td>\n",
       "      <td>0</td>\n",
       "      <td>1</td>\n",
       "      <td>Urban</td>\n",
       "      <td>228.69</td>\n",
       "      <td>36.6</td>\n",
       "      <td>formerly smoked</td>\n",
       "      <td>1</td>\n",
       "      <td>...</td>\n",
       "      <td>1</td>\n",
       "      <td>0</td>\n",
       "      <td>0</td>\n",
       "      <td>0</td>\n",
       "      <td>0</td>\n",
       "      <td>1</td>\n",
       "      <td>0</td>\n",
       "      <td>0</td>\n",
       "      <td>0</td>\n",
       "      <td>1</td>\n",
       "    </tr>\n",
       "    <tr>\n",
       "      <th>1</th>\n",
       "      <td>51676</td>\n",
       "      <td>Female</td>\n",
       "      <td>61.0</td>\n",
       "      <td>0</td>\n",
       "      <td>0</td>\n",
       "      <td>Rural</td>\n",
       "      <td>202.21</td>\n",
       "      <td>28.1</td>\n",
       "      <td>never smoked</td>\n",
       "      <td>1</td>\n",
       "      <td>...</td>\n",
       "      <td>0</td>\n",
       "      <td>1</td>\n",
       "      <td>0</td>\n",
       "      <td>0</td>\n",
       "      <td>0</td>\n",
       "      <td>0</td>\n",
       "      <td>1</td>\n",
       "      <td>0</td>\n",
       "      <td>0</td>\n",
       "      <td>1</td>\n",
       "    </tr>\n",
       "    <tr>\n",
       "      <th>2</th>\n",
       "      <td>31112</td>\n",
       "      <td>Male</td>\n",
       "      <td>80.0</td>\n",
       "      <td>0</td>\n",
       "      <td>1</td>\n",
       "      <td>Rural</td>\n",
       "      <td>105.92</td>\n",
       "      <td>32.5</td>\n",
       "      <td>never smoked</td>\n",
       "      <td>1</td>\n",
       "      <td>...</td>\n",
       "      <td>0</td>\n",
       "      <td>1</td>\n",
       "      <td>0</td>\n",
       "      <td>0</td>\n",
       "      <td>0</td>\n",
       "      <td>1</td>\n",
       "      <td>0</td>\n",
       "      <td>0</td>\n",
       "      <td>0</td>\n",
       "      <td>1</td>\n",
       "    </tr>\n",
       "    <tr>\n",
       "      <th>3</th>\n",
       "      <td>60182</td>\n",
       "      <td>Female</td>\n",
       "      <td>49.0</td>\n",
       "      <td>0</td>\n",
       "      <td>0</td>\n",
       "      <td>Urban</td>\n",
       "      <td>171.23</td>\n",
       "      <td>34.4</td>\n",
       "      <td>smokes</td>\n",
       "      <td>1</td>\n",
       "      <td>...</td>\n",
       "      <td>0</td>\n",
       "      <td>0</td>\n",
       "      <td>1</td>\n",
       "      <td>0</td>\n",
       "      <td>0</td>\n",
       "      <td>1</td>\n",
       "      <td>0</td>\n",
       "      <td>0</td>\n",
       "      <td>0</td>\n",
       "      <td>1</td>\n",
       "    </tr>\n",
       "    <tr>\n",
       "      <th>4</th>\n",
       "      <td>1665</td>\n",
       "      <td>Female</td>\n",
       "      <td>79.0</td>\n",
       "      <td>1</td>\n",
       "      <td>0</td>\n",
       "      <td>Rural</td>\n",
       "      <td>174.12</td>\n",
       "      <td>24.0</td>\n",
       "      <td>never smoked</td>\n",
       "      <td>1</td>\n",
       "      <td>...</td>\n",
       "      <td>0</td>\n",
       "      <td>1</td>\n",
       "      <td>0</td>\n",
       "      <td>0</td>\n",
       "      <td>0</td>\n",
       "      <td>0</td>\n",
       "      <td>1</td>\n",
       "      <td>0</td>\n",
       "      <td>0</td>\n",
       "      <td>1</td>\n",
       "    </tr>\n",
       "  </tbody>\n",
       "</table>\n",
       "<p>5 rows × 23 columns</p>\n",
       "</div>"
      ],
      "text/plain": [
       "      id  gender   age  hypertension  heart_disease Residence_type  \\\n",
       "0   9046    Male  67.0             0              1          Urban   \n",
       "1  51676  Female  61.0             0              0          Rural   \n",
       "2  31112    Male  80.0             0              1          Rural   \n",
       "3  60182  Female  49.0             0              0          Urban   \n",
       "4   1665  Female  79.0             1              0          Rural   \n",
       "\n",
       "   avg_glucose_level   bmi   smoking_status  stroke  ...  \\\n",
       "0             228.69  36.6  formerly smoked       1  ...   \n",
       "1             202.21  28.1     never smoked       1  ...   \n",
       "2             105.92  32.5     never smoked       1  ...   \n",
       "3             171.23  34.4           smokes       1  ...   \n",
       "4             174.12  24.0     never smoked       1  ...   \n",
       "\n",
       "   rep_smoking_status_formerly smoked  rep_smoking_status_never smoked  \\\n",
       "0                                   1                                0   \n",
       "1                                   0                                1   \n",
       "2                                   0                                1   \n",
       "3                                   0                                0   \n",
       "4                                   0                                1   \n",
       "\n",
       "   rep_smoking_status_smokes  work_type_Govt_job  work_type_Never_worked  \\\n",
       "0                          0                   0                       0   \n",
       "1                          0                   0                       0   \n",
       "2                          0                   0                       0   \n",
       "3                          1                   0                       0   \n",
       "4                          0                   0                       0   \n",
       "\n",
       "   work_type_Private  work_type_Self-employed  work_type_children  \\\n",
       "0                  1                        0                   0   \n",
       "1                  0                        1                   0   \n",
       "2                  1                        0                   0   \n",
       "3                  1                        0                   0   \n",
       "4                  0                        1                   0   \n",
       "\n",
       "   ever_married_No  ever_married_Yes  \n",
       "0                0                 1  \n",
       "1                0                 1  \n",
       "2                0                 1  \n",
       "3                0                 1  \n",
       "4                0                 1  \n",
       "\n",
       "[5 rows x 23 columns]"
      ]
     },
     "execution_count": 63,
     "metadata": {},
     "output_type": "execute_result"
    }
   ],
   "source": [
    "one_hot_encoded_data = pd.get_dummies(data, columns = ['rep_smoking_status', 'work_type','ever_married'])\n",
    "one_hot_encoded_data.head()"
   ]
  },
  {
   "cell_type": "code",
   "execution_count": 64,
   "metadata": {
    "scrolled": true
   },
   "outputs": [
    {
     "data": {
      "text/plain": [
       "Index(['id', 'gender', 'age', 'hypertension', 'heart_disease',\n",
       "       'Residence_type', 'avg_glucose_level', 'bmi', 'smoking_status',\n",
       "       'stroke', 'decile_rank_age', 'bmi_decile', 'agl_decile',\n",
       "       'rep_smoking_status_formerly smoked', 'rep_smoking_status_never smoked',\n",
       "       'rep_smoking_status_smokes', 'work_type_Govt_job',\n",
       "       'work_type_Never_worked', 'work_type_Private',\n",
       "       'work_type_Self-employed', 'work_type_children', 'ever_married_No',\n",
       "       'ever_married_Yes'],\n",
       "      dtype='object')"
      ]
     },
     "execution_count": 64,
     "metadata": {},
     "output_type": "execute_result"
    }
   ],
   "source": [
    "one_hot_encoded_data.columns"
   ]
  },
  {
   "cell_type": "code",
   "execution_count": 65,
   "metadata": {},
   "outputs": [],
   "source": [
    "data_f = one_hot_encoded_data[['age', 'hypertension','heart_disease','avg_glucose_level','rep_smoking_status_formerly smoked','rep_smoking_status_never smoked','work_type_Govt_job',\n",
    "       'work_type_Never_worked', 'work_type_Private',\n",
    "       'work_type_Self-employed', \n",
    "       'ever_married_Yes','stroke']]"
   ]
  },
  {
   "cell_type": "code",
   "execution_count": 66,
   "metadata": {},
   "outputs": [
    {
     "data": {
      "text/html": [
       "<div>\n",
       "<style scoped>\n",
       "    .dataframe tbody tr th:only-of-type {\n",
       "        vertical-align: middle;\n",
       "    }\n",
       "\n",
       "    .dataframe tbody tr th {\n",
       "        vertical-align: top;\n",
       "    }\n",
       "\n",
       "    .dataframe thead th {\n",
       "        text-align: right;\n",
       "    }\n",
       "</style>\n",
       "<table border=\"1\" class=\"dataframe\">\n",
       "  <thead>\n",
       "    <tr style=\"text-align: right;\">\n",
       "      <th></th>\n",
       "      <th>age</th>\n",
       "      <th>hypertension</th>\n",
       "      <th>heart_disease</th>\n",
       "      <th>avg_glucose_level</th>\n",
       "      <th>rep_smoking_status_formerly smoked</th>\n",
       "      <th>rep_smoking_status_never smoked</th>\n",
       "      <th>work_type_Govt_job</th>\n",
       "      <th>work_type_Never_worked</th>\n",
       "      <th>work_type_Private</th>\n",
       "      <th>work_type_Self-employed</th>\n",
       "      <th>ever_married_Yes</th>\n",
       "      <th>stroke</th>\n",
       "    </tr>\n",
       "  </thead>\n",
       "  <tbody>\n",
       "    <tr>\n",
       "      <th>0</th>\n",
       "      <td>67.0</td>\n",
       "      <td>0</td>\n",
       "      <td>1</td>\n",
       "      <td>228.69</td>\n",
       "      <td>1</td>\n",
       "      <td>0</td>\n",
       "      <td>0</td>\n",
       "      <td>0</td>\n",
       "      <td>1</td>\n",
       "      <td>0</td>\n",
       "      <td>1</td>\n",
       "      <td>1</td>\n",
       "    </tr>\n",
       "    <tr>\n",
       "      <th>1</th>\n",
       "      <td>61.0</td>\n",
       "      <td>0</td>\n",
       "      <td>0</td>\n",
       "      <td>202.21</td>\n",
       "      <td>0</td>\n",
       "      <td>1</td>\n",
       "      <td>0</td>\n",
       "      <td>0</td>\n",
       "      <td>0</td>\n",
       "      <td>1</td>\n",
       "      <td>1</td>\n",
       "      <td>1</td>\n",
       "    </tr>\n",
       "    <tr>\n",
       "      <th>2</th>\n",
       "      <td>80.0</td>\n",
       "      <td>0</td>\n",
       "      <td>1</td>\n",
       "      <td>105.92</td>\n",
       "      <td>0</td>\n",
       "      <td>1</td>\n",
       "      <td>0</td>\n",
       "      <td>0</td>\n",
       "      <td>1</td>\n",
       "      <td>0</td>\n",
       "      <td>1</td>\n",
       "      <td>1</td>\n",
       "    </tr>\n",
       "    <tr>\n",
       "      <th>3</th>\n",
       "      <td>49.0</td>\n",
       "      <td>0</td>\n",
       "      <td>0</td>\n",
       "      <td>171.23</td>\n",
       "      <td>0</td>\n",
       "      <td>0</td>\n",
       "      <td>0</td>\n",
       "      <td>0</td>\n",
       "      <td>1</td>\n",
       "      <td>0</td>\n",
       "      <td>1</td>\n",
       "      <td>1</td>\n",
       "    </tr>\n",
       "    <tr>\n",
       "      <th>4</th>\n",
       "      <td>79.0</td>\n",
       "      <td>1</td>\n",
       "      <td>0</td>\n",
       "      <td>174.12</td>\n",
       "      <td>0</td>\n",
       "      <td>1</td>\n",
       "      <td>0</td>\n",
       "      <td>0</td>\n",
       "      <td>0</td>\n",
       "      <td>1</td>\n",
       "      <td>1</td>\n",
       "      <td>1</td>\n",
       "    </tr>\n",
       "  </tbody>\n",
       "</table>\n",
       "</div>"
      ],
      "text/plain": [
       "    age  hypertension  heart_disease  avg_glucose_level  \\\n",
       "0  67.0             0              1             228.69   \n",
       "1  61.0             0              0             202.21   \n",
       "2  80.0             0              1             105.92   \n",
       "3  49.0             0              0             171.23   \n",
       "4  79.0             1              0             174.12   \n",
       "\n",
       "   rep_smoking_status_formerly smoked  rep_smoking_status_never smoked  \\\n",
       "0                                   1                                0   \n",
       "1                                   0                                1   \n",
       "2                                   0                                1   \n",
       "3                                   0                                0   \n",
       "4                                   0                                1   \n",
       "\n",
       "   work_type_Govt_job  work_type_Never_worked  work_type_Private  \\\n",
       "0                   0                       0                  1   \n",
       "1                   0                       0                  0   \n",
       "2                   0                       0                  1   \n",
       "3                   0                       0                  1   \n",
       "4                   0                       0                  0   \n",
       "\n",
       "   work_type_Self-employed  ever_married_Yes  stroke  \n",
       "0                        0                 1       1  \n",
       "1                        1                 1       1  \n",
       "2                        0                 1       1  \n",
       "3                        0                 1       1  \n",
       "4                        1                 1       1  "
      ]
     },
     "execution_count": 66,
     "metadata": {},
     "output_type": "execute_result"
    }
   ],
   "source": [
    "data_f.head()"
   ]
  },
  {
   "cell_type": "code",
   "execution_count": 67,
   "metadata": {},
   "outputs": [],
   "source": [
    "from sklearn.model_selection import train_test_split\n",
    "x = data_f.iloc[:,:-1].values\n",
    "y = data_f.iloc[:,-1].values\n",
    "\n",
    "\n",
    "x_train, x_test, y_train, y_test = train_test_split(x, y, test_size=.25)"
   ]
  },
  {
   "cell_type": "markdown",
   "metadata": {},
   "source": [
    "### Logistic model"
   ]
  },
  {
   "cell_type": "code",
   "execution_count": 68,
   "metadata": {},
   "outputs": [
    {
     "data": {
      "text/plain": [
       "LogisticRegression(C=5, random_state=0, solver='liblinear')"
      ]
     },
     "execution_count": 68,
     "metadata": {},
     "output_type": "execute_result"
    }
   ],
   "source": [
    "# Step 1: Import packages, functions, and classes\n",
    "import numpy as np\n",
    "from sklearn.linear_model import LogisticRegression\n",
    "from sklearn.metrics import classification_report, confusion_matrix\n",
    "\n",
    "# Step 2: Get data\n",
    "x = data_f.iloc[:,:-1].values\n",
    "y = data_f.iloc[:,-1].values\n",
    "\n",
    "# Step 3: Create a model and train it\n",
    "model = LogisticRegression(solver='liblinear', C= 5, random_state=0)\n",
    "model.fit(x_train, y_train)"
   ]
  },
  {
   "cell_type": "code",
   "execution_count": 69,
   "metadata": {},
   "outputs": [],
   "source": [
    "import numpy as np\n",
    "from sklearn.metrics import f1_score\n"
   ]
  },
  {
   "cell_type": "code",
   "execution_count": 70,
   "metadata": {},
   "outputs": [],
   "source": [
    "import sklearn.metrics as metrics\n",
    "p_pred = model.predict_proba(x_test)[:,1]\n",
    "fpr, tpr, threshold = metrics.roc_curve(y_test, p_pred)"
   ]
  },
  {
   "cell_type": "code",
   "execution_count": 71,
   "metadata": {},
   "outputs": [
    {
     "data": {
      "text/plain": [
       "array([1.46312135e+00, 4.63121349e-01, 3.65680808e-01, 3.36525816e-01,\n",
       "       3.21523533e-01, 3.17616188e-01, 2.91335336e-01, 2.88928582e-01,\n",
       "       2.57132410e-01, 2.53828946e-01, 2.38840179e-01, 2.37964866e-01,\n",
       "       2.31682268e-01, 2.29914503e-01, 2.20357451e-01, 2.20165731e-01,\n",
       "       2.18138711e-01, 2.18100788e-01, 2.15939212e-01, 2.14356637e-01,\n",
       "       2.12864791e-01, 2.12648231e-01, 1.92719821e-01, 1.90934130e-01,\n",
       "       1.83753392e-01, 1.83552839e-01, 1.72894482e-01, 1.71230033e-01,\n",
       "       1.67985029e-01, 1.67198745e-01, 1.66811824e-01, 1.66777880e-01,\n",
       "       1.65235533e-01, 1.64364202e-01, 1.62715649e-01, 1.61909794e-01,\n",
       "       1.53976259e-01, 1.53826666e-01, 1.41512034e-01, 1.41509046e-01,\n",
       "       1.39289640e-01, 1.37920535e-01, 1.28905724e-01, 1.28518083e-01,\n",
       "       1.25833296e-01, 1.24533511e-01, 1.23928149e-01, 1.23101598e-01,\n",
       "       1.13606247e-01, 1.13415390e-01, 1.09694143e-01, 1.09204690e-01,\n",
       "       1.08127636e-01, 1.08086609e-01, 1.05382041e-01, 1.03016065e-01,\n",
       "       9.89649855e-02, 9.85451690e-02, 9.63252255e-02, 9.53684793e-02,\n",
       "       7.94492828e-02, 7.93501916e-02, 7.40645104e-02, 7.39986927e-02,\n",
       "       6.54503726e-02, 6.54489608e-02, 6.39276862e-02, 6.28987517e-02,\n",
       "       5.81172227e-02, 5.76713408e-02, 5.55976900e-02, 5.54054243e-02,\n",
       "       4.92321986e-02, 4.91363032e-02, 4.88745030e-02, 4.88712293e-02,\n",
       "       4.87209330e-02, 4.86424438e-02, 3.62836055e-02, 3.62364875e-02,\n",
       "       3.55534509e-02, 3.55022839e-02, 3.50488476e-02, 3.49489730e-02,\n",
       "       2.95501288e-02, 2.95078366e-02, 1.75611374e-02, 1.74946051e-02,\n",
       "       1.54423568e-02, 1.53759960e-02, 8.58655265e-03, 8.54806212e-03,\n",
       "       1.18565355e-03])"
      ]
     },
     "execution_count": 71,
     "metadata": {},
     "output_type": "execute_result"
    }
   ],
   "source": [
    "threshold"
   ]
  },
  {
   "cell_type": "code",
   "execution_count": 72,
   "metadata": {},
   "outputs": [],
   "source": [
    "a=[]\n",
    "for i in threshold:\n",
    "    p_pred = model.predict_proba(x_test)\n",
    "    y_pred = [1 if p[1] > i else 0 for p in p_pred]\n",
    "    f1 = f1_score(y_test,y_pred)\n",
    "    a.append(f1)\n",
    "   "
   ]
  },
  {
   "cell_type": "code",
   "execution_count": 73,
   "metadata": {},
   "outputs": [
    {
     "name": "stdout",
     "output_type": "stream",
     "text": [
      "[0.0, 0.0, 0.03508771929824562, 0.034482758620689655, 0.06451612903225806, 0.0634920634920635, 0.08, 0.07894736842105263, 0.0898876404494382, 0.10989010989010989, 0.11650485436893204, 0.11538461538461539, 0.12844036697247704, 0.12727272727272726, 0.1391304347826087, 0.13793103448275862, 0.15384615384615385, 0.15254237288135594, 0.16666666666666669, 0.1652892561983471, 0.17886178861788618, 0.1774193548387097, 0.1714285714285714, 0.1702127659574468, 0.17105263157894737, 0.16993464052287582, 0.16867469879518074, 0.18934911242603553, 0.19318181818181818, 0.192090395480226, 0.20224719101123595, 0.2011173184357542, 0.20652173913043478, 0.2054054054054054, 0.2105263157894737, 0.20942408376963353, 0.21319796954314724, 0.2121212121212121, 0.2, 0.19909502262443438, 0.20627802690582955, 0.20535714285714282, 0.20253164556962025, 0.20168067226890757, 0.20576131687242796, 0.20491803278688525, 0.21224489795918366, 0.21138211382113822, 0.2093023255813953, 0.2084942084942085, 0.21132075471698114, 0.2172284644194757, 0.22222222222222218, 0.22140221402214022, 0.22302158273381295, 0.22857142857142856, 0.22837370242214533, 0.22758620689655176, 0.23129251700680276, 0.23050847457627116, 0.21212121212121213, 0.21148036253776437, 0.20689655172413796, 0.20630372492836677, 0.19371727748691098, 0.19321148825065276, 0.1953727506426735, 0.19487179487179487, 0.188861985472155, 0.18840579710144928, 0.1895734597156398, 0.18912529550827425, 0.18101545253863136, 0.18461538461538463, 0.1877729257641921, 0.18736383442265794, 0.1904761904761905, 0.19006479481641467, 0.1624548736462094, 0.16216216216216217, 0.16428571428571428, 0.16399286987522285, 0.16491228070175437, 0.1646234676007005, 0.1576354679802956, 0.1573770491803279, 0.1346153846153846, 0.13443072702331962, 0.13123359580052493, 0.13106159895150718, 0.11564625850340138, 0.11551528878822195, 0.0782543265613243]\n"
     ]
    }
   ],
   "source": [
    "print(a)"
   ]
  },
  {
   "cell_type": "code",
   "execution_count": 74,
   "metadata": {},
   "outputs": [
    {
     "data": {
      "text/plain": [
       "0.09632522546829989"
      ]
     },
     "execution_count": 74,
     "metadata": {},
     "output_type": "execute_result"
    }
   ],
   "source": [
    "cutoff1 = threshold[np.argmax(a)]\n",
    "cutoff1"
   ]
  },
  {
   "cell_type": "code",
   "execution_count": 75,
   "metadata": {},
   "outputs": [
    {
     "name": "stdout",
     "output_type": "stream",
     "text": [
      "report:\n",
      "              precision    recall  f1-score   support\n",
      "\n",
      "           0       0.98      0.83      0.90      1226\n",
      "           1       0.14      0.65      0.23        52\n",
      "\n",
      "    accuracy                           0.82      1278\n",
      "   macro avg       0.56      0.74      0.57      1278\n",
      "weighted avg       0.95      0.82      0.87      1278\n",
      "\n"
     ]
    }
   ],
   "source": [
    "# Step 4: Evaluate the model\n",
    "p_pred = model.predict_proba(x_test)\n",
    "y_pred = [1 if p[1] >cutoff1 else 0 for p in p_pred]\n",
    "score_ = model.score(x_test, y_test)\n",
    "conf_m = confusion_matrix(y_test, y_pred)\n",
    "report = classification_report(y_test, y_pred)\n",
    "print('report:', report, sep='\\n')"
   ]
  },
  {
   "cell_type": "code",
   "execution_count": 76,
   "metadata": {},
   "outputs": [],
   "source": [
    "import sklearn.metrics as metrics\n",
    "p_pred = model.predict_proba(x_train)[:,1]\n",
    "fpr, tpr, threshold = metrics.roc_curve(y_train, p_pred)"
   ]
  },
  {
   "cell_type": "code",
   "execution_count": 77,
   "metadata": {},
   "outputs": [],
   "source": [
    "a=[]\n",
    "for i in threshold:\n",
    "    p_pred = model.predict_proba(x_train)\n",
    "    y_pred = [1 if p[1] > i else 0 for p in p_pred]\n",
    "    f1 = f1_score(y_train,y_pred)\n",
    "    a.append(f1)\n",
    "   "
   ]
  },
  {
   "cell_type": "code",
   "execution_count": 78,
   "metadata": {},
   "outputs": [
    {
     "data": {
      "text/plain": [
       "0.16236083095420223"
      ]
     },
     "execution_count": 78,
     "metadata": {},
     "output_type": "execute_result"
    }
   ],
   "source": [
    "cutoff = threshold[np.argmax(a)]\n",
    "cutoff"
   ]
  },
  {
   "cell_type": "code",
   "execution_count": 79,
   "metadata": {},
   "outputs": [
    {
     "name": "stdout",
     "output_type": "stream",
     "text": [
      "report:\n",
      "              precision    recall  f1-score   support\n",
      "\n",
      "           0       0.97      0.92      0.94      3635\n",
      "           1       0.23      0.47      0.31       197\n",
      "\n",
      "    accuracy                           0.89      3832\n",
      "   macro avg       0.60      0.69      0.63      3832\n",
      "weighted avg       0.93      0.89      0.91      3832\n",
      "\n"
     ]
    }
   ],
   "source": [
    "# Step 4: Evaluate the model\n",
    "p_pred = model.predict_proba(x_train)\n",
    "y_pred = [1 if p[1] >cutoff else 0 for p in p_pred]\n",
    "score_ = model.score(x_train, y_train)\n",
    "conf_m = confusion_matrix(y_train, y_pred)\n",
    "report = classification_report(y_train, y_pred)\n",
    "print('report:', report, sep='\\n')"
   ]
  },
  {
   "cell_type": "code",
   "execution_count": 80,
   "metadata": {},
   "outputs": [
    {
     "data": {
      "image/png": "[encoded data removed]",
      "text/plain": [
       "<Figure size 432x288 with 1 Axes>"
      ]
     },
     "metadata": {
      "needs_background": "light"
     },
     "output_type": "display_data"
    }
   ],
   "source": [
    "import sklearn.metrics as metrics\n",
    "p_pred1 = model.predict_proba(x_train)[:,1]\n",
    "fpr, tpr, threshold = metrics.roc_curve(y_train, p_pred1)\n",
    "roc_auc = metrics.auc(fpr, tpr)\n",
    "\n",
    "\n",
    "import matplotlib.pyplot as plt\n",
    "plt.title('Receiver Operating Characteristic')\n",
    "plt.plot(fpr, tpr, 'b', label = 'AUC = %0.2f' % roc_auc)\n",
    "plt.legend(loc = 'lower right')\n",
    "plt.plot([0, 1], [0, 1],'r--')\n",
    "plt.xlim([0, 1])\n",
    "plt.ylim([0, 1])\n",
    "plt.ylabel('True Positive Rate')\n",
    "plt.xlabel('False Positive Rate')\n",
    "plt.show()"
   ]
  },
  {
   "cell_type": "code",
   "execution_count": 81,
   "metadata": {
    "scrolled": true
   },
   "outputs": [
    {
     "data": {
      "image/png": "[encoded data removed]",
      "text/plain": [
       "<Figure size 432x288 with 1 Axes>"
      ]
     },
     "metadata": {
      "needs_background": "light"
     },
     "output_type": "display_data"
    }
   ],
   "source": [
    "import sklearn.metrics as metrics\n",
    "p_pred1 = model.predict_proba(x_test)[:,1]\n",
    "fpr, tpr, threshold = metrics.roc_curve(y_test, p_pred1)\n",
    "roc_auc = metrics.auc(fpr, tpr)\n",
    "\n",
    "\n",
    "import matplotlib.pyplot as plt\n",
    "plt.title('Receiver Operating Characteristic')\n",
    "plt.plot(fpr, tpr, 'b', label = 'AUC = %0.2f' % roc_auc)\n",
    "plt.legend(loc = 'lower right')\n",
    "plt.plot([0, 1], [0, 1],'r--')\n",
    "plt.xlim([0, 1])\n",
    "plt.ylim([0, 1])\n",
    "plt.ylabel('True Positive Rate')\n",
    "plt.xlabel('False Positive Rate')\n",
    "plt.show()"
   ]
  },
  {
   "cell_type": "code",
   "execution_count": 82,
   "metadata": {},
   "outputs": [
    {
     "name": "stdout",
     "output_type": "stream",
     "text": [
      "Feature: 0, Score: 0.07812\n",
      "Feature: 1, Score: 0.38653\n",
      "Feature: 2, Score: 0.18658\n",
      "Feature: 3, Score: 0.00368\n",
      "Feature: 4, Score: -0.14961\n",
      "Feature: 5, Score: -0.17196\n",
      "Feature: 6, Score: -1.32081\n",
      "Feature: 7, Score: -0.42681\n",
      "Feature: 8, Score: -1.28772\n",
      "Feature: 9, Score: -1.64711\n",
      "Feature: 10, Score: -0.22309\n"
     ]
    },
    {
     "data": {
      "image/png": "[encoded data removed]",
      "text/plain": [
       "<Figure size 432x288 with 1 Axes>"
      ]
     },
     "metadata": {
      "needs_background": "light"
     },
     "output_type": "display_data"
    }
   ],
   "source": [
    "importance = model.coef_[0]\n",
    "for i,v in enumerate(importance):\n",
    "    print('Feature: %0d, Score: %.5f' % (i,v))\n",
    "plt.bar(data_f.columns[:-1], importance)\n",
    "plt.xticks(rotation = 90)\n",
    "plt.show()"
   ]
  },
  {
   "cell_type": "markdown",
   "metadata": {},
   "source": [
    "### Decision Tree"
   ]
  },
  {
   "cell_type": "code",
   "execution_count": 83,
   "metadata": {},
   "outputs": [
    {
     "data": {
      "text/plain": [
       "DecisionTreeClassifier(criterion='entropy', max_depth=3, random_state=100)"
      ]
     },
     "execution_count": 83,
     "metadata": {},
     "output_type": "execute_result"
    }
   ],
   "source": [
    "from sklearn.tree import DecisionTreeClassifier\n",
    "model_1=DecisionTreeClassifier(criterion=\"entropy\",random_state=100,max_depth=3)\n",
    "model_1.fit(x_train,y_train)                               "
   ]
  },
  {
   "cell_type": "code",
   "execution_count": 84,
   "metadata": {},
   "outputs": [],
   "source": [
    "import sklearn.metrics as metrics\n",
    "p_pred = model_1.predict_proba(x_test)[:,1]\n",
    "fpr, tpr, threshold = metrics.roc_curve(y_test, p_pred)"
   ]
  },
  {
   "cell_type": "code",
   "execution_count": 85,
   "metadata": {},
   "outputs": [],
   "source": [
    "a=[]\n",
    "for i in threshold:\n",
    "    p_pred = model_1.predict_proba(x_test)\n",
    "    y_pred = [1 if p[1] > i else 0 for p in p_pred]\n",
    "    f1 = f1_score(y_test,y_pred)\n",
    "    a.append(f1)"
   ]
  },
  {
   "cell_type": "code",
   "execution_count": 86,
   "metadata": {},
   "outputs": [
    {
     "data": {
      "text/plain": [
       "0.07228915662650602"
      ]
     },
     "execution_count": 86,
     "metadata": {},
     "output_type": "execute_result"
    }
   ],
   "source": [
    "cutoff1 = threshold[np.argmax(a)]\n",
    "cutoff1"
   ]
  },
  {
   "cell_type": "code",
   "execution_count": 87,
   "metadata": {},
   "outputs": [
    {
     "name": "stdout",
     "output_type": "stream",
     "text": [
      "report:\n",
      "              precision    recall  f1-score   support\n",
      "\n",
      "           0       0.98      0.76      0.86      1226\n",
      "           1       0.11      0.71      0.19        52\n",
      "\n",
      "    accuracy                           0.76      1278\n",
      "   macro avg       0.55      0.74      0.52      1278\n",
      "weighted avg       0.95      0.76      0.83      1278\n",
      "\n"
     ]
    }
   ],
   "source": [
    "p_pred = model_1.predict_proba(x_test)\n",
    "y_pred = [1 if p[1] >cutoff1 else 0 for p in p_pred]\n",
    "conf_m = confusion_matrix(y_test, y_pred)\n",
    "report = classification_report(y_test, y_pred)\n",
    "print('report:', report, sep='\\n')"
   ]
  },
  {
   "cell_type": "code",
   "execution_count": 88,
   "metadata": {},
   "outputs": [],
   "source": [
    "import sklearn.metrics as metrics\n",
    "p_pred = model_1.predict_proba(x_train)[:,1]\n",
    "fpr, tpr, threshold = metrics.roc_curve(y_train, p_pred)"
   ]
  },
  {
   "cell_type": "code",
   "execution_count": 89,
   "metadata": {},
   "outputs": [],
   "source": [
    "a=[]\n",
    "for i in threshold:\n",
    "    p_pred = model_1.predict_proba(x_train)\n",
    "    y_pred = [1 if p[1] > i else 0 for p in p_pred]\n",
    "    f1 = f1_score(y_train,y_pred)\n",
    "    a.append(f1)"
   ]
  },
  {
   "cell_type": "code",
   "execution_count": 90,
   "metadata": {},
   "outputs": [
    {
     "data": {
      "text/plain": [
       "0.1032258064516129"
      ]
     },
     "execution_count": 90,
     "metadata": {},
     "output_type": "execute_result"
    }
   ],
   "source": [
    "cutoff = threshold[np.argmax(a)]\n",
    "cutoff"
   ]
  },
  {
   "cell_type": "code",
   "execution_count": 91,
   "metadata": {},
   "outputs": [
    {
     "name": "stdout",
     "output_type": "stream",
     "text": [
      "report:\n",
      "              precision    recall  f1-score   support\n",
      "\n",
      "           0       0.98      0.86      0.91      3635\n",
      "           1       0.20      0.63      0.30       197\n",
      "\n",
      "    accuracy                           0.85      3832\n",
      "   macro avg       0.59      0.74      0.61      3832\n",
      "weighted avg       0.94      0.85      0.88      3832\n",
      "\n"
     ]
    }
   ],
   "source": [
    "p_pred = model_1.predict_proba(x_train)\n",
    "y_pred = [1 if p[1] >cutoff else 0 for p in p_pred]\n",
    "conf_m = confusion_matrix(y_train, y_pred)\n",
    "report = classification_report(y_train, y_pred)\n",
    "print('report:', report, sep='\\n')"
   ]
  },
  {
   "cell_type": "code",
   "execution_count": 92,
   "metadata": {},
   "outputs": [
    {
     "data": {
      "image/png": "[encoded data removed]",
      "text/plain": [
       "<Figure size 432x288 with 1 Axes>"
      ]
     },
     "metadata": {
      "needs_background": "light"
     },
     "output_type": "display_data"
    }
   ],
   "source": [
    "import sklearn.metrics as metrics\n",
    "p_pred = model_1.predict_proba(x_test)[:,1]\n",
    "fpr, tpr, threshold = metrics.roc_curve(y_test, p_pred)\n",
    "roc_auc = metrics.auc(fpr, tpr)\n",
    "\n",
    "# method I: plt\n",
    "import matplotlib.pyplot as plt\n",
    "plt.title('Receiver Operating Characteristic')\n",
    "plt.plot(fpr, tpr, 'b', label = 'AUC = %0.2f' % roc_auc)\n",
    "plt.legend(loc = 'lower right')\n",
    "plt.plot([0, 1], [0, 1],'r--')\n",
    "plt.xlim([0, 1])\n",
    "plt.ylim([0, 1])\n",
    "plt.ylabel('True Positive Rate')\n",
    "plt.xlabel('False Positive Rate')\n",
    "plt.show()"
   ]
  },
  {
   "cell_type": "code",
   "execution_count": 93,
   "metadata": {},
   "outputs": [
    {
     "data": {
      "image/png": "[encoded data removed]",
      "text/plain": [
       "<Figure size 432x288 with 1 Axes>"
      ]
     },
     "metadata": {
      "needs_background": "light"
     },
     "output_type": "display_data"
    }
   ],
   "source": [
    "import sklearn.metrics as metrics\n",
    "p_pred = model_1.predict_proba(x_train)[:,1]\n",
    "fpr, tpr, threshold = metrics.roc_curve(y_train, p_pred)\n",
    "roc_auc = metrics.auc(fpr, tpr)\n",
    "\n",
    "# method I: plt\n",
    "import matplotlib.pyplot as plt\n",
    "plt.title('Receiver Operating Characteristic')\n",
    "plt.plot(fpr, tpr, 'b', label = 'AUC = %0.2f' % roc_auc)\n",
    "plt.legend(loc = 'lower right')\n",
    "plt.plot([0, 1], [0, 1],'r--')\n",
    "plt.xlim([0, 1])\n",
    "plt.ylim([0, 1])\n",
    "plt.ylabel('True Positive Rate')\n",
    "plt.xlabel('False Positive Rate')\n",
    "plt.show()"
   ]
  },
  {
   "cell_type": "code",
   "execution_count": 94,
   "metadata": {},
   "outputs": [
    {
     "data": {
      "image/png": "[encoded data removed]",
      "text/plain": [
       "<Figure size 432x288 with 1 Axes>"
      ]
     },
     "metadata": {
      "needs_background": "light"
     },
     "output_type": "display_data"
    }
   ],
   "source": [
    "importance1 = model_1.feature_importances_\n",
    "plt.bar(data_f.columns[:-1], importance1)\n",
    "plt.xticks(rotation = 90)\n",
    "plt.show()"
   ]
  },
  {
   "cell_type": "markdown",
   "metadata": {},
   "source": [
    "### Random forest model"
   ]
  },
  {
   "cell_type": "code",
   "execution_count": 95,
   "metadata": {},
   "outputs": [
    {
     "data": {
      "text/plain": [
       "RandomForestClassifier(max_depth=3)"
      ]
     },
     "execution_count": 95,
     "metadata": {},
     "output_type": "execute_result"
    }
   ],
   "source": [
    "# Fitting Random Forest Regression to the dataset\n",
    "# import the regressor\n",
    "from sklearn.ensemble import RandomForestClassifier\n",
    "clf = RandomForestClassifier(n_estimators = 100,criterion='gini', max_depth= 3)\n",
    "# fit the regressor with x and y data\n",
    "clf.fit(x_train, y_train)"
   ]
  },
  {
   "cell_type": "code",
   "execution_count": 96,
   "metadata": {},
   "outputs": [],
   "source": [
    "import sklearn.metrics as metrics\n",
    "p_pred = clf.predict_proba(x_test)[:,1]\n",
    "fpr, tpr, threshold = metrics.roc_curve(y_test, p_pred)"
   ]
  },
  {
   "cell_type": "code",
   "execution_count": 97,
   "metadata": {},
   "outputs": [],
   "source": [
    "a=[]\n",
    "for i in threshold:\n",
    "    p_pred = clf.predict_proba(x_test)\n",
    "    y_pred = [1 if p[1] > i else 0 for p in p_pred]\n",
    "    f1 = f1_score(y_test,y_pred)\n",
    "    a.append(f1)"
   ]
  },
  {
   "cell_type": "code",
   "execution_count": 98,
   "metadata": {},
   "outputs": [
    {
     "data": {
      "text/plain": [
       "0.10338242342992282"
      ]
     },
     "execution_count": 98,
     "metadata": {},
     "output_type": "execute_result"
    }
   ],
   "source": [
    "cutoff1 = threshold[np.argmax(a)]\n",
    "cutoff1"
   ]
  },
  {
   "cell_type": "code",
   "execution_count": 99,
   "metadata": {},
   "outputs": [
    {
     "name": "stdout",
     "output_type": "stream",
     "text": [
      "report:\n",
      "              precision    recall  f1-score   support\n",
      "\n",
      "           0       0.98      0.84      0.91      1226\n",
      "           1       0.14      0.62      0.23        52\n",
      "\n",
      "    accuracy                           0.83      1278\n",
      "   macro avg       0.56      0.73      0.57      1278\n",
      "weighted avg       0.95      0.83      0.88      1278\n",
      "\n"
     ]
    }
   ],
   "source": [
    "# performing predictions on the test dataset\n",
    "p_pred = model.predict_proba(x_test)\n",
    "y_pred = [1 if p[1] >cutoff1 else 0 for p in p_pred]\n",
    "score_ = clf.score(x_test, y_test)\n",
    "conf_m = confusion_matrix(y_test, y_pred)\n",
    "report = classification_report(y_test, y_pred)\n",
    "print('report:', report, sep='\\n')"
   ]
  },
  {
   "cell_type": "code",
   "execution_count": 100,
   "metadata": {},
   "outputs": [],
   "source": [
    "import sklearn.metrics as metrics\n",
    "p_pred = clf.predict_proba(x_train)[:,1]\n",
    "fpr, tpr, threshold = metrics.roc_curve(y_train, p_pred)"
   ]
  },
  {
   "cell_type": "code",
   "execution_count": 101,
   "metadata": {},
   "outputs": [],
   "source": [
    "a=[]\n",
    "for i in threshold:\n",
    "    p_pred = clf.predict_proba(x_train)\n",
    "    y_pred = [1 if p[1] > i else 0 for p in p_pred]\n",
    "    f1 = f1_score(y_train,y_pred)\n",
    "    a.append(f1)"
   ]
  },
  {
   "cell_type": "code",
   "execution_count": 102,
   "metadata": {},
   "outputs": [
    {
     "data": {
      "text/plain": [
       "0.15036730600212891"
      ]
     },
     "execution_count": 102,
     "metadata": {},
     "output_type": "execute_result"
    }
   ],
   "source": [
    "cutoff = threshold[np.argmax(a)]\n",
    "cutoff"
   ]
  },
  {
   "cell_type": "code",
   "execution_count": 103,
   "metadata": {},
   "outputs": [
    {
     "name": "stdout",
     "output_type": "stream",
     "text": [
      "report:\n",
      "              precision    recall  f1-score   support\n",
      "\n",
      "           0       0.97      0.94      0.95      3635\n",
      "           1       0.29      0.46      0.35       197\n",
      "\n",
      "    accuracy                           0.91      3832\n",
      "   macro avg       0.63      0.70      0.65      3832\n",
      "weighted avg       0.93      0.91      0.92      3832\n",
      "\n"
     ]
    }
   ],
   "source": [
    "p_pred = clf.predict_proba(x_train)\n",
    "y_pred = [1 if p[1] >cutoff else 0 for p in p_pred]\n",
    "score_ = clf.score(x_train, y_train)\n",
    "conf_m = confusion_matrix(y_train, y_pred)\n",
    "report = classification_report(y_train, y_pred)\n",
    "print('report:', report, sep='\\n')"
   ]
  },
  {
   "cell_type": "code",
   "execution_count": 104,
   "metadata": {},
   "outputs": [
    {
     "data": {
      "image/png": "[encoded data removed]",
      "text/plain": [
       "<Figure size 432x288 with 1 Axes>"
      ]
     },
     "metadata": {
      "needs_background": "light"
     },
     "output_type": "display_data"
    }
   ],
   "source": [
    "import sklearn.metrics as metrics\n",
    "p_pred = clf.predict_proba(x_train)[:,1]\n",
    "fpr, tpr, threshold = metrics.roc_curve(y_train, p_pred)\n",
    "roc_auc = metrics.auc(fpr, tpr)\n",
    "\n",
    "# method I: plt\n",
    "import matplotlib.pyplot as plt\n",
    "plt.title('Receiver Operating Characteristic')\n",
    "plt.plot(fpr, tpr, 'b', label = 'AUC = %0.2f' % roc_auc)\n",
    "plt.legend(loc = 'lower right')\n",
    "plt.plot([0, 1], [0, 1],'r--')\n",
    "plt.xlim([0, 1])\n",
    "plt.ylim([0, 1])\n",
    "plt.ylabel('True Positive Rate')\n",
    "plt.xlabel('False Positive Rate')\n",
    "plt.show()"
   ]
  },
  {
   "cell_type": "code",
   "execution_count": 105,
   "metadata": {},
   "outputs": [
    {
     "data": {
      "image/png": "[encoded data removed]",
      "text/plain": [
       "<Figure size 432x288 with 1 Axes>"
      ]
     },
     "metadata": {
      "needs_background": "light"
     },
     "output_type": "display_data"
    }
   ],
   "source": [
    "import sklearn.metrics as metrics\n",
    "p_pred = clf.predict_proba(x_test)[:,1]\n",
    "fpr, tpr, threshold = metrics.roc_curve(y_test, p_pred)\n",
    "roc_auc = metrics.auc(fpr, tpr)\n",
    "\n",
    "# method I: plt\n",
    "import matplotlib.pyplot as plt\n",
    "plt.title('Receiver Operating Characteristic')\n",
    "plt.plot(fpr, tpr, 'b', label = 'AUC = %0.2f' % roc_auc)\n",
    "plt.legend(loc = 'lower right')\n",
    "plt.plot([0, 1], [0, 1],'r--')\n",
    "plt.xlim([0, 1])\n",
    "plt.ylim([0, 1])\n",
    "plt.ylabel('True Positive Rate')\n",
    "plt.xlabel('False Positive Rate')\n",
    "plt.show()"
   ]
  },
  {
   "cell_type": "code",
   "execution_count": 106,
   "metadata": {},
   "outputs": [
    {
     "data": {
      "text/plain": [
       "array([5.55172536e-01, 7.02370314e-02, 6.38773618e-02, 1.68961187e-01,\n",
       "       3.87664896e-02, 8.96629928e-03, 5.11270095e-03, 6.08433449e-05,\n",
       "       1.06118728e-02, 1.81226296e-02, 6.01110483e-02])"
      ]
     },
     "execution_count": 106,
     "metadata": {},
     "output_type": "execute_result"
    }
   ],
   "source": [
    "clf.feature_importances_"
   ]
  },
  {
   "cell_type": "code",
   "execution_count": 107,
   "metadata": {},
   "outputs": [
    {
     "data": {
      "image/png": "[encoded data removed]",
      "text/plain": [
       "<Figure size 432x288 with 1 Axes>"
      ]
     },
     "metadata": {
      "needs_background": "light"
     },
     "output_type": "display_data"
    }
   ],
   "source": [
    "plt.bar(data_f.columns[:-1], clf.feature_importances_)\n",
    "plt.xticks(rotation = 90)\n",
    "plt.show()"
   ]
  },
  {
   "cell_type": "markdown",
   "metadata": {},
   "source": [
    "### Decile cuttoff"
   ]
  },
  {
   "cell_type": "code",
   "execution_count": 108,
   "metadata": {},
   "outputs": [],
   "source": [
    "from sklearn.model_selection import train_test_split\n",
    "x = data_f.iloc[:,:-1].values\n",
    "y = data_f.iloc[:,-1].values\n",
    "\n",
    "\n",
    "x_train, x_test, y_train, y_test = train_test_split(x, y, test_size=.25)"
   ]
  },
  {
   "cell_type": "code",
   "execution_count": 109,
   "metadata": {},
   "outputs": [
    {
     "data": {
      "text/plain": [
       "LogisticRegression(C=0.1, random_state=0, solver='liblinear')"
      ]
     },
     "execution_count": 109,
     "metadata": {},
     "output_type": "execute_result"
    }
   ],
   "source": [
    "model = LogisticRegression(solver='liblinear', C= 0.1, random_state=0)\n",
    "model.fit(x_train, y_train)"
   ]
  },
  {
   "cell_type": "code",
   "execution_count": 110,
   "metadata": {},
   "outputs": [
    {
     "data": {
      "text/plain": [
       "array([0.038274  , 0.07604676, 0.03361378, ..., 0.0165987 , 0.12968238,\n",
       "       0.0110607 ])"
      ]
     },
     "execution_count": 110,
     "metadata": {},
     "output_type": "execute_result"
    }
   ],
   "source": [
    "p_pred = model.predict_proba(x_train)[:,1]\n",
    "p_pred"
   ]
  },
  {
   "cell_type": "code",
   "execution_count": 111,
   "metadata": {},
   "outputs": [
    {
     "data": {
      "text/plain": [
       "3832"
      ]
     },
     "execution_count": 111,
     "metadata": {},
     "output_type": "execute_result"
    }
   ],
   "source": [
    "prob=pd.qcut(p_pred,10,labels=False)\n",
    "len(prob)"
   ]
  },
  {
   "cell_type": "code",
   "execution_count": 112,
   "metadata": {},
   "outputs": [],
   "source": [
    "dat = pd.DataFrame((np.array([prob, p_pred,y_train])).T, columns=['prob', 'prob_v','stroke'])\n"
   ]
  },
  {
   "cell_type": "code",
   "execution_count": 113,
   "metadata": {},
   "outputs": [
    {
     "data": {
      "text/plain": [
       "prob\n",
       "0.0     0.833374\n",
       "1.0     1.671423\n",
       "2.0     2.042662\n",
       "3.0     2.558784\n",
       "4.0     3.178505\n",
       "5.0     3.982073\n",
       "6.0     5.077959\n",
       "7.0     6.672048\n",
       "8.0     8.528284\n",
       "9.0    12.268381\n",
       "Name: prob_v, dtype: float64"
      ]
     },
     "execution_count": 113,
     "metadata": {},
     "output_type": "execute_result"
    }
   ],
   "source": [
    "dat.groupby('prob').prob_v.min()*100"
   ]
  },
  {
   "cell_type": "code",
   "execution_count": 114,
   "metadata": {},
   "outputs": [
    {
     "data": {
      "text/plain": [
       "4.681349281992736"
      ]
     },
     "execution_count": 114,
     "metadata": {},
     "output_type": "execute_result"
    }
   ],
   "source": [
    "dat.groupby('prob').prob_v.min().mean()*100"
   ]
  },
  {
   "cell_type": "code",
   "execution_count": 115,
   "metadata": {},
   "outputs": [
    {
     "data": {
      "text/plain": [
       "186.0"
      ]
     },
     "execution_count": 115,
     "metadata": {},
     "output_type": "execute_result"
    }
   ],
   "source": [
    "dat.groupby('prob').stroke.sum().sum()"
   ]
  },
  {
   "cell_type": "code",
   "execution_count": 116,
   "metadata": {},
   "outputs": [
    {
     "data": {
      "text/plain": [
       "prob\n",
       "0.0     0.000000\n",
       "1.0     1.612903\n",
       "2.0     0.000000\n",
       "3.0     2.688172\n",
       "4.0     2.688172\n",
       "5.0     5.376344\n",
       "6.0     5.913978\n",
       "7.0    19.354839\n",
       "8.0    25.268817\n",
       "9.0    37.096774\n",
       "Name: stroke, dtype: float64"
      ]
     },
     "execution_count": 116,
     "metadata": {},
     "output_type": "execute_result"
    }
   ],
   "source": [
    "dat.groupby('prob').stroke.sum()/dat.groupby('prob').stroke.sum().sum()*100"
   ]
  },
  {
   "cell_type": "markdown",
   "metadata": {},
   "source": [
    "### Hyperparameter tuning in case of logistic"
   ]
  },
  {
   "cell_type": "code",
   "execution_count": 117,
   "metadata": {},
   "outputs": [
    {
     "name": "stderr",
     "output_type": "stream",
     "text": [
      "C:\\ProgramData\\Anaconda3\\lib\\site-packages\\sklearn\\linear_model\\_logistic.py:762: ConvergenceWarning: lbfgs failed to converge (status=1):\n",
      "STOP: TOTAL NO. of ITERATIONS REACHED LIMIT.\n",
      "\n",
      "Increase the number of iterations (max_iter) or scale the data as shown in:\n",
      "    https://scikit-learn.org/stable/modules/preprocessing.html\n",
      "Please also refer to the documentation for alternative solver options:\n",
      "    https://scikit-learn.org/stable/modules/linear_model.html#logistic-regression\n",
      "  n_iter_i = _check_optimize_result(\n",
      "C:\\ProgramData\\Anaconda3\\lib\\site-packages\\sklearn\\linear_model\\_logistic.py:762: ConvergenceWarning: lbfgs failed to converge (status=1):\n",
      "STOP: TOTAL NO. of ITERATIONS REACHED LIMIT.\n",
      "\n",
      "Increase the number of iterations (max_iter) or scale the data as shown in:\n",
      "    https://scikit-learn.org/stable/modules/preprocessing.html\n",
      "Please also refer to the documentation for alternative solver options:\n",
      "    https://scikit-learn.org/stable/modules/linear_model.html#logistic-regression\n",
      "  n_iter_i = _check_optimize_result(\n",
      "C:\\ProgramData\\Anaconda3\\lib\\site-packages\\sklearn\\linear_model\\_logistic.py:762: ConvergenceWarning: lbfgs failed to converge (status=1):\n",
      "STOP: TOTAL NO. of ITERATIONS REACHED LIMIT.\n",
      "\n",
      "Increase the number of iterations (max_iter) or scale the data as shown in:\n",
      "    https://scikit-learn.org/stable/modules/preprocessing.html\n",
      "Please also refer to the documentation for alternative solver options:\n",
      "    https://scikit-learn.org/stable/modules/linear_model.html#logistic-regression\n",
      "  n_iter_i = _check_optimize_result(\n",
      "C:\\ProgramData\\Anaconda3\\lib\\site-packages\\sklearn\\linear_model\\_logistic.py:762: ConvergenceWarning: lbfgs failed to converge (status=1):\n",
      "STOP: TOTAL NO. of ITERATIONS REACHED LIMIT.\n",
      "\n",
      "Increase the number of iterations (max_iter) or scale the data as shown in:\n",
      "    https://scikit-learn.org/stable/modules/preprocessing.html\n",
      "Please also refer to the documentation for alternative solver options:\n",
      "    https://scikit-learn.org/stable/modules/linear_model.html#logistic-regression\n",
      "  n_iter_i = _check_optimize_result(\n",
      "C:\\ProgramData\\Anaconda3\\lib\\site-packages\\sklearn\\linear_model\\_logistic.py:762: ConvergenceWarning: lbfgs failed to converge (status=1):\n",
      "STOP: TOTAL NO. of ITERATIONS REACHED LIMIT.\n",
      "\n",
      "Increase the number of iterations (max_iter) or scale the data as shown in:\n",
      "    https://scikit-learn.org/stable/modules/preprocessing.html\n",
      "Please also refer to the documentation for alternative solver options:\n",
      "    https://scikit-learn.org/stable/modules/linear_model.html#logistic-regression\n",
      "  n_iter_i = _check_optimize_result(\n",
      "C:\\ProgramData\\Anaconda3\\lib\\site-packages\\sklearn\\linear_model\\_logistic.py:762: ConvergenceWarning: lbfgs failed to converge (status=1):\n",
      "STOP: TOTAL NO. of ITERATIONS REACHED LIMIT.\n",
      "\n",
      "Increase the number of iterations (max_iter) or scale the data as shown in:\n",
      "    https://scikit-learn.org/stable/modules/preprocessing.html\n",
      "Please also refer to the documentation for alternative solver options:\n",
      "    https://scikit-learn.org/stable/modules/linear_model.html#logistic-regression\n",
      "  n_iter_i = _check_optimize_result(\n",
      "C:\\ProgramData\\Anaconda3\\lib\\site-packages\\sklearn\\linear_model\\_logistic.py:762: ConvergenceWarning: lbfgs failed to converge (status=1):\n",
      "STOP: TOTAL NO. of ITERATIONS REACHED LIMIT.\n",
      "\n",
      "Increase the number of iterations (max_iter) or scale the data as shown in:\n",
      "    https://scikit-learn.org/stable/modules/preprocessing.html\n",
      "Please also refer to the documentation for alternative solver options:\n",
      "    https://scikit-learn.org/stable/modules/linear_model.html#logistic-regression\n",
      "  n_iter_i = _check_optimize_result(\n",
      "C:\\ProgramData\\Anaconda3\\lib\\site-packages\\sklearn\\linear_model\\_logistic.py:762: ConvergenceWarning: lbfgs failed to converge (status=1):\n",
      "STOP: TOTAL NO. of ITERATIONS REACHED LIMIT.\n",
      "\n",
      "Increase the number of iterations (max_iter) or scale the data as shown in:\n",
      "    https://scikit-learn.org/stable/modules/preprocessing.html\n",
      "Please also refer to the documentation for alternative solver options:\n",
      "    https://scikit-learn.org/stable/modules/linear_model.html#logistic-regression\n",
      "  n_iter_i = _check_optimize_result(\n",
      "C:\\ProgramData\\Anaconda3\\lib\\site-packages\\sklearn\\linear_model\\_logistic.py:762: ConvergenceWarning: lbfgs failed to converge (status=1):\n",
      "STOP: TOTAL NO. of ITERATIONS REACHED LIMIT.\n",
      "\n",
      "Increase the number of iterations (max_iter) or scale the data as shown in:\n",
      "    https://scikit-learn.org/stable/modules/preprocessing.html\n",
      "Please also refer to the documentation for alternative solver options:\n",
      "    https://scikit-learn.org/stable/modules/linear_model.html#logistic-regression\n",
      "  n_iter_i = _check_optimize_result(\n",
      "C:\\ProgramData\\Anaconda3\\lib\\site-packages\\sklearn\\linear_model\\_logistic.py:762: ConvergenceWarning: lbfgs failed to converge (status=1):\n",
      "STOP: TOTAL NO. of ITERATIONS REACHED LIMIT.\n",
      "\n",
      "Increase the number of iterations (max_iter) or scale the data as shown in:\n",
      "    https://scikit-learn.org/stable/modules/preprocessing.html\n",
      "Please also refer to the documentation for alternative solver options:\n",
      "    https://scikit-learn.org/stable/modules/linear_model.html#logistic-regression\n",
      "  n_iter_i = _check_optimize_result(\n",
      "C:\\ProgramData\\Anaconda3\\lib\\site-packages\\sklearn\\linear_model\\_logistic.py:762: ConvergenceWarning: lbfgs failed to converge (status=1):\n",
      "STOP: TOTAL NO. of ITERATIONS REACHED LIMIT.\n",
      "\n",
      "Increase the number of iterations (max_iter) or scale the data as shown in:\n",
      "    https://scikit-learn.org/stable/modules/preprocessing.html\n",
      "Please also refer to the documentation for alternative solver options:\n",
      "    https://scikit-learn.org/stable/modules/linear_model.html#logistic-regression\n",
      "  n_iter_i = _check_optimize_result(\n",
      "C:\\ProgramData\\Anaconda3\\lib\\site-packages\\sklearn\\linear_model\\_logistic.py:762: ConvergenceWarning: lbfgs failed to converge (status=1):\n",
      "STOP: TOTAL NO. of ITERATIONS REACHED LIMIT.\n",
      "\n",
      "Increase the number of iterations (max_iter) or scale the data as shown in:\n",
      "    https://scikit-learn.org/stable/modules/preprocessing.html\n",
      "Please also refer to the documentation for alternative solver options:\n",
      "    https://scikit-learn.org/stable/modules/linear_model.html#logistic-regression\n",
      "  n_iter_i = _check_optimize_result(\n",
      "C:\\ProgramData\\Anaconda3\\lib\\site-packages\\sklearn\\linear_model\\_logistic.py:762: ConvergenceWarning: lbfgs failed to converge (status=1):\n",
      "STOP: TOTAL NO. of ITERATIONS REACHED LIMIT.\n",
      "\n",
      "Increase the number of iterations (max_iter) or scale the data as shown in:\n",
      "    https://scikit-learn.org/stable/modules/preprocessing.html\n",
      "Please also refer to the documentation for alternative solver options:\n",
      "    https://scikit-learn.org/stable/modules/linear_model.html#logistic-regression\n",
      "  n_iter_i = _check_optimize_result(\n",
      "C:\\ProgramData\\Anaconda3\\lib\\site-packages\\sklearn\\linear_model\\_logistic.py:762: ConvergenceWarning: lbfgs failed to converge (status=1):\n",
      "STOP: TOTAL NO. of ITERATIONS REACHED LIMIT.\n",
      "\n",
      "Increase the number of iterations (max_iter) or scale the data as shown in:\n",
      "    https://scikit-learn.org/stable/modules/preprocessing.html\n",
      "Please also refer to the documentation for alternative solver options:\n",
      "    https://scikit-learn.org/stable/modules/linear_model.html#logistic-regression\n",
      "  n_iter_i = _check_optimize_result(\n"
     ]
    },
    {
     "name": "stdout",
     "output_type": "stream",
     "text": [
      "Tuned Logistic Regression Parameters: {'C': 5.0}\n",
      "Best score is 0.9514615622904333\n"
     ]
    },
    {
     "name": "stderr",
     "output_type": "stream",
     "text": [
      "C:\\ProgramData\\Anaconda3\\lib\\site-packages\\sklearn\\linear_model\\_logistic.py:762: ConvergenceWarning: lbfgs failed to converge (status=1):\n",
      "STOP: TOTAL NO. of ITERATIONS REACHED LIMIT.\n",
      "\n",
      "Increase the number of iterations (max_iter) or scale the data as shown in:\n",
      "    https://scikit-learn.org/stable/modules/preprocessing.html\n",
      "Please also refer to the documentation for alternative solver options:\n",
      "    https://scikit-learn.org/stable/modules/linear_model.html#logistic-regression\n",
      "  n_iter_i = _check_optimize_result(\n",
      "C:\\ProgramData\\Anaconda3\\lib\\site-packages\\sklearn\\linear_model\\_logistic.py:762: ConvergenceWarning: lbfgs failed to converge (status=1):\n",
      "STOP: TOTAL NO. of ITERATIONS REACHED LIMIT.\n",
      "\n",
      "Increase the number of iterations (max_iter) or scale the data as shown in:\n",
      "    https://scikit-learn.org/stable/modules/preprocessing.html\n",
      "Please also refer to the documentation for alternative solver options:\n",
      "    https://scikit-learn.org/stable/modules/linear_model.html#logistic-regression\n",
      "  n_iter_i = _check_optimize_result(\n"
     ]
    }
   ],
   "source": [
    "from sklearn.linear_model import LogisticRegression\n",
    "from sklearn.model_selection import GridSearchCV\n",
    " \n",
    "# Creating the hyperparameter grid\n",
    "c_space = np.logspace(1,2,3,4,5)\n",
    "param_grid = {'C': c_space}\n",
    " \n",
    "# Instantiating logistic regression classifier\n",
    "logreg = LogisticRegression()\n",
    " \n",
    "# Instantiating the GridSearchCV object\n",
    "logreg_cv = GridSearchCV(logreg, param_grid, cv = 5)\n",
    " \n",
    "logreg_cv.fit(x_train, y_train)\n",
    " \n",
    "# Print the tuned parameters and score\n",
    "print(\"Tuned Logistic Regression Parameters: {}\".format(logreg_cv.best_params_))\n",
    "print(\"Best score is {}\".format(logreg_cv.best_score_))"
   ]
  },
  {
   "cell_type": "markdown",
   "metadata": {},
   "source": [
    "### Hyperparameter Tuning in case of Random Forest"
   ]
  },
  {
   "cell_type": "code",
   "execution_count": 118,
   "metadata": {},
   "outputs": [],
   "source": [
    "params = {'max_depth': list(range(2, 5)),'n_estimators': list(range(10, 30))}"
   ]
  },
  {
   "cell_type": "code",
   "execution_count": 119,
   "metadata": {},
   "outputs": [],
   "source": [
    "scorer = metrics.make_scorer(metrics.roc_auc_score)"
   ]
  },
  {
   "cell_type": "code",
   "execution_count": 120,
   "metadata": {},
   "outputs": [],
   "source": [
    "grid = GridSearchCV(estimator=RandomForestClassifier(criterion=\"entropy\"), param_grid=params, scoring=scorer, cv=5)\n",
    "result = grid.fit(x_train, y_train)"
   ]
  },
  {
   "cell_type": "code",
   "execution_count": 121,
   "metadata": {},
   "outputs": [
    {
     "name": "stdout",
     "output_type": "stream",
     "text": [
      "Best score : 0.5\n",
      "Best parameter : {'max_depth': 2, 'n_estimators': 10}\n"
     ]
    }
   ],
   "source": [
    "print(f\"Best score : {result.best_score_}\")\n",
    "print(f\"Best parameter : {result.best_params_}\")"
   ]
  },
  {
   "cell_type": "code",
   "execution_count": 122,
   "metadata": {},
   "outputs": [
    {
     "data": {
      "text/plain": [
       "RandomForestClassifier(max_depth=2, n_estimators=10)"
      ]
     },
     "execution_count": 122,
     "metadata": {},
     "output_type": "execute_result"
    }
   ],
   "source": [
    "model = RandomForestClassifier(max_depth=result.best_params_[\"max_depth\"], n_estimators=result.best_params_[\"n_estimators\"])\n",
    "model.fit(x_train, y_train)"
   ]
  },
  {
   "cell_type": "code",
   "execution_count": 123,
   "metadata": {},
   "outputs": [],
   "source": [
    "import sklearn.metrics as metrics\n",
    "p_pred = model.predict_proba(x_test)[:,1]\n",
    "fpr, tpr, threshold = metrics.roc_curve(y_test, p_pred)"
   ]
  },
  {
   "cell_type": "code",
   "execution_count": 124,
   "metadata": {},
   "outputs": [],
   "source": [
    "a=[]\n",
    "for i in threshold:\n",
    "    p_pred = model.predict_proba(x_test)\n",
    "    y_pred = [1 if p[1] > i else 0 for p in p_pred]\n",
    "    f1 = f1_score(y_test,y_pred)\n",
    "    a.append(f1)"
   ]
  },
  {
   "cell_type": "code",
   "execution_count": 125,
   "metadata": {},
   "outputs": [
    {
     "data": {
      "text/plain": [
       "0.10688067517252327"
      ]
     },
     "execution_count": 125,
     "metadata": {},
     "output_type": "execute_result"
    }
   ],
   "source": [
    "cutoff1 = threshold[np.argmax(a)]\n",
    "cutoff1"
   ]
  },
  {
   "cell_type": "code",
   "execution_count": 126,
   "metadata": {},
   "outputs": [
    {
     "name": "stdout",
     "output_type": "stream",
     "text": [
      "report:\n",
      "              precision    recall  f1-score   support\n",
      "\n",
      "           0       0.97      0.93      0.95      1215\n",
      "           1       0.25      0.43      0.31        63\n",
      "\n",
      "    accuracy                           0.91      1278\n",
      "   macro avg       0.61      0.68      0.63      1278\n",
      "weighted avg       0.93      0.91      0.92      1278\n",
      "\n"
     ]
    }
   ],
   "source": [
    "# performing predictions on the test dataset\n",
    "p_pred = model.predict_proba(x_test)\n",
    "y_pred = [1 if p[1] >cutoff1 else 0 for p in p_pred]\n",
    "score_ = model.score(x_test, y_test)\n",
    "conf_m = confusion_matrix(y_test, y_pred)\n",
    "report = classification_report(y_test, y_pred)\n",
    "print('report:', report, sep='\\n')"
   ]
  },
  {
   "cell_type": "code",
   "execution_count": 127,
   "metadata": {},
   "outputs": [],
   "source": [
    "import sklearn.metrics as metrics\n",
    "p_pred = model.predict_proba(x_train)[:,1]\n",
    "fpr, tpr, threshold = metrics.roc_curve(y_train, p_pred)"
   ]
  },
  {
   "cell_type": "code",
   "execution_count": 128,
   "metadata": {},
   "outputs": [],
   "source": [
    "a=[]\n",
    "for i in threshold:\n",
    "    p_pred = model.predict_proba(x_train)\n",
    "    y_pred = [1 if p[1] > i else 0 for p in p_pred]\n",
    "    f1 = f1_score(y_train,y_pred)\n",
    "    a.append(f1)"
   ]
  },
  {
   "cell_type": "code",
   "execution_count": 129,
   "metadata": {},
   "outputs": [
    {
     "data": {
      "text/plain": [
       "0.10417541991366241"
      ]
     },
     "execution_count": 129,
     "metadata": {},
     "output_type": "execute_result"
    }
   ],
   "source": [
    "cutoff = threshold[np.argmax(a)]\n",
    "cutoff"
   ]
  },
  {
   "cell_type": "code",
   "execution_count": 130,
   "metadata": {},
   "outputs": [
    {
     "name": "stdout",
     "output_type": "stream",
     "text": [
      "report:\n",
      "              precision    recall  f1-score   support\n",
      "\n",
      "           0       0.97      0.92      0.94      3646\n",
      "           1       0.21      0.44      0.28       186\n",
      "\n",
      "    accuracy                           0.89      3832\n",
      "   macro avg       0.59      0.68      0.61      3832\n",
      "weighted avg       0.93      0.89      0.91      3832\n",
      "\n"
     ]
    }
   ],
   "source": [
    "p_pred = model.predict_proba(x_train)\n",
    "y_pred = [1 if p[1] >cutoff else 0 for p in p_pred]\n",
    "score_ = model.score(x_train, y_train)\n",
    "conf_m = confusion_matrix(y_train, y_pred)\n",
    "report = classification_report(y_train, y_pred)\n",
    "print('report:', report, sep='\\n')"
   ]
  },
  {
   "cell_type": "code",
   "execution_count": 131,
   "metadata": {},
   "outputs": [
    {
     "data": {
      "image/png": "[encoded data removed]",
      "text/plain": [
       "<Figure size 432x288 with 1 Axes>"
      ]
     },
     "metadata": {
      "needs_background": "light"
     },
     "output_type": "display_data"
    }
   ],
   "source": [
    "import sklearn.metrics as metrics\n",
    "p_pred = model.predict_proba(x_train)[:,1]\n",
    "fpr, tpr, threshold = metrics.roc_curve(y_train, p_pred)\n",
    "roc_auc = metrics.auc(fpr, tpr)\n",
    "\n",
    "# method I: plt\n",
    "import matplotlib.pyplot as plt\n",
    "plt.title('Receiver Operating Characteristic')\n",
    "plt.plot(fpr, tpr, 'b', label = 'AUC = %0.2f' % roc_auc)\n",
    "plt.legend(loc = 'lower right')\n",
    "plt.plot([0, 1], [0, 1],'r--')\n",
    "plt.xlim([0, 1])\n",
    "plt.ylim([0, 1])\n",
    "plt.ylabel('True Positive Rate')\n",
    "plt.xlabel('False Positive Rate')\n",
    "plt.show()"
   ]
  },
  {
   "cell_type": "code",
   "execution_count": 132,
   "metadata": {},
   "outputs": [
    {
     "data": {
      "image/png": "[encoded data removed]",
      "text/plain": [
       "<Figure size 432x288 with 1 Axes>"
      ]
     },
     "metadata": {
      "needs_background": "light"
     },
     "output_type": "display_data"
    }
   ],
   "source": [
    "import sklearn.metrics as metrics\n",
    "p_pred = model.predict_proba(x_test)[:,1]\n",
    "fpr, tpr, threshold = metrics.roc_curve(y_test, p_pred)\n",
    "roc_auc = metrics.auc(fpr, tpr)\n",
    "\n",
    "# method I: plt\n",
    "import matplotlib.pyplot as plt\n",
    "plt.title('Receiver Operating Characteristic')\n",
    "plt.plot(fpr, tpr, 'b', label = 'AUC = %0.2f' % roc_auc)\n",
    "plt.legend(loc = 'lower right')\n",
    "plt.plot([0, 1], [0, 1],'r--')\n",
    "plt.xlim([0, 1])\n",
    "plt.ylim([0, 1])\n",
    "plt.ylabel('True Positive Rate')\n",
    "plt.xlabel('False Positive Rate')\n",
    "plt.show()"
   ]
  },
  {
   "cell_type": "code",
   "execution_count": 133,
   "metadata": {},
   "outputs": [
    {
     "data": {
      "text/plain": [
       "array([0.2962769 , 0.21287407, 0.10416594, 0.1885624 , 0.09661637,\n",
       "       0.        , 0.        , 0.        , 0.        , 0.00929474,\n",
       "       0.09220957])"
      ]
     },
     "execution_count": 133,
     "metadata": {},
     "output_type": "execute_result"
    }
   ],
   "source": [
    "model.feature_importances_"
   ]
  },
  {
   "cell_type": "code",
   "execution_count": 134,
   "metadata": {},
   "outputs": [
    {
     "data": {
      "image/png": "[encoded data removed]",
      "text/plain": [
       "<Figure size 432x288 with 1 Axes>"
      ]
     },
     "metadata": {
      "needs_background": "light"
     },
     "output_type": "display_data"
    }
   ],
   "source": [
    "plt.bar(data_f.columns[:-1], model.feature_importances_)\n",
    "plt.xticks(rotation = 90)\n",
    "plt.show()"
   ]
  },
  {
   "cell_type": "markdown",
   "metadata": {},
   "source": [
    "### Hyperparameter Tuning in case Of Decision Tree"
   ]
  },
  {
   "cell_type": "code",
   "execution_count": 135,
   "metadata": {},
   "outputs": [],
   "source": [
    "params = {'max_depth': list(range(2, 5)),'min_samples_leaf': list(range(5, 25))}"
   ]
  },
  {
   "cell_type": "code",
   "execution_count": 136,
   "metadata": {},
   "outputs": [],
   "source": [
    "scorer = metrics.make_scorer(metrics.roc_auc_score)"
   ]
  },
  {
   "cell_type": "code",
   "execution_count": 137,
   "metadata": {},
   "outputs": [],
   "source": [
    "grid = GridSearchCV(estimator=DecisionTreeClassifier(criterion=\"entropy\"), param_grid=params, scoring=scorer, cv=5)\n",
    "result = grid.fit(x_train, y_train)"
   ]
  },
  {
   "cell_type": "code",
   "execution_count": 138,
   "metadata": {},
   "outputs": [
    {
     "name": "stdout",
     "output_type": "stream",
     "text": [
      "Best score : 0.5025657164013329\n",
      "Best parameter : {'max_depth': 4, 'min_samples_leaf': 5}\n"
     ]
    }
   ],
   "source": [
    "print(f\"Best score : {result.best_score_}\")\n",
    "print(f\"Best parameter : {result.best_params_}\")"
   ]
  },
  {
   "cell_type": "code",
   "execution_count": 139,
   "metadata": {},
   "outputs": [
    {
     "data": {
      "text/plain": [
       "DecisionTreeClassifier(max_depth=4, min_samples_leaf=5, random_state=100)"
      ]
     },
     "execution_count": 139,
     "metadata": {},
     "output_type": "execute_result"
    }
   ],
   "source": [
    "model = DecisionTreeClassifier(max_depth=result.best_params_['max_depth'], min_samples_leaf=result.best_params_['min_samples_leaf'],random_state=100)\n",
    "model.fit(x_train, y_train)"
   ]
  },
  {
   "cell_type": "code",
   "execution_count": 140,
   "metadata": {},
   "outputs": [],
   "source": [
    "import sklearn.metrics as metrics\n",
    "p_pred = model.predict_proba(x_test)[:,1]\n",
    "fpr, tpr, threshold = metrics.roc_curve(y_test, p_pred)"
   ]
  },
  {
   "cell_type": "code",
   "execution_count": 141,
   "metadata": {},
   "outputs": [],
   "source": [
    "a=[]\n",
    "for i in threshold:\n",
    "    p_pred = model.predict_proba(x_test)\n",
    "    y_pred = [1 if p[1] > i else 0 for p in p_pred]\n",
    "    f1 = f1_score(y_test,y_pred)\n",
    "    a.append(f1)"
   ]
  },
  {
   "cell_type": "code",
   "execution_count": 142,
   "metadata": {},
   "outputs": [
    {
     "data": {
      "text/plain": [
       "0.18181818181818182"
      ]
     },
     "execution_count": 142,
     "metadata": {},
     "output_type": "execute_result"
    }
   ],
   "source": [
    "cutoff1 = threshold[np.argmax(a)]\n",
    "cutoff1"
   ]
  },
  {
   "cell_type": "code",
   "execution_count": 143,
   "metadata": {},
   "outputs": [
    {
     "name": "stdout",
     "output_type": "stream",
     "text": [
      "report:\n",
      "              precision    recall  f1-score   support\n",
      "\n",
      "           0       0.97      0.95      0.96      1215\n",
      "           1       0.29      0.37      0.33        63\n",
      "\n",
      "    accuracy                           0.93      1278\n",
      "   macro avg       0.63      0.66      0.64      1278\n",
      "weighted avg       0.93      0.93      0.93      1278\n",
      "\n"
     ]
    }
   ],
   "source": [
    "p_pred = model.predict_proba(x_test)\n",
    "y_pred = [1 if p[1] >cutoff1 else 0 for p in p_pred]\n",
    "conf_m = confusion_matrix(y_test, y_pred)\n",
    "report = classification_report(y_test, y_pred)\n",
    "print('report:', report, sep='\\n')"
   ]
  },
  {
   "cell_type": "code",
   "execution_count": 144,
   "metadata": {},
   "outputs": [],
   "source": [
    "import sklearn.metrics as metrics\n",
    "p_pred = model.predict_proba(x_train)[:,1]\n",
    "fpr, tpr, threshold = metrics.roc_curve(y_train, p_pred)"
   ]
  },
  {
   "cell_type": "code",
   "execution_count": 145,
   "metadata": {},
   "outputs": [],
   "source": [
    "a=[]\n",
    "for i in threshold:\n",
    "    p_pred = model.predict_proba(x_train)\n",
    "    y_pred = [1 if p[1] > i else 0 for p in p_pred]\n",
    "    f1 = f1_score(y_train,y_pred)\n",
    "    a.append(f1)"
   ]
  },
  {
   "cell_type": "code",
   "execution_count": 146,
   "metadata": {},
   "outputs": [
    {
     "data": {
      "text/plain": [
       "0.13636363636363635"
      ]
     },
     "execution_count": 146,
     "metadata": {},
     "output_type": "execute_result"
    }
   ],
   "source": [
    "cutoff = threshold[np.argmax(a)]\n",
    "cutoff"
   ]
  },
  {
   "cell_type": "code",
   "execution_count": 147,
   "metadata": {},
   "outputs": [
    {
     "name": "stdout",
     "output_type": "stream",
     "text": [
      "report:\n",
      "              precision    recall  f1-score   support\n",
      "\n",
      "           0       0.97      0.93      0.95      3646\n",
      "           1       0.24      0.44      0.31       186\n",
      "\n",
      "    accuracy                           0.90      3832\n",
      "   macro avg       0.60      0.68      0.63      3832\n",
      "weighted avg       0.93      0.90      0.92      3832\n",
      "\n"
     ]
    }
   ],
   "source": [
    "p_pred = model.predict_proba(x_train)\n",
    "y_pred = [1 if p[1] >cutoff else 0 for p in p_pred]\n",
    "conf_m = confusion_matrix(y_train, y_pred)\n",
    "report = classification_report(y_train, y_pred)\n",
    "print('report:', report, sep='\\n')"
   ]
  },
  {
   "cell_type": "code",
   "execution_count": 148,
   "metadata": {},
   "outputs": [
    {
     "data": {
      "image/png": "[encoded data removed]",
      "text/plain": [
       "<Figure size 432x288 with 1 Axes>"
      ]
     },
     "metadata": {
      "needs_background": "light"
     },
     "output_type": "display_data"
    }
   ],
   "source": [
    "import sklearn.metrics as metrics\n",
    "p_pred = model.predict_proba(x_test)[:,1]\n",
    "fpr, tpr, threshold = metrics.roc_curve(y_test, p_pred)\n",
    "roc_auc = metrics.auc(fpr, tpr)\n",
    "\n",
    "# method I: plt\n",
    "import matplotlib.pyplot as plt\n",
    "plt.title('Receiver Operating Characteristic')\n",
    "plt.plot(fpr, tpr, 'b', label = 'AUC = %0.2f' % roc_auc)\n",
    "plt.legend(loc = 'lower right')\n",
    "plt.plot([0, 1], [0, 1],'r--')\n",
    "plt.xlim([0, 1])\n",
    "plt.ylim([0, 1])\n",
    "plt.ylabel('True Positive Rate')\n",
    "plt.xlabel('False Positive Rate')\n",
    "plt.show()"
   ]
  },
  {
   "cell_type": "code",
   "execution_count": 149,
   "metadata": {},
   "outputs": [
    {
     "data": {
      "image/png": "[encoded data removed]",
      "text/plain": [
       "<Figure size 432x288 with 1 Axes>"
      ]
     },
     "metadata": {
      "needs_background": "light"
     },
     "output_type": "display_data"
    }
   ],
   "source": [
    "import sklearn.metrics as metrics\n",
    "p_pred = model.predict_proba(x_train)[:,1]\n",
    "fpr, tpr, threshold = metrics.roc_curve(y_train, p_pred)\n",
    "roc_auc = metrics.auc(fpr, tpr)\n",
    "\n",
    "# method I: plt\n",
    "import matplotlib.pyplot as plt\n",
    "plt.title('Receiver Operating Characteristic')\n",
    "plt.plot(fpr, tpr, 'b', label = 'AUC = %0.2f' % roc_auc)\n",
    "plt.legend(loc = 'lower right')\n",
    "plt.plot([0, 1], [0, 1],'r--')\n",
    "plt.xlim([0, 1])\n",
    "plt.ylim([0, 1])\n",
    "plt.ylabel('True Positive Rate')\n",
    "plt.xlabel('False Positive Rate')\n",
    "plt.show()"
   ]
  },
  {
   "cell_type": "code",
   "execution_count": 150,
   "metadata": {},
   "outputs": [
    {
     "data": {
      "image/png": "[encoded data removed]",
      "text/plain": [
       "<Figure size 432x288 with 1 Axes>"
      ]
     },
     "metadata": {
      "needs_background": "light"
     },
     "output_type": "display_data"
    }
   ],
   "source": [
    "importance1 = model.feature_importances_\n",
    "plt.bar(data_f.columns[:-1], importance1)\n",
    "plt.xticks(rotation = 90)\n",
    "plt.show()"
   ]
  },
  {
   "cell_type": "code",
   "execution_count": 151,
   "metadata": {},
   "outputs": [],
   "source": [
    "from xgboost import XGBClassifier"
   ]
  },
  {
   "cell_type": "code",
   "execution_count": 152,
   "metadata": {},
   "outputs": [
    {
     "data": {
      "text/plain": [
       "XGBClassifier(base_score=0.5, booster='gbtree', callbacks=None,\n",
       "              colsample_bylevel=1, colsample_bynode=1, colsample_bytree=1,\n",
       "              early_stopping_rounds=None, enable_categorical=False,\n",
       "              eval_metric=None, gamma=0, gpu_id=-1, grow_policy='depthwise',\n",
       "              importance_type=None, interaction_constraints='',\n",
       "              learning_rate=0.300000012, max_bin=256, max_cat_to_onehot=4,\n",
       "              max_delta_step=0, max_depth=3, max_leaves=0, min_child_weight=1,\n",
       "              missing=nan, monotone_constraints='()', n_estimators=10, n_jobs=0,\n",
       "              num_parallel_tree=1, predictor='auto', random_state=0,\n",
       "              reg_alpha=0, reg_lambda=1, ...)"
      ]
     },
     "execution_count": 152,
     "metadata": {},
     "output_type": "execute_result"
    }
   ],
   "source": [
    "XG = XGBClassifier(max_depth=3,n_estimators=10)\n",
    "XG.fit(x_train, y_train)"
   ]
  },
  {
   "cell_type": "code",
   "execution_count": 153,
   "metadata": {},
   "outputs": [],
   "source": [
    "import sklearn.metrics as metrics\n",
    "p_pred = XG.predict_proba(x_test)[:,1]\n",
    "fpr, tpr, threshold = metrics.roc_curve(y_test, p_pred)"
   ]
  },
  {
   "cell_type": "code",
   "execution_count": 154,
   "metadata": {},
   "outputs": [],
   "source": [
    "a=[]\n",
    "for i in threshold:\n",
    "    p_pred = XG.predict_proba(x_test)\n",
    "    y_pred = [1 if p[1] > i else 0 for p in p_pred]\n",
    "    f1 = f1_score(y_test,y_pred)\n",
    "    a.append(f1)"
   ]
  },
  {
   "cell_type": "code",
   "execution_count": 155,
   "metadata": {},
   "outputs": [
    {
     "data": {
      "text/plain": [
       "0.1465921"
      ]
     },
     "execution_count": 155,
     "metadata": {},
     "output_type": "execute_result"
    }
   ],
   "source": [
    "cutoff1 = threshold[np.argmax(a)]\n",
    "cutoff1"
   ]
  },
  {
   "cell_type": "code",
   "execution_count": 156,
   "metadata": {},
   "outputs": [
    {
     "name": "stdout",
     "output_type": "stream",
     "text": [
      "report:\n",
      "              precision    recall  f1-score   support\n",
      "\n",
      "           0       0.98      0.89      0.93      1215\n",
      "           1       0.22      0.60      0.32        63\n",
      "\n",
      "    accuracy                           0.87      1278\n",
      "   macro avg       0.60      0.75      0.63      1278\n",
      "weighted avg       0.94      0.87      0.90      1278\n",
      "\n"
     ]
    }
   ],
   "source": [
    "p_pred = XG.predict_proba(x_test)\n",
    "y_pred = [1 if p[1] >cutoff1 else 0 for p in p_pred]\n",
    "conf_m = confusion_matrix(y_test, y_pred)\n",
    "report = classification_report(y_test, y_pred)\n",
    "print('report:', report, sep='\\n')"
   ]
  },
  {
   "cell_type": "code",
   "execution_count": 157,
   "metadata": {},
   "outputs": [],
   "source": [
    "import sklearn.metrics as metrics\n",
    "p_pred = XG.predict_proba(x_train)[:,1]\n",
    "fpr, tpr, threshold = metrics.roc_curve(y_train, p_pred)"
   ]
  },
  {
   "cell_type": "code",
   "execution_count": 158,
   "metadata": {},
   "outputs": [],
   "source": [
    "a=[]\n",
    "for i in threshold:\n",
    "    p_pred = XG.predict_proba(x_train)\n",
    "    y_pred = [1 if p[1] > i else 0 for p in p_pred]\n",
    "    f1 = f1_score(y_train,y_pred)\n",
    "    a.append(f1)"
   ]
  },
  {
   "cell_type": "code",
   "execution_count": 159,
   "metadata": {},
   "outputs": [
    {
     "data": {
      "text/plain": [
       "0.1904896"
      ]
     },
     "execution_count": 159,
     "metadata": {},
     "output_type": "execute_result"
    }
   ],
   "source": [
    "cutoff = threshold[np.argmax(a)]\n",
    "cutoff"
   ]
  },
  {
   "cell_type": "code",
   "execution_count": 160,
   "metadata": {},
   "outputs": [
    {
     "name": "stdout",
     "output_type": "stream",
     "text": [
      "report:\n",
      "              precision    recall  f1-score   support\n",
      "\n",
      "           0       0.97      0.95      0.96      3646\n",
      "           1       0.31      0.42      0.36       186\n",
      "\n",
      "    accuracy                           0.93      3832\n",
      "   macro avg       0.64      0.69      0.66      3832\n",
      "weighted avg       0.94      0.93      0.93      3832\n",
      "\n"
     ]
    }
   ],
   "source": [
    "p_pred = XG.predict_proba(x_train)\n",
    "y_pred = [1 if p[1] >cutoff else 0 for p in p_pred]\n",
    "conf_m = confusion_matrix(y_train, y_pred)\n",
    "report = classification_report(y_train, y_pred)\n",
    "print('report:', report, sep='\\n')"
   ]
  },
  {
   "cell_type": "code",
   "execution_count": 161,
   "metadata": {},
   "outputs": [
    {
     "data": {
      "image/png": "[encoded data removed]",
      "text/plain": [
       "<Figure size 432x288 with 1 Axes>"
      ]
     },
     "metadata": {
      "needs_background": "light"
     },
     "output_type": "display_data"
    }
   ],
   "source": [
    "import sklearn.metrics as metrics\n",
    "p_pred = XG.predict_proba(x_test)[:,1]\n",
    "fpr, tpr, threshold = metrics.roc_curve(y_test, p_pred)\n",
    "roc_auc = metrics.auc(fpr, tpr)\n",
    "\n",
    "# method I: plt\n",
    "import matplotlib.pyplot as plt\n",
    "plt.title('Receiver Operating Characteristic')\n",
    "plt.plot(fpr, tpr, 'b', label = 'AUC = %0.2f' % roc_auc)\n",
    "plt.legend(loc = 'lower right')\n",
    "plt.plot([0, 1], [0, 1],'r--')\n",
    "plt.xlim([0, 1])\n",
    "plt.ylim([0, 1])\n",
    "plt.ylabel('True Positive Rate')\n",
    "plt.xlabel('False Positive Rate')\n",
    "plt.show()"
   ]
  },
  {
   "cell_type": "code",
   "execution_count": 162,
   "metadata": {},
   "outputs": [
    {
     "data": {
      "image/png": "[encoded data removed]",
      "text/plain": [
       "<Figure size 432x288 with 1 Axes>"
      ]
     },
     "metadata": {
      "needs_background": "light"
     },
     "output_type": "display_data"
    }
   ],
   "source": [
    "import sklearn.metrics as metrics\n",
    "p_pred = XG.predict_proba(x_train)[:,1]\n",
    "fpr, tpr, threshold = metrics.roc_curve(y_train, p_pred)\n",
    "roc_auc = metrics.auc(fpr, tpr)\n",
    "\n",
    "# method I: plt\n",
    "import matplotlib.pyplot as plt\n",
    "plt.title('Receiver Operating Characteristic')\n",
    "plt.plot(fpr, tpr, 'b', label = 'AUC = %0.2f' % roc_auc)\n",
    "plt.legend(loc = 'lower right')\n",
    "plt.plot([0, 1], [0, 1],'r--')\n",
    "plt.xlim([0, 1])\n",
    "plt.ylim([0, 1])\n",
    "plt.ylabel('True Positive Rate')\n",
    "plt.xlabel('False Positive Rate')\n",
    "plt.show()"
   ]
  },
  {
   "cell_type": "code",
   "execution_count": 163,
   "metadata": {},
   "outputs": [
    {
     "data": {
      "image/png": "[encoded data removed]",
      "text/plain": [
       "<Figure size 432x288 with 1 Axes>"
      ]
     },
     "metadata": {
      "needs_background": "light"
     },
     "output_type": "display_data"
    }
   ],
   "source": [
    "importance1 = XG.feature_importances_\n",
    "plt.bar(data_f.columns[:-1], importance1)\n",
    "plt.xticks(rotation = 90)\n",
    "plt.show()"
   ]
  },
  {
   "cell_type": "markdown",
   "metadata": {},
   "source": [
    "### Decile Table"
   ]
  },
  {
   "cell_type": "code",
   "execution_count": 189,
   "metadata": {},
   "outputs": [],
   "source": [
    "from sklearn.model_selection import train_test_split\n",
    "x = data_f.iloc[:,:-1]\n",
    "y = data_f.iloc[:,-1]\n",
    "\n",
    "\n",
    "x_train, x_test, y_train, y_test = train_test_split(x, y, test_size=.25)"
   ]
  },
  {
   "cell_type": "code",
   "execution_count": 190,
   "metadata": {},
   "outputs": [
    {
     "data": {
      "text/html": [
       "<div>\n",
       "<style scoped>\n",
       "    .dataframe tbody tr th:only-of-type {\n",
       "        vertical-align: middle;\n",
       "    }\n",
       "\n",
       "    .dataframe tbody tr th {\n",
       "        vertical-align: top;\n",
       "    }\n",
       "\n",
       "    .dataframe thead th {\n",
       "        text-align: right;\n",
       "    }\n",
       "</style>\n",
       "<table border=\"1\" class=\"dataframe\">\n",
       "  <thead>\n",
       "    <tr style=\"text-align: right;\">\n",
       "      <th></th>\n",
       "      <th>age</th>\n",
       "      <th>hypertension</th>\n",
       "      <th>heart_disease</th>\n",
       "      <th>avg_glucose_level</th>\n",
       "      <th>rep_smoking_status_formerly smoked</th>\n",
       "      <th>rep_smoking_status_never smoked</th>\n",
       "      <th>work_type_Govt_job</th>\n",
       "      <th>work_type_Never_worked</th>\n",
       "      <th>work_type_Private</th>\n",
       "      <th>work_type_Self-employed</th>\n",
       "      <th>ever_married_Yes</th>\n",
       "      <th>stroke</th>\n",
       "    </tr>\n",
       "  </thead>\n",
       "  <tbody>\n",
       "    <tr>\n",
       "      <th>2035</th>\n",
       "      <td>45.0</td>\n",
       "      <td>0</td>\n",
       "      <td>0</td>\n",
       "      <td>73.27</td>\n",
       "      <td>0</td>\n",
       "      <td>0</td>\n",
       "      <td>0</td>\n",
       "      <td>0</td>\n",
       "      <td>1</td>\n",
       "      <td>0</td>\n",
       "      <td>1</td>\n",
       "      <td>0</td>\n",
       "    </tr>\n",
       "    <tr>\n",
       "      <th>550</th>\n",
       "      <td>15.0</td>\n",
       "      <td>0</td>\n",
       "      <td>0</td>\n",
       "      <td>126.96</td>\n",
       "      <td>0</td>\n",
       "      <td>1</td>\n",
       "      <td>0</td>\n",
       "      <td>0</td>\n",
       "      <td>0</td>\n",
       "      <td>0</td>\n",
       "      <td>0</td>\n",
       "      <td>0</td>\n",
       "    </tr>\n",
       "    <tr>\n",
       "      <th>1547</th>\n",
       "      <td>59.0</td>\n",
       "      <td>0</td>\n",
       "      <td>1</td>\n",
       "      <td>194.98</td>\n",
       "      <td>1</td>\n",
       "      <td>0</td>\n",
       "      <td>0</td>\n",
       "      <td>0</td>\n",
       "      <td>0</td>\n",
       "      <td>1</td>\n",
       "      <td>1</td>\n",
       "      <td>0</td>\n",
       "    </tr>\n",
       "    <tr>\n",
       "      <th>4228</th>\n",
       "      <td>68.0</td>\n",
       "      <td>0</td>\n",
       "      <td>0</td>\n",
       "      <td>76.09</td>\n",
       "      <td>0</td>\n",
       "      <td>0</td>\n",
       "      <td>0</td>\n",
       "      <td>0</td>\n",
       "      <td>0</td>\n",
       "      <td>1</td>\n",
       "      <td>1</td>\n",
       "      <td>0</td>\n",
       "    </tr>\n",
       "    <tr>\n",
       "      <th>918</th>\n",
       "      <td>77.0</td>\n",
       "      <td>0</td>\n",
       "      <td>0</td>\n",
       "      <td>115.29</td>\n",
       "      <td>1</td>\n",
       "      <td>0</td>\n",
       "      <td>0</td>\n",
       "      <td>0</td>\n",
       "      <td>1</td>\n",
       "      <td>0</td>\n",
       "      <td>1</td>\n",
       "      <td>0</td>\n",
       "    </tr>\n",
       "  </tbody>\n",
       "</table>\n",
       "</div>"
      ],
      "text/plain": [
       "       age  hypertension  heart_disease  avg_glucose_level  \\\n",
       "2035  45.0             0              0              73.27   \n",
       "550   15.0             0              0             126.96   \n",
       "1547  59.0             0              1             194.98   \n",
       "4228  68.0             0              0              76.09   \n",
       "918   77.0             0              0             115.29   \n",
       "\n",
       "      rep_smoking_status_formerly smoked  rep_smoking_status_never smoked  \\\n",
       "2035                                   0                                0   \n",
       "550                                    0                                1   \n",
       "1547                                   1                                0   \n",
       "4228                                   0                                0   \n",
       "918                                    1                                0   \n",
       "\n",
       "      work_type_Govt_job  work_type_Never_worked  work_type_Private  \\\n",
       "2035                   0                       0                  1   \n",
       "550                    0                       0                  0   \n",
       "1547                   0                       0                  0   \n",
       "4228                   0                       0                  0   \n",
       "918                    0                       0                  1   \n",
       "\n",
       "      work_type_Self-employed  ever_married_Yes  stroke  \n",
       "2035                        0                 1       0  \n",
       "550                         0                 0       0  \n",
       "1547                        1                 1       0  \n",
       "4228                        1                 1       0  \n",
       "918                         0                 1       0  "
      ]
     },
     "execution_count": 190,
     "metadata": {},
     "output_type": "execute_result"
    }
   ],
   "source": [
    "df_train = pd.concat([x_train, y_train], axis=1)\n",
    "df_train.head()"
   ]
  },
  {
   "cell_type": "code",
   "execution_count": 191,
   "metadata": {},
   "outputs": [
    {
     "data": {
      "text/plain": [
       "(3832, 12)"
      ]
     },
     "execution_count": 191,
     "metadata": {},
     "output_type": "execute_result"
    }
   ],
   "source": [
    "df_train.shape"
   ]
  },
  {
   "cell_type": "code",
   "execution_count": 192,
   "metadata": {},
   "outputs": [
    {
     "data": {
      "text/plain": [
       "Index(['age', 'hypertension', 'heart_disease', 'avg_glucose_level',\n",
       "       'rep_smoking_status_formerly smoked', 'rep_smoking_status_never smoked',\n",
       "       'work_type_Govt_job', 'work_type_Never_worked', 'work_type_Private',\n",
       "       'work_type_Self-employed', 'ever_married_Yes', 'stroke'],\n",
       "      dtype='object')"
      ]
     },
     "execution_count": 192,
     "metadata": {},
     "output_type": "execute_result"
    }
   ],
   "source": [
    "df_train.columns"
   ]
  },
  {
   "cell_type": "code",
   "execution_count": 193,
   "metadata": {},
   "outputs": [
    {
     "data": {
      "text/plain": [
       "LogisticRegression(C=4, random_state=0, solver='liblinear')"
      ]
     },
     "execution_count": 193,
     "metadata": {},
     "output_type": "execute_result"
    }
   ],
   "source": [
    "import numpy as np\n",
    "from sklearn import linear_model\n",
    "\n",
    "logr = linear_model.LogisticRegression(solver='liblinear', C=4, random_state=0)\n",
    "logr.fit(x_train, y_train)"
   ]
  },
  {
   "cell_type": "code",
   "execution_count": 194,
   "metadata": {},
   "outputs": [
    {
     "data": {
      "text/plain": [
       "array([[0.98222623, 0.01777377],\n",
       "       [0.99489585, 0.00510415],\n",
       "       [0.91749956, 0.08250044],\n",
       "       ...,\n",
       "       [0.90999137, 0.09000863],\n",
       "       [0.99713315, 0.00286685],\n",
       "       [0.99665176, 0.00334824]])"
      ]
     },
     "execution_count": 194,
     "metadata": {},
     "output_type": "execute_result"
    }
   ],
   "source": [
    "y_train_prob = logr.predict_proba(x_train)\n",
    "y_train_prob"
   ]
  },
  {
   "cell_type": "code",
   "execution_count": 195,
   "metadata": {},
   "outputs": [],
   "source": [
    "df_train[\"prob\"]=y_train_prob[:,1]"
   ]
  },
  {
   "cell_type": "code",
   "execution_count": 196,
   "metadata": {},
   "outputs": [
    {
     "data": {
      "text/html": [
       "<div>\n",
       "<style scoped>\n",
       "    .dataframe tbody tr th:only-of-type {\n",
       "        vertical-align: middle;\n",
       "    }\n",
       "\n",
       "    .dataframe tbody tr th {\n",
       "        vertical-align: top;\n",
       "    }\n",
       "\n",
       "    .dataframe thead th {\n",
       "        text-align: right;\n",
       "    }\n",
       "</style>\n",
       "<table border=\"1\" class=\"dataframe\">\n",
       "  <thead>\n",
       "    <tr style=\"text-align: right;\">\n",
       "      <th></th>\n",
       "      <th>age</th>\n",
       "      <th>hypertension</th>\n",
       "      <th>heart_disease</th>\n",
       "      <th>avg_glucose_level</th>\n",
       "      <th>rep_smoking_status_formerly smoked</th>\n",
       "      <th>rep_smoking_status_never smoked</th>\n",
       "      <th>work_type_Govt_job</th>\n",
       "      <th>work_type_Never_worked</th>\n",
       "      <th>work_type_Private</th>\n",
       "      <th>work_type_Self-employed</th>\n",
       "      <th>ever_married_Yes</th>\n",
       "      <th>stroke</th>\n",
       "      <th>prob</th>\n",
       "    </tr>\n",
       "  </thead>\n",
       "  <tbody>\n",
       "    <tr>\n",
       "      <th>2035</th>\n",
       "      <td>45.0</td>\n",
       "      <td>0</td>\n",
       "      <td>0</td>\n",
       "      <td>73.27</td>\n",
       "      <td>0</td>\n",
       "      <td>0</td>\n",
       "      <td>0</td>\n",
       "      <td>0</td>\n",
       "      <td>1</td>\n",
       "      <td>0</td>\n",
       "      <td>1</td>\n",
       "      <td>0</td>\n",
       "      <td>0.017774</td>\n",
       "    </tr>\n",
       "    <tr>\n",
       "      <th>550</th>\n",
       "      <td>15.0</td>\n",
       "      <td>0</td>\n",
       "      <td>0</td>\n",
       "      <td>126.96</td>\n",
       "      <td>0</td>\n",
       "      <td>1</td>\n",
       "      <td>0</td>\n",
       "      <td>0</td>\n",
       "      <td>0</td>\n",
       "      <td>0</td>\n",
       "      <td>0</td>\n",
       "      <td>0</td>\n",
       "      <td>0.005104</td>\n",
       "    </tr>\n",
       "    <tr>\n",
       "      <th>1547</th>\n",
       "      <td>59.0</td>\n",
       "      <td>0</td>\n",
       "      <td>1</td>\n",
       "      <td>194.98</td>\n",
       "      <td>1</td>\n",
       "      <td>0</td>\n",
       "      <td>0</td>\n",
       "      <td>0</td>\n",
       "      <td>0</td>\n",
       "      <td>1</td>\n",
       "      <td>1</td>\n",
       "      <td>0</td>\n",
       "      <td>0.082500</td>\n",
       "    </tr>\n",
       "    <tr>\n",
       "      <th>4228</th>\n",
       "      <td>68.0</td>\n",
       "      <td>0</td>\n",
       "      <td>0</td>\n",
       "      <td>76.09</td>\n",
       "      <td>0</td>\n",
       "      <td>0</td>\n",
       "      <td>0</td>\n",
       "      <td>0</td>\n",
       "      <td>0</td>\n",
       "      <td>1</td>\n",
       "      <td>1</td>\n",
       "      <td>0</td>\n",
       "      <td>0.068979</td>\n",
       "    </tr>\n",
       "    <tr>\n",
       "      <th>918</th>\n",
       "      <td>77.0</td>\n",
       "      <td>0</td>\n",
       "      <td>0</td>\n",
       "      <td>115.29</td>\n",
       "      <td>1</td>\n",
       "      <td>0</td>\n",
       "      <td>0</td>\n",
       "      <td>0</td>\n",
       "      <td>1</td>\n",
       "      <td>0</td>\n",
       "      <td>1</td>\n",
       "      <td>0</td>\n",
       "      <td>0.188429</td>\n",
       "    </tr>\n",
       "  </tbody>\n",
       "</table>\n",
       "</div>"
      ],
      "text/plain": [
       "       age  hypertension  heart_disease  avg_glucose_level  \\\n",
       "2035  45.0             0              0              73.27   \n",
       "550   15.0             0              0             126.96   \n",
       "1547  59.0             0              1             194.98   \n",
       "4228  68.0             0              0              76.09   \n",
       "918   77.0             0              0             115.29   \n",
       "\n",
       "      rep_smoking_status_formerly smoked  rep_smoking_status_never smoked  \\\n",
       "2035                                   0                                0   \n",
       "550                                    0                                1   \n",
       "1547                                   1                                0   \n",
       "4228                                   0                                0   \n",
       "918                                    1                                0   \n",
       "\n",
       "      work_type_Govt_job  work_type_Never_worked  work_type_Private  \\\n",
       "2035                   0                       0                  1   \n",
       "550                    0                       0                  0   \n",
       "1547                   0                       0                  0   \n",
       "4228                   0                       0                  0   \n",
       "918                    0                       0                  1   \n",
       "\n",
       "      work_type_Self-employed  ever_married_Yes  stroke      prob  \n",
       "2035                        0                 1       0  0.017774  \n",
       "550                         0                 0       0  0.005104  \n",
       "1547                        1                 1       0  0.082500  \n",
       "4228                        1                 1       0  0.068979  \n",
       "918                         0                 1       0  0.188429  "
      ]
     },
     "execution_count": 196,
     "metadata": {},
     "output_type": "execute_result"
    }
   ],
   "source": [
    "df_train.head()"
   ]
  },
  {
   "cell_type": "code",
   "execution_count": 197,
   "metadata": {},
   "outputs": [],
   "source": [
    "df_train.sort_values(by=['prob'], ascending=False, inplace=True)"
   ]
  },
  {
   "cell_type": "code",
   "execution_count": 198,
   "metadata": {},
   "outputs": [
    {
     "data": {
      "text/html": [
       "<div>\n",
       "<style scoped>\n",
       "    .dataframe tbody tr th:only-of-type {\n",
       "        vertical-align: middle;\n",
       "    }\n",
       "\n",
       "    .dataframe tbody tr th {\n",
       "        vertical-align: top;\n",
       "    }\n",
       "\n",
       "    .dataframe thead th {\n",
       "        text-align: right;\n",
       "    }\n",
       "</style>\n",
       "<table border=\"1\" class=\"dataframe\">\n",
       "  <thead>\n",
       "    <tr style=\"text-align: right;\">\n",
       "      <th></th>\n",
       "      <th>age</th>\n",
       "      <th>hypertension</th>\n",
       "      <th>heart_disease</th>\n",
       "      <th>avg_glucose_level</th>\n",
       "      <th>rep_smoking_status_formerly smoked</th>\n",
       "      <th>rep_smoking_status_never smoked</th>\n",
       "      <th>work_type_Govt_job</th>\n",
       "      <th>work_type_Never_worked</th>\n",
       "      <th>work_type_Private</th>\n",
       "      <th>work_type_Self-employed</th>\n",
       "      <th>ever_married_Yes</th>\n",
       "      <th>stroke</th>\n",
       "      <th>prob</th>\n",
       "    </tr>\n",
       "  </thead>\n",
       "  <tbody>\n",
       "    <tr>\n",
       "      <th>220</th>\n",
       "      <td>81.0</td>\n",
       "      <td>1</td>\n",
       "      <td>1</td>\n",
       "      <td>250.89</td>\n",
       "      <td>0</td>\n",
       "      <td>0</td>\n",
       "      <td>0</td>\n",
       "      <td>0</td>\n",
       "      <td>1</td>\n",
       "      <td>0</td>\n",
       "      <td>1</td>\n",
       "      <td>1</td>\n",
       "      <td>0.458605</td>\n",
       "    </tr>\n",
       "    <tr>\n",
       "      <th>4164</th>\n",
       "      <td>82.0</td>\n",
       "      <td>1</td>\n",
       "      <td>0</td>\n",
       "      <td>222.52</td>\n",
       "      <td>1</td>\n",
       "      <td>0</td>\n",
       "      <td>0</td>\n",
       "      <td>0</td>\n",
       "      <td>1</td>\n",
       "      <td>0</td>\n",
       "      <td>1</td>\n",
       "      <td>0</td>\n",
       "      <td>0.424565</td>\n",
       "    </tr>\n",
       "    <tr>\n",
       "      <th>3882</th>\n",
       "      <td>81.0</td>\n",
       "      <td>1</td>\n",
       "      <td>1</td>\n",
       "      <td>217.94</td>\n",
       "      <td>1</td>\n",
       "      <td>0</td>\n",
       "      <td>1</td>\n",
       "      <td>0</td>\n",
       "      <td>0</td>\n",
       "      <td>0</td>\n",
       "      <td>1</td>\n",
       "      <td>0</td>\n",
       "      <td>0.409611</td>\n",
       "    </tr>\n",
       "    <tr>\n",
       "      <th>35</th>\n",
       "      <td>82.0</td>\n",
       "      <td>1</td>\n",
       "      <td>1</td>\n",
       "      <td>84.03</td>\n",
       "      <td>1</td>\n",
       "      <td>0</td>\n",
       "      <td>0</td>\n",
       "      <td>0</td>\n",
       "      <td>1</td>\n",
       "      <td>0</td>\n",
       "      <td>0</td>\n",
       "      <td>1</td>\n",
       "      <td>0.399809</td>\n",
       "    </tr>\n",
       "    <tr>\n",
       "      <th>337</th>\n",
       "      <td>82.0</td>\n",
       "      <td>0</td>\n",
       "      <td>1</td>\n",
       "      <td>215.60</td>\n",
       "      <td>0</td>\n",
       "      <td>1</td>\n",
       "      <td>0</td>\n",
       "      <td>0</td>\n",
       "      <td>1</td>\n",
       "      <td>0</td>\n",
       "      <td>0</td>\n",
       "      <td>0</td>\n",
       "      <td>0.380134</td>\n",
       "    </tr>\n",
       "  </tbody>\n",
       "</table>\n",
       "</div>"
      ],
      "text/plain": [
       "       age  hypertension  heart_disease  avg_glucose_level  \\\n",
       "220   81.0             1              1             250.89   \n",
       "4164  82.0             1              0             222.52   \n",
       "3882  81.0             1              1             217.94   \n",
       "35    82.0             1              1              84.03   \n",
       "337   82.0             0              1             215.60   \n",
       "\n",
       "      rep_smoking_status_formerly smoked  rep_smoking_status_never smoked  \\\n",
       "220                                    0                                0   \n",
       "4164                                   1                                0   \n",
       "3882                                   1                                0   \n",
       "35                                     1                                0   \n",
       "337                                    0                                1   \n",
       "\n",
       "      work_type_Govt_job  work_type_Never_worked  work_type_Private  \\\n",
       "220                    0                       0                  1   \n",
       "4164                   0                       0                  1   \n",
       "3882                   1                       0                  0   \n",
       "35                     0                       0                  1   \n",
       "337                    0                       0                  1   \n",
       "\n",
       "      work_type_Self-employed  ever_married_Yes  stroke      prob  \n",
       "220                         0                 1       1  0.458605  \n",
       "4164                        0                 1       0  0.424565  \n",
       "3882                        0                 1       0  0.409611  \n",
       "35                          0                 0       1  0.399809  \n",
       "337                         0                 0       0  0.380134  "
      ]
     },
     "execution_count": 198,
     "metadata": {},
     "output_type": "execute_result"
    }
   ],
   "source": [
    "df_train.head()"
   ]
  },
  {
   "cell_type": "code",
   "execution_count": 199,
   "metadata": {},
   "outputs": [
    {
     "data": {
      "text/plain": [
       "220     0\n",
       "4164    0\n",
       "3882    0\n",
       "35      0\n",
       "337     0\n",
       "       ..\n",
       "1808    9\n",
       "3295    9\n",
       "2898    9\n",
       "1093    9\n",
       "4293    9\n",
       "Name: prob, Length: 3832, dtype: int64"
      ]
     },
     "execution_count": 199,
     "metadata": {},
     "output_type": "execute_result"
    }
   ],
   "source": [
    "prob_deciles_train = 9 - pd.qcut(df_train.prob, 10, labels=False)\n",
    "prob_deciles_train"
   ]
  },
  {
   "cell_type": "code",
   "execution_count": 200,
   "metadata": {},
   "outputs": [],
   "source": [
    "df_train[\"prob_decile\"]=prob_deciles_train"
   ]
  },
  {
   "cell_type": "code",
   "execution_count": 201,
   "metadata": {},
   "outputs": [
    {
     "data": {
      "text/html": [
       "<div>\n",
       "<style scoped>\n",
       "    .dataframe tbody tr th:only-of-type {\n",
       "        vertical-align: middle;\n",
       "    }\n",
       "\n",
       "    .dataframe tbody tr th {\n",
       "        vertical-align: top;\n",
       "    }\n",
       "\n",
       "    .dataframe thead th {\n",
       "        text-align: right;\n",
       "    }\n",
       "</style>\n",
       "<table border=\"1\" class=\"dataframe\">\n",
       "  <thead>\n",
       "    <tr style=\"text-align: right;\">\n",
       "      <th></th>\n",
       "      <th>age</th>\n",
       "      <th>hypertension</th>\n",
       "      <th>heart_disease</th>\n",
       "      <th>avg_glucose_level</th>\n",
       "      <th>rep_smoking_status_formerly smoked</th>\n",
       "      <th>rep_smoking_status_never smoked</th>\n",
       "      <th>work_type_Govt_job</th>\n",
       "      <th>work_type_Never_worked</th>\n",
       "      <th>work_type_Private</th>\n",
       "      <th>work_type_Self-employed</th>\n",
       "      <th>ever_married_Yes</th>\n",
       "      <th>stroke</th>\n",
       "      <th>prob</th>\n",
       "      <th>prob_decile</th>\n",
       "    </tr>\n",
       "  </thead>\n",
       "  <tbody>\n",
       "    <tr>\n",
       "      <th>220</th>\n",
       "      <td>81.0</td>\n",
       "      <td>1</td>\n",
       "      <td>1</td>\n",
       "      <td>250.89</td>\n",
       "      <td>0</td>\n",
       "      <td>0</td>\n",
       "      <td>0</td>\n",
       "      <td>0</td>\n",
       "      <td>1</td>\n",
       "      <td>0</td>\n",
       "      <td>1</td>\n",
       "      <td>1</td>\n",
       "      <td>0.458605</td>\n",
       "      <td>0</td>\n",
       "    </tr>\n",
       "    <tr>\n",
       "      <th>4164</th>\n",
       "      <td>82.0</td>\n",
       "      <td>1</td>\n",
       "      <td>0</td>\n",
       "      <td>222.52</td>\n",
       "      <td>1</td>\n",
       "      <td>0</td>\n",
       "      <td>0</td>\n",
       "      <td>0</td>\n",
       "      <td>1</td>\n",
       "      <td>0</td>\n",
       "      <td>1</td>\n",
       "      <td>0</td>\n",
       "      <td>0.424565</td>\n",
       "      <td>0</td>\n",
       "    </tr>\n",
       "    <tr>\n",
       "      <th>3882</th>\n",
       "      <td>81.0</td>\n",
       "      <td>1</td>\n",
       "      <td>1</td>\n",
       "      <td>217.94</td>\n",
       "      <td>1</td>\n",
       "      <td>0</td>\n",
       "      <td>1</td>\n",
       "      <td>0</td>\n",
       "      <td>0</td>\n",
       "      <td>0</td>\n",
       "      <td>1</td>\n",
       "      <td>0</td>\n",
       "      <td>0.409611</td>\n",
       "      <td>0</td>\n",
       "    </tr>\n",
       "    <tr>\n",
       "      <th>35</th>\n",
       "      <td>82.0</td>\n",
       "      <td>1</td>\n",
       "      <td>1</td>\n",
       "      <td>84.03</td>\n",
       "      <td>1</td>\n",
       "      <td>0</td>\n",
       "      <td>0</td>\n",
       "      <td>0</td>\n",
       "      <td>1</td>\n",
       "      <td>0</td>\n",
       "      <td>0</td>\n",
       "      <td>1</td>\n",
       "      <td>0.399809</td>\n",
       "      <td>0</td>\n",
       "    </tr>\n",
       "    <tr>\n",
       "      <th>337</th>\n",
       "      <td>82.0</td>\n",
       "      <td>0</td>\n",
       "      <td>1</td>\n",
       "      <td>215.60</td>\n",
       "      <td>0</td>\n",
       "      <td>1</td>\n",
       "      <td>0</td>\n",
       "      <td>0</td>\n",
       "      <td>1</td>\n",
       "      <td>0</td>\n",
       "      <td>0</td>\n",
       "      <td>0</td>\n",
       "      <td>0.380134</td>\n",
       "      <td>0</td>\n",
       "    </tr>\n",
       "  </tbody>\n",
       "</table>\n",
       "</div>"
      ],
      "text/plain": [
       "       age  hypertension  heart_disease  avg_glucose_level  \\\n",
       "220   81.0             1              1             250.89   \n",
       "4164  82.0             1              0             222.52   \n",
       "3882  81.0             1              1             217.94   \n",
       "35    82.0             1              1              84.03   \n",
       "337   82.0             0              1             215.60   \n",
       "\n",
       "      rep_smoking_status_formerly smoked  rep_smoking_status_never smoked  \\\n",
       "220                                    0                                0   \n",
       "4164                                   1                                0   \n",
       "3882                                   1                                0   \n",
       "35                                     1                                0   \n",
       "337                                    0                                1   \n",
       "\n",
       "      work_type_Govt_job  work_type_Never_worked  work_type_Private  \\\n",
       "220                    0                       0                  1   \n",
       "4164                   0                       0                  1   \n",
       "3882                   1                       0                  0   \n",
       "35                     0                       0                  1   \n",
       "337                    0                       0                  1   \n",
       "\n",
       "      work_type_Self-employed  ever_married_Yes  stroke      prob  prob_decile  \n",
       "220                         0                 1       1  0.458605            0  \n",
       "4164                        0                 1       0  0.424565            0  \n",
       "3882                        0                 1       0  0.409611            0  \n",
       "35                          0                 0       1  0.399809            0  \n",
       "337                         0                 0       0  0.380134            0  "
      ]
     },
     "execution_count": 201,
     "metadata": {},
     "output_type": "execute_result"
    }
   ],
   "source": [
    "df_train.head()"
   ]
  },
  {
   "cell_type": "code",
   "execution_count": 202,
   "metadata": {},
   "outputs": [
    {
     "data": {
      "text/html": [
       "<div>\n",
       "<style scoped>\n",
       "    .dataframe tbody tr th:only-of-type {\n",
       "        vertical-align: middle;\n",
       "    }\n",
       "\n",
       "    .dataframe tbody tr th {\n",
       "        vertical-align: top;\n",
       "    }\n",
       "\n",
       "    .dataframe thead th {\n",
       "        text-align: right;\n",
       "    }\n",
       "</style>\n",
       "<table border=\"1\" class=\"dataframe\">\n",
       "  <thead>\n",
       "    <tr style=\"text-align: right;\">\n",
       "      <th>stroke</th>\n",
       "      <th>0</th>\n",
       "      <th>1</th>\n",
       "    </tr>\n",
       "    <tr>\n",
       "      <th>prob</th>\n",
       "      <th></th>\n",
       "      <th></th>\n",
       "    </tr>\n",
       "  </thead>\n",
       "  <tbody>\n",
       "    <tr>\n",
       "      <th>0</th>\n",
       "      <td>304</td>\n",
       "      <td>80</td>\n",
       "    </tr>\n",
       "    <tr>\n",
       "      <th>1</th>\n",
       "      <td>334</td>\n",
       "      <td>49</td>\n",
       "    </tr>\n",
       "    <tr>\n",
       "      <th>2</th>\n",
       "      <td>359</td>\n",
       "      <td>24</td>\n",
       "    </tr>\n",
       "    <tr>\n",
       "      <th>3</th>\n",
       "      <td>369</td>\n",
       "      <td>14</td>\n",
       "    </tr>\n",
       "    <tr>\n",
       "      <th>4</th>\n",
       "      <td>374</td>\n",
       "      <td>9</td>\n",
       "    </tr>\n",
       "    <tr>\n",
       "      <th>5</th>\n",
       "      <td>376</td>\n",
       "      <td>7</td>\n",
       "    </tr>\n",
       "    <tr>\n",
       "      <th>6</th>\n",
       "      <td>380</td>\n",
       "      <td>3</td>\n",
       "    </tr>\n",
       "    <tr>\n",
       "      <th>7</th>\n",
       "      <td>383</td>\n",
       "      <td>0</td>\n",
       "    </tr>\n",
       "    <tr>\n",
       "      <th>8</th>\n",
       "      <td>383</td>\n",
       "      <td>0</td>\n",
       "    </tr>\n",
       "    <tr>\n",
       "      <th>9</th>\n",
       "      <td>384</td>\n",
       "      <td>0</td>\n",
       "    </tr>\n",
       "  </tbody>\n",
       "</table>\n",
       "</div>"
      ],
      "text/plain": [
       "stroke    0   1\n",
       "prob           \n",
       "0       304  80\n",
       "1       334  49\n",
       "2       359  24\n",
       "3       369  14\n",
       "4       374   9\n",
       "5       376   7\n",
       "6       380   3\n",
       "7       383   0\n",
       "8       383   0\n",
       "9       384   0"
      ]
     },
     "execution_count": 202,
     "metadata": {},
     "output_type": "execute_result"
    }
   ],
   "source": [
    "t1 = pd.crosstab(prob_deciles_train, df_train.stroke)\n",
    "t1"
   ]
  },
  {
   "cell_type": "code",
   "execution_count": 203,
   "metadata": {},
   "outputs": [
    {
     "data": {
      "text/html": [
       "<div>\n",
       "<style scoped>\n",
       "    .dataframe tbody tr th:only-of-type {\n",
       "        vertical-align: middle;\n",
       "    }\n",
       "\n",
       "    .dataframe tbody tr th {\n",
       "        vertical-align: top;\n",
       "    }\n",
       "\n",
       "    .dataframe thead th {\n",
       "        text-align: right;\n",
       "    }\n",
       "</style>\n",
       "<table border=\"1\" class=\"dataframe\">\n",
       "  <thead>\n",
       "    <tr style=\"text-align: right;\">\n",
       "      <th></th>\n",
       "      <th>prob</th>\n",
       "    </tr>\n",
       "    <tr>\n",
       "      <th>prob_decile</th>\n",
       "      <th></th>\n",
       "    </tr>\n",
       "  </thead>\n",
       "  <tbody>\n",
       "    <tr>\n",
       "      <th>0</th>\n",
       "      <td>15.323277</td>\n",
       "    </tr>\n",
       "    <tr>\n",
       "      <th>1</th>\n",
       "      <td>7.998708</td>\n",
       "    </tr>\n",
       "    <tr>\n",
       "      <th>2</th>\n",
       "      <td>4.758042</td>\n",
       "    </tr>\n",
       "    <tr>\n",
       "      <th>3</th>\n",
       "      <td>2.885835</td>\n",
       "    </tr>\n",
       "    <tr>\n",
       "      <th>4</th>\n",
       "      <td>1.784265</td>\n",
       "    </tr>\n",
       "    <tr>\n",
       "      <th>5</th>\n",
       "      <td>1.110027</td>\n",
       "    </tr>\n",
       "    <tr>\n",
       "      <th>6</th>\n",
       "      <td>0.671900</td>\n",
       "    </tr>\n",
       "    <tr>\n",
       "      <th>7</th>\n",
       "      <td>0.414231</td>\n",
       "    </tr>\n",
       "    <tr>\n",
       "      <th>8</th>\n",
       "      <td>0.279053</td>\n",
       "    </tr>\n",
       "    <tr>\n",
       "      <th>9</th>\n",
       "      <td>0.136706</td>\n",
       "    </tr>\n",
       "  </tbody>\n",
       "</table>\n",
       "</div>"
      ],
      "text/plain": [
       "                  prob\n",
       "prob_decile           \n",
       "0            15.323277\n",
       "1             7.998708\n",
       "2             4.758042\n",
       "3             2.885835\n",
       "4             1.784265\n",
       "5             1.110027\n",
       "6             0.671900\n",
       "7             0.414231\n",
       "8             0.279053\n",
       "9             0.136706"
      ]
     },
     "execution_count": 203,
     "metadata": {},
     "output_type": "execute_result"
    }
   ],
   "source": [
    "# Min prob of stroke\n",
    "t2 = df_train[['prob', 'prob_decile']].groupby(by='prob_decile').min() * 100\n",
    "t2"
   ]
  },
  {
   "cell_type": "code",
   "execution_count": 204,
   "metadata": {},
   "outputs": [
    {
     "data": {
      "text/plain": [
       "prob\n",
       "0    43.010753\n",
       "1    26.344086\n",
       "2    12.903226\n",
       "3     7.526882\n",
       "4     4.838710\n",
       "5     3.763441\n",
       "6     1.612903\n",
       "7     0.000000\n",
       "8     0.000000\n",
       "9     0.000000\n",
       "Name: 1, dtype: float64"
      ]
     },
     "execution_count": 204,
     "metadata": {},
     "output_type": "execute_result"
    }
   ],
   "source": [
    "# Event covered\n",
    "t3 = pd.crosstab(prob_deciles_train, df_train.stroke).iloc[:,1] / np.sum(pd.crosstab(prob_deciles_train, df_train.stroke).iloc[:,1]) * 100\n",
    "t3"
   ]
  },
  {
   "cell_type": "code",
   "execution_count": 205,
   "metadata": {},
   "outputs": [
    {
     "data": {
      "text/plain": [
       "prob\n",
       "0    20.833333\n",
       "1    12.793734\n",
       "2     6.266319\n",
       "3     3.655352\n",
       "4     2.349869\n",
       "5     1.827676\n",
       "6     0.783290\n",
       "7     0.000000\n",
       "8     0.000000\n",
       "9     0.000000\n",
       "Name: 1, dtype: float64"
      ]
     },
     "execution_count": 205,
     "metadata": {},
     "output_type": "execute_result"
    }
   ],
   "source": [
    "# Event %\n",
    "t4 = pd.crosstab(prob_deciles_train, df_train.stroke, normalize='index').iloc[:,1] * 100\n",
    "t4"
   ]
  },
  {
   "cell_type": "code",
   "execution_count": 206,
   "metadata": {},
   "outputs": [
    {
     "data": {
      "text/plain": [
       "prob\n",
       "0     43.010753\n",
       "1     69.354839\n",
       "2     82.258065\n",
       "3     89.784946\n",
       "4     94.623656\n",
       "5     98.387097\n",
       "6    100.000000\n",
       "7    100.000000\n",
       "8    100.000000\n",
       "9    100.000000\n",
       "Name: 1, dtype: float64"
      ]
     },
     "execution_count": 206,
     "metadata": {},
     "output_type": "execute_result"
    }
   ],
   "source": [
    "t5 = t3.cumsum()\n",
    "t5"
   ]
  },
  {
   "cell_type": "code",
   "execution_count": 207,
   "metadata": {},
   "outputs": [
    {
     "data": {
      "text/plain": [
       "4.853862212943633"
      ]
     },
     "execution_count": 207,
     "metadata": {},
     "output_type": "execute_result"
    }
   ],
   "source": [
    "overall_event_rate = np.sum(t1.iloc[:, 1]) / df_train.shape[0] * 100\n",
    "overall_event_rate"
   ]
  },
  {
   "cell_type": "code",
   "execution_count": 208,
   "metadata": {},
   "outputs": [
    {
     "data": {
      "text/plain": [
       "prob\n",
       "0    4.292115\n",
       "1    2.635784\n",
       "2    1.290996\n",
       "3    0.753081\n",
       "4    0.484124\n",
       "5    0.376541\n",
       "6    0.161375\n",
       "7    0.000000\n",
       "8    0.000000\n",
       "9    0.000000\n",
       "Name: 1, dtype: float64"
      ]
     },
     "execution_count": 208,
     "metadata": {},
     "output_type": "execute_result"
    }
   ],
   "source": [
    "t6 = t4 / overall_event_rate\n",
    "t6"
   ]
  },
  {
   "cell_type": "code",
   "execution_count": 209,
   "metadata": {},
   "outputs": [
    {
     "data": {
      "text/html": [
       "<div>\n",
       "<style scoped>\n",
       "    .dataframe tbody tr th:only-of-type {\n",
       "        vertical-align: middle;\n",
       "    }\n",
       "\n",
       "    .dataframe tbody tr th {\n",
       "        vertical-align: top;\n",
       "    }\n",
       "\n",
       "    .dataframe thead th {\n",
       "        text-align: right;\n",
       "    }\n",
       "</style>\n",
       "<table border=\"1\" class=\"dataframe\">\n",
       "  <thead>\n",
       "    <tr style=\"text-align: right;\">\n",
       "      <th></th>\n",
       "      <th>0</th>\n",
       "      <th>1</th>\n",
       "      <th>Min_prob_of_stroke</th>\n",
       "      <th>Event_percent</th>\n",
       "      <th>Event_covered</th>\n",
       "      <th>Cumulative_event_covered</th>\n",
       "      <th>Lift</th>\n",
       "    </tr>\n",
       "  </thead>\n",
       "  <tbody>\n",
       "    <tr>\n",
       "      <th>0</th>\n",
       "      <td>304.0</td>\n",
       "      <td>80.0</td>\n",
       "      <td>15.323277</td>\n",
       "      <td>20.833333</td>\n",
       "      <td>43.010753</td>\n",
       "      <td>43.010753</td>\n",
       "      <td>4.292115</td>\n",
       "    </tr>\n",
       "    <tr>\n",
       "      <th>1</th>\n",
       "      <td>334.0</td>\n",
       "      <td>49.0</td>\n",
       "      <td>7.998708</td>\n",
       "      <td>12.793734</td>\n",
       "      <td>26.344086</td>\n",
       "      <td>69.354839</td>\n",
       "      <td>2.635784</td>\n",
       "    </tr>\n",
       "    <tr>\n",
       "      <th>2</th>\n",
       "      <td>359.0</td>\n",
       "      <td>24.0</td>\n",
       "      <td>4.758042</td>\n",
       "      <td>6.266319</td>\n",
       "      <td>12.903226</td>\n",
       "      <td>82.258065</td>\n",
       "      <td>1.290996</td>\n",
       "    </tr>\n",
       "    <tr>\n",
       "      <th>3</th>\n",
       "      <td>369.0</td>\n",
       "      <td>14.0</td>\n",
       "      <td>2.885835</td>\n",
       "      <td>3.655352</td>\n",
       "      <td>7.526882</td>\n",
       "      <td>89.784946</td>\n",
       "      <td>0.753081</td>\n",
       "    </tr>\n",
       "    <tr>\n",
       "      <th>4</th>\n",
       "      <td>374.0</td>\n",
       "      <td>9.0</td>\n",
       "      <td>1.784265</td>\n",
       "      <td>2.349869</td>\n",
       "      <td>4.838710</td>\n",
       "      <td>94.623656</td>\n",
       "      <td>0.484124</td>\n",
       "    </tr>\n",
       "    <tr>\n",
       "      <th>5</th>\n",
       "      <td>376.0</td>\n",
       "      <td>7.0</td>\n",
       "      <td>1.110027</td>\n",
       "      <td>1.827676</td>\n",
       "      <td>3.763441</td>\n",
       "      <td>98.387097</td>\n",
       "      <td>0.376541</td>\n",
       "    </tr>\n",
       "    <tr>\n",
       "      <th>6</th>\n",
       "      <td>380.0</td>\n",
       "      <td>3.0</td>\n",
       "      <td>0.671900</td>\n",
       "      <td>0.783290</td>\n",
       "      <td>1.612903</td>\n",
       "      <td>100.000000</td>\n",
       "      <td>0.161375</td>\n",
       "    </tr>\n",
       "    <tr>\n",
       "      <th>7</th>\n",
       "      <td>383.0</td>\n",
       "      <td>0.0</td>\n",
       "      <td>0.414231</td>\n",
       "      <td>0.000000</td>\n",
       "      <td>0.000000</td>\n",
       "      <td>100.000000</td>\n",
       "      <td>0.000000</td>\n",
       "    </tr>\n",
       "    <tr>\n",
       "      <th>8</th>\n",
       "      <td>383.0</td>\n",
       "      <td>0.0</td>\n",
       "      <td>0.279053</td>\n",
       "      <td>0.000000</td>\n",
       "      <td>0.000000</td>\n",
       "      <td>100.000000</td>\n",
       "      <td>0.000000</td>\n",
       "    </tr>\n",
       "    <tr>\n",
       "      <th>9</th>\n",
       "      <td>384.0</td>\n",
       "      <td>0.0</td>\n",
       "      <td>0.136706</td>\n",
       "      <td>0.000000</td>\n",
       "      <td>0.000000</td>\n",
       "      <td>100.000000</td>\n",
       "      <td>0.000000</td>\n",
       "    </tr>\n",
       "  </tbody>\n",
       "</table>\n",
       "</div>"
      ],
      "text/plain": [
       "       0     1  Min_prob_of_stroke  Event_percent  Event_covered  \\\n",
       "0  304.0  80.0           15.323277      20.833333      43.010753   \n",
       "1  334.0  49.0            7.998708      12.793734      26.344086   \n",
       "2  359.0  24.0            4.758042       6.266319      12.903226   \n",
       "3  369.0  14.0            2.885835       3.655352       7.526882   \n",
       "4  374.0   9.0            1.784265       2.349869       4.838710   \n",
       "5  376.0   7.0            1.110027       1.827676       3.763441   \n",
       "6  380.0   3.0            0.671900       0.783290       1.612903   \n",
       "7  383.0   0.0            0.414231       0.000000       0.000000   \n",
       "8  383.0   0.0            0.279053       0.000000       0.000000   \n",
       "9  384.0   0.0            0.136706       0.000000       0.000000   \n",
       "\n",
       "   Cumulative_event_covered      Lift  \n",
       "0                 43.010753  4.292115  \n",
       "1                 69.354839  2.635784  \n",
       "2                 82.258065  1.290996  \n",
       "3                 89.784946  0.753081  \n",
       "4                 94.623656  0.484124  \n",
       "5                 98.387097  0.376541  \n",
       "6                100.000000  0.161375  \n",
       "7                100.000000  0.000000  \n",
       "8                100.000000  0.000000  \n",
       "9                100.000000  0.000000  "
      ]
     },
     "execution_count": 209,
     "metadata": {},
     "output_type": "execute_result"
    }
   ],
   "source": [
    "table = pd.DataFrame(data=np.transpose([list(t1.iloc[:,0]), list(t1.iloc[:,1]), list(t2.iloc[:,0]), list(t4), list(t3), list(t5), list(t6)]),\n",
    "                    columns=['0', '1', 'Min_prob_of_stroke', 'Event_percent', 'Event_covered', 'Cumulative_event_covered', 'Lift'])\n",
    "table"
   ]
  },
  {
   "cell_type": "markdown",
   "metadata": {},
   "source": [
    "### So, we take 0.0475 as the cutoff"
   ]
  },
  {
   "cell_type": "code",
   "execution_count": 210,
   "metadata": {},
   "outputs": [],
   "source": [
    "cutoff = 0.0475"
   ]
  },
  {
   "cell_type": "code",
   "execution_count": 211,
   "metadata": {},
   "outputs": [],
   "source": [
    "y_test_prob = logr.predict_proba(x_test)"
   ]
  },
  {
   "cell_type": "code",
   "execution_count": 212,
   "metadata": {},
   "outputs": [],
   "source": [
    "y_predicted_test = [1 if p[1] > cutoff else 0 for p in y_test_prob]"
   ]
  },
  {
   "cell_type": "code",
   "execution_count": 188,
   "metadata": {},
   "outputs": [
    {
     "name": "stdout",
     "output_type": "stream",
     "text": [
      "              precision    recall  f1-score   support\n",
      "\n",
      "           0       0.99      0.66      0.79      1216\n",
      "           1       0.12      0.90      0.21        62\n",
      "\n",
      "    accuracy                           0.67      1278\n",
      "   macro avg       0.56      0.78      0.50      1278\n",
      "weighted avg       0.95      0.67      0.76      1278\n",
      "\n"
     ]
    }
   ],
   "source": [
    "print(classification_report(y_test, y_predicted_test))"
   ]
  },
  {
   "cell_type": "code",
   "execution_count": null,
   "metadata": {},
   "outputs": [],
   "source": []
  }
 ],
 "metadata": {
  "kernelspec": {
   "display_name": "Python 3",
   "language": "python",
   "name": "python3"
  },
  "language_info": {
   "codemirror_mode": {
    "name": "ipython",
    "version": 3
   },
   "file_extension": ".py",
   "mimetype": "text/x-python",
   "name": "python",
   "nbconvert_exporter": "python",
   "pygments_lexer": "ipython3",
   "version": "3.8.5"
  }
 },
 "nbformat": 4,
 "nbformat_minor": 4
}
